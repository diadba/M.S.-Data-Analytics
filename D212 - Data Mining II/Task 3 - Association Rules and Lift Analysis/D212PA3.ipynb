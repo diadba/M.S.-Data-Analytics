{
 "cells": [
  {
   "cell_type": "markdown",
   "id": "bb80aaf6-a912-4ce9-a4df-9db339c07ed0",
   "metadata": {},
   "source": [
    "## D212 Performance Assessment - Association Rules and Lift Analysis\n",
    "\n",
    "**Name:** Coots, Anthony.  \n",
    "**Affiliation:** Grad Student M.Sc Data Analytics. <br />\n",
    "**Date:** `2024-06-02`  \n",
    "**Version:** 1.0.0, r0."
   ]
  },
  {
   "cell_type": "markdown",
   "id": "3c831c5d-fcd2-4050-b64f-52c88cb26119",
   "metadata": {},
   "source": [
    "### Introduction"
   ]
  },
  {
   "cell_type": "markdown",
   "id": "9a3db0bd-ff66-4476-8ca7-f643775f102f",
   "metadata": {},
   "source": [
    "\"In this task, you will act as an analyst and create a data mining report. You must select one of the data dictionary and data set files to use for your report from the following web link: \"[Data Sets and Associated Data Dictionaries.](https://access.wgu.edu/ASP3/aap/content/jf8rcds032ldktfces9r.html)\"\"\n",
    "\n",
    "*- WGU*"
   ]
  },
  {
   "cell_type": "markdown",
   "id": "bc584fc3-e44a-48bc-80e8-b8aeaf89ef3a",
   "metadata": {},
   "source": [
    "### Competencies"
   ]
  },
  {
   "cell_type": "markdown",
   "id": "5509c5fe-2097-489e-aafb-1cf98dabe80b",
   "metadata": {},
   "source": [
    "4030.6.6 : Pattern Predictions\n",
    "- The graduate predicts patterns in data using association rules and lift analysis."
   ]
  },
  {
   "cell_type": "markdown",
   "id": "7a605d6e-4d5e-4fec-aa2d-77c1b13bb24e",
   "metadata": {},
   "source": [
    "### Scenario"
   ]
  },
  {
   "cell_type": "markdown",
   "id": "583a93ac-33f3-495f-9dc1-9191ac4b7e2b",
   "metadata": {},
   "source": [
    "\"One of the most critical factors in patient relationship management that directly affects a hospital's long-term cost-effectiveness is understanding the patients and the conditions leading to hospital admissions. When a hospital understands its patients' characteristics, it is better able to target treatment to patients, resulting in a more effective cost of care for the hospital in the long term.\n",
    "\n",
    "You are an analyst for a hospital that wants to better understand the characteristics of its patients. You have been asked to perform a market basket analysis to analyze patient data to identify key associations of your patients, ultimately enabling better business and strategic decision-making for the hospital.\"\n",
    "\n",
    "*- WGU*"
   ]
  },
  {
   "cell_type": "markdown",
   "id": "89397a1a-5063-46d1-86a2-d91aad606f93",
   "metadata": {},
   "source": [
    "<br /><br /><br /><br />"
   ]
  },
  {
   "cell_type": "markdown",
   "id": "83e4d283-1134-45ba-89ab-1ebd99946b14",
   "metadata": {},
   "source": [
    "### Table of Contents:\n",
    "- [Research Question](#Research-Question)\n",
    "    - [Proposal of Question](#Proposal-of-Question)\n",
    "    - [Defined Goal](#Defined-Goal)\n",
    "- [Market Basket Justification](#Market-Basket-Justification)\n",
    "    - [Explanation of Market Basket](#Explanation-of-Market-Basket)\n",
    "    - [Transaction Example](#Transaction-Example)\n",
    "    - [Market Basket Assumption](#Market-Basket-Assumption)\n",
    "- [Data Preparation and Analysis](#Data-Preparation-and-Analysis)\n",
    "    - [Transforming the Data Set](#Transforming-the-Data-Set)\n",
    "    - [Code Execution](#Code-Execution)\n",
    "    - [Association Rules Table](#Association-Rules-Table)\n",
    "    - [Top Three Rules](#Top-Three-Rules)\n",
    "- [Data Summary and Implications](#Data-Summary-and-Implications)\n",
    "    - [Significance of Support, Lift, and Confidence Summary](#Significance-of-Support,-Lift,-and-Confidence-Summary)\n",
    "    - [Practical Significance of Findings](#Practical-Significance-of-Findings)\n",
    "    - [Course of Action](#Course-of-Action)\n",
    "- [Attachments](#Attachments)\n",
    "    - [Panopto Recording](#Panopto-Recording)\n",
    "    - [Sources for Third-Party Code](#Sources-for-Third--Party-Code)\n",
    "    - [Sources](#Sources)"
   ]
  },
  {
   "cell_type": "markdown",
   "id": "c5161036-2228-402d-8618-0ffc94e07a85",
   "metadata": {},
   "source": [
    "<br /><br /><br /><br /><br /><br /><br /><br /><br /><br /><br /><br /><br /><br /><br /><br /><br /><br />"
   ]
  },
  {
   "cell_type": "markdown",
   "id": "0cc83848-9489-4a0f-847d-e6b3be2a4714",
   "metadata": {},
   "source": [
    "## Research Question<a name=\"Research-Question\"></a>"
   ]
  },
  {
   "cell_type": "markdown",
   "id": "a13ca2ef-286a-447e-8e3d-90768d356eab",
   "metadata": {},
   "source": [
    "### A1: Proposal of Question <a name=\"Proposal-of-Question\"></a>"
   ]
  },
  {
   "cell_type": "markdown",
   "id": "a235e500-705c-4859-9d1e-cea08b5b38f0",
   "metadata": {},
   "source": [
    "*Propose one question that can be answered using market basket analysis and is relevant to a real-world organizational situation*."
   ]
  },
  {
   "cell_type": "markdown",
   "id": "a6d15918-7429-4f8a-b24d-911b67a1235c",
   "metadata": {},
   "source": [
    "&nbsp;&nbsp;&nbsp;&nbsp;&nbsp;&nbsp;Market Basket analysis can be used to determine patterns of prescriptions that are statistically backed by metric measurements. Metrics such as support, confidence and lift help provide insight based on antecedent and consequent, or if-then structure. Support, to help determine how frequently a combination of prescriptions occur. Confidence, to provide insight into the likeliness of drug or vitamin B being prescribed if drug or vitamin A was. Lastly lift, to observe the frequency of drug, vitamin, etc A and B being prescribed together with the frequency as if they were independent of one another. By using these metrics to facilitate Market Basket analysis, the following question is proposed:"
   ]
  },
  {
   "cell_type": "markdown",
   "id": "dc4ad7d7-2518-492a-b099-de08711ffe90",
   "metadata": {},
   "source": [
    "Question: \"*What prescriptions are associated with patients based on support, confidence and lift in order to effectively determine prescription patterns for hospital insights*?\""
   ]
  },
  {
   "cell_type": "markdown",
   "id": "cd3161ff-f884-4b3c-97b5-99f9f0e43c79",
   "metadata": {},
   "source": [
    "### A2: Defined Goal <a name=\"Defined-Goal\"></a>"
   ]
  },
  {
   "cell_type": "markdown",
   "id": "a27228c3-5dca-4cad-9fd5-6a0b5c11e49c",
   "metadata": {},
   "source": [
    "*Define one reasonable goal of the data analysis that is within the scope of the scenario and is represented in the available data*."
   ]
  },
  {
   "cell_type": "markdown",
   "id": "ffb7ac3b-caa5-4f19-86ed-1a717da03aae",
   "metadata": {},
   "source": [
    "&nbsp;&nbsp;&nbsp;&nbsp;&nbsp;&nbsp;The goal of the Market Basket analysis is to determine prescription patterns of the twenty available prescription columns (Presc01-Presc20). The patterns found among these prescriptions could provide important insight for hospital operations such as common treatment patterns, inventory management and more. Using metrics such as support, confidence and lift, then later multimetric filtering will be used to identify the patterns between all antecedents and consequents. "
   ]
  },
  {
   "cell_type": "markdown",
   "id": "a8abdf2d-491d-4d45-b926-58267715ca2a",
   "metadata": {},
   "source": [
    "<br /><br /><br /><br /><br /><br /><br /><br /><br /><br />"
   ]
  },
  {
   "cell_type": "markdown",
   "id": "962e6dd6-69f5-4c71-857d-58bb116e0e0b",
   "metadata": {},
   "source": [
    "## Market Basket Justification <a name=\"Market-Basket-Justification\"></a>"
   ]
  },
  {
   "cell_type": "markdown",
   "id": "57597335-7181-4825-9a68-a889637d9c48",
   "metadata": {},
   "source": [
    "### B1: Explanation of Market Basket <a name=\"Explanation-of-Market-Basket\"></a>"
   ]
  },
  {
   "cell_type": "markdown",
   "id": "2a563454-43c5-4d84-8b2b-9fc229d1abc6",
   "metadata": {},
   "source": [
    "*Logically explain how market basket analyzes the selected data set and include expected outcomes*."
   ]
  },
  {
   "attachments": {},
   "cell_type": "markdown",
   "id": "6e051d9b-0061-4342-aad3-e423aa3199f9",
   "metadata": {},
   "source": [
    "&nbsp;&nbsp;&nbsp;&nbsp;&nbsp;&nbsp;Market Basket analysis at it's foundation, identifies patterns based on historical data. With the twenty prescription variables available, this analysis finds these patterns based on 'if-then' or antecedent consequent structure. For example, if medication A is prescribed, then medication B is also prescribed. The frequency of this combination is the make up of the 'support' metric. 'Confidence,' then measures the likeliness of medication B being prescribed when medication A is. Lastly, 'lift' addresses the frequency of medications A and B being together only relative to the independent frequencies of medications A and B alone. These metrics are used to facilitate Market Basket analysis. The expected outcomes of this analysis identify the prescription patters being filtered by multimetric considerations (minimum threshold scores, minimum support, single antecedents, etc) which may provide insight into patient care and hospital operation."
   ]
  },
  {
   "cell_type": "markdown",
   "id": "282f4720-a34a-4fc2-8c2f-68b2b3e18668",
   "metadata": {},
   "source": [
    "### B2: Transaction Example <a name=\"Transaction-Example\"></a>"
   ]
  },
  {
   "cell_type": "markdown",
   "id": "a041c01a-38de-4700-a781-708fd5f3d4cf",
   "metadata": {},
   "source": [
    "*Include one accurate example of transactions in the data set*."
   ]
  },
  {
   "attachments": {
    "83c612c3-02c6-42c3-a03c-9e409aaca0fe.png": {
     "image/png": "[encoded data removed]"
    }
   },
   "cell_type": "markdown",
   "id": "71fe5a2f-0266-4f6f-9b41-1abb2372071c",
   "metadata": {},
   "source": [
    "![Untitled2.png](attachment:83c612c3-02c6-42c3-a03c-9e409aaca0fe.png)<br /><br />\n",
    "&nbsp;&nbsp;&nbsp;&nbsp;&nbsp;&nbsp;The above image includes transactions from the data set used in the analysis. For example, the prescriptions 'Abilify' and 'Diazepam' appear together in multiple transactions. This pairing could suggest a potential pattern where both medications are prescribed commonly which may indicate a potential common treatment pattern or could be used for inventory arrangement/management for easier patient assessment. However, to confirm the significance of this pattern it is important to seek the support, confidence, and lift metrics to determine such significance of this \"pattern.\""
   ]
  },
  {
   "cell_type": "markdown",
   "id": "afda9c12-ea2c-4da3-a2af-6b9322e64aa4",
   "metadata": {},
   "source": [
    "<br /><br /><br /><br />"
   ]
  },
  {
   "cell_type": "markdown",
   "id": "f9941a4b-842f-4d38-a4ac-87b947be5521",
   "metadata": {},
   "source": [
    "### B3: Market Basket Assumption <a name=\"Market-Basket-Assumption\"></a>"
   ]
  },
  {
   "cell_type": "markdown",
   "id": "c1b1e701-af81-4801-b628-67ed796a0442",
   "metadata": {},
   "source": [
    "*Summarize one assumption of market basket analysis*."
   ]
  },
  {
   "cell_type": "markdown",
   "id": "fd8e3a59-f7b7-4b57-89f4-432df0b811ef",
   "metadata": {},
   "source": [
    "&nbsp;&nbsp;&nbsp;&nbsp;&nbsp;&nbsp;Market Basket analysis can use a couple of different algorithms under the hood, but for this analysis the '*Apriori*' algorithm is used. The '*Apriori*' algorithm assumes it's key principle otherwise known as the '*Apriori principle*.' This principle, or assumption, is that if an itemset is infrequent then all of its supersets are also infrequent. The converse is also assumed. This assumption is important because by limiting the number of itemsets the algorithm needs to examine will reduce the computational complexity thus allowing the '*Apriori*' algorithm to generate the association rules more efficiently. The association rules that can be used to answer the question in A1, using metrics like support, confidence and lift."
   ]
  },
  {
   "cell_type": "markdown",
   "id": "a949d2aa-bb35-433c-afd7-b33bbddfa024",
   "metadata": {},
   "source": [
    "<br /><br /><br /><br /><br /><br /><br /><br /><br /><br /><br /><br /><br /><br /><br /><br /><br /><br /><br /><br /><br /><br /><br /><br /><br /><br /><br /><br />"
   ]
  },
  {
   "cell_type": "markdown",
   "id": "9f95abd4-5a26-48b9-a87a-8a0325b71384",
   "metadata": {},
   "source": [
    "## Data Preparation and Analysis <a name=\"Data-Preparation-and-Analysis\"></a>"
   ]
  },
  {
   "cell_type": "markdown",
   "id": "3eae74f0-8340-49ca-8727-4544f2cf50db",
   "metadata": {},
   "source": [
    "### C1: Transforming the Data Set <a name=\"Transforming-the-Data-Set\"></a>"
   ]
  },
  {
   "cell_type": "markdown",
   "id": "a31a8c05-aa69-4aab-bd99-a38e2dfe4816",
   "metadata": {},
   "source": [
    "*Transform the data set to make it suitable for market basket analysis*."
   ]
  },
  {
   "cell_type": "code",
   "execution_count": 1,
   "id": "fc527286-a931-483d-9470-3f83b328a018",
   "metadata": {},
   "outputs": [],
   "source": [
    "# Needed install."
   ]
  },
  {
   "cell_type": "code",
   "execution_count": 2,
   "id": "61bd0e60-d82a-4b9a-b250-a9c8681ba51d",
   "metadata": {},
   "outputs": [
    {
     "name": "stdout",
     "output_type": "stream",
     "text": [
      "Requirement already satisfied: mlxtend in c:\\users\\acoots\\appdata\\local\\anaconda3\\lib\\site-packages (0.23.1)\n",
      "Requirement already satisfied: scipy>=1.2.1 in c:\\users\\acoots\\appdata\\local\\anaconda3\\lib\\site-packages (from mlxtend) (1.11.4)\n",
      "Requirement already satisfied: numpy>=1.16.2 in c:\\users\\acoots\\appdata\\local\\anaconda3\\lib\\site-packages (from mlxtend) (1.26.4)\n",
      "Requirement already satisfied: pandas>=0.24.2 in c:\\users\\acoots\\appdata\\local\\anaconda3\\lib\\site-packages (from mlxtend) (2.1.4)\n",
      "Requirement already satisfied: scikit-learn>=1.0.2 in c:\\users\\acoots\\appdata\\local\\anaconda3\\lib\\site-packages (from mlxtend) (1.2.2)\n",
      "Requirement already satisfied: matplotlib>=3.0.0 in c:\\users\\acoots\\appdata\\local\\anaconda3\\lib\\site-packages (from mlxtend) (3.8.0)\n",
      "Requirement already satisfied: joblib>=0.13.2 in c:\\users\\acoots\\appdata\\local\\anaconda3\\lib\\site-packages (from mlxtend) (1.2.0)\n",
      "Requirement already satisfied: contourpy>=1.0.1 in c:\\users\\acoots\\appdata\\local\\anaconda3\\lib\\site-packages (from matplotlib>=3.0.0->mlxtend) (1.2.0)\n",
      "Requirement already satisfied: cycler>=0.10 in c:\\users\\acoots\\appdata\\local\\anaconda3\\lib\\site-packages (from matplotlib>=3.0.0->mlxtend) (0.11.0)\n",
      "Requirement already satisfied: fonttools>=4.22.0 in c:\\users\\acoots\\appdata\\local\\anaconda3\\lib\\site-packages (from matplotlib>=3.0.0->mlxtend) (4.25.0)\n",
      "Requirement already satisfied: kiwisolver>=1.0.1 in c:\\users\\acoots\\appdata\\local\\anaconda3\\lib\\site-packages (from matplotlib>=3.0.0->mlxtend) (1.4.4)\n",
      "Requirement already satisfied: packaging>=20.0 in c:\\users\\acoots\\appdata\\local\\anaconda3\\lib\\site-packages (from matplotlib>=3.0.0->mlxtend) (23.1)\n",
      "Requirement already satisfied: pillow>=6.2.0 in c:\\users\\acoots\\appdata\\local\\anaconda3\\lib\\site-packages (from matplotlib>=3.0.0->mlxtend) (10.2.0)\n",
      "Requirement already satisfied: pyparsing>=2.3.1 in c:\\users\\acoots\\appdata\\local\\anaconda3\\lib\\site-packages (from matplotlib>=3.0.0->mlxtend) (3.0.9)\n",
      "Requirement already satisfied: python-dateutil>=2.7 in c:\\users\\acoots\\appdata\\local\\anaconda3\\lib\\site-packages (from matplotlib>=3.0.0->mlxtend) (2.8.2)\n",
      "Requirement already satisfied: pytz>=2020.1 in c:\\users\\acoots\\appdata\\local\\anaconda3\\lib\\site-packages (from pandas>=0.24.2->mlxtend) (2023.3.post1)\n",
      "Requirement already satisfied: tzdata>=2022.1 in c:\\users\\acoots\\appdata\\local\\anaconda3\\lib\\site-packages (from pandas>=0.24.2->mlxtend) (2023.3)\n",
      "Requirement already satisfied: threadpoolctl>=2.0.0 in c:\\users\\acoots\\appdata\\local\\anaconda3\\lib\\site-packages (from scikit-learn>=1.0.2->mlxtend) (2.2.0)\n",
      "Requirement already satisfied: six>=1.5 in c:\\users\\acoots\\appdata\\local\\anaconda3\\lib\\site-packages (from python-dateutil>=2.7->matplotlib>=3.0.0->mlxtend) (1.16.0)\n",
      "Note: you may need to restart the kernel to use updated packages.\n"
     ]
    }
   ],
   "source": [
    "pip install mlxtend"
   ]
  },
  {
   "cell_type": "markdown",
   "id": "4bbe99d2-e164-44cf-9f8e-f1b3a6d83770",
   "metadata": {},
   "source": [
    "<br />"
   ]
  },
  {
   "cell_type": "code",
   "execution_count": 3,
   "id": "385034de-916d-4584-8403-8bfe18f8d3fd",
   "metadata": {},
   "outputs": [],
   "source": [
    "# Import list.\n",
    "import matplotlib.pyplot as plt\n",
    "from mlxtend.frequent_patterns import apriori, association_rules\n",
    "import numpy as np\n",
    "import os\n",
    "import pandas as pd\n",
    "import seaborn as sns"
   ]
  },
  {
   "cell_type": "code",
   "execution_count": 4,
   "id": "55b8d37e-ce82-4e7e-b773-06d1cfffc506",
   "metadata": {},
   "outputs": [
    {
     "name": "stdout",
     "output_type": "stream",
     "text": [
      "\n",
      "\n",
      " Current Working Directory: C:\\Users\\acoots\\Desktop\\Personal\\Education\\WGU\\Data Analytics, M.S\\D212 - Data Mining II\\Task 3 - Association Rules and Lift Analysis\n",
      "\n"
     ]
    }
   ],
   "source": [
    "# What is my current working directory?\n",
    "print(\"\\n\\n Current Working Directory: \" + os.getcwd() + '\\n')"
   ]
  },
  {
   "cell_type": "code",
   "execution_count": 5,
   "id": "f9cd1f5e-9620-4861-a13a-1a0888cc3986",
   "metadata": {},
   "outputs": [],
   "source": [
    "# Read data into DataFrame.\n",
    "df = pd.read_csv(\"medical_market_basket.csv\")"
   ]
  },
  {
   "cell_type": "code",
   "execution_count": 6,
   "id": "653b7857-5131-414a-bdc3-41dae8af37dd",
   "metadata": {},
   "outputs": [
    {
     "name": "stdout",
     "output_type": "stream",
     "text": [
      "      Presc01            Presc02                    Presc03       Presc04  \\\n",
      "0         NaN                NaN                        NaN           NaN   \n",
      "1  amlodipine  albuterol aerosol                allopurinol  pantoprazole   \n",
      "2         NaN                NaN                        NaN           NaN   \n",
      "3  citalopram            benicar  amphetamine salt combo xr           NaN   \n",
      "4         NaN                NaN                        NaN           NaN   \n",
      "\n",
      "     Presc05     Presc06     Presc07      Presc08     Presc09      Presc10  \\\n",
      "0        NaN         NaN         NaN          NaN         NaN          NaN   \n",
      "1  lorazepam  omeprazole  mometasone  fluconozole  gabapentin  pravastatin   \n",
      "2        NaN         NaN         NaN          NaN         NaN          NaN   \n",
      "3        NaN         NaN         NaN          NaN         NaN          NaN   \n",
      "4        NaN         NaN         NaN          NaN         NaN          NaN   \n",
      "\n",
      "  Presc11   Presc12                  Presc13           Presc14  Presc15  \\\n",
      "0     NaN       NaN                      NaN               NaN      NaN   \n",
      "1  cialis  losartan  metoprolol succinate XL  sulfamethoxazole  abilify   \n",
      "2     NaN       NaN                      NaN               NaN      NaN   \n",
      "3     NaN       NaN                      NaN               NaN      NaN   \n",
      "4     NaN       NaN                      NaN               NaN      NaN   \n",
      "\n",
      "          Presc16        Presc17       Presc18       Presc19    Presc20  \n",
      "0             NaN            NaN           NaN           NaN        NaN  \n",
      "1  spironolactone  albuterol HFA  levofloxacin  promethazine  glipizide  \n",
      "2             NaN            NaN           NaN           NaN        NaN  \n",
      "3             NaN            NaN           NaN           NaN        NaN  \n",
      "4             NaN            NaN           NaN           NaN        NaN  \n"
     ]
    }
   ],
   "source": [
    "# Display current state.\n",
    "print(df.head())"
   ]
  },
  {
   "cell_type": "code",
   "execution_count": 7,
   "id": "32b6189e-2230-4ad0-b473-f00651811db3",
   "metadata": {},
   "outputs": [],
   "source": [
    "# Every other row is completely empty in the data set, we'll drop those rows.\n",
    "df = df.dropna(how = 'all')\n",
    "# Reset row number.\n",
    "df = df.reset_index(drop = True)"
   ]
  },
  {
   "cell_type": "code",
   "execution_count": 8,
   "id": "e299d5c4-3f8c-45b4-93ca-4cda77ef3426",
   "metadata": {},
   "outputs": [
    {
     "name": "stdout",
     "output_type": "stream",
     "text": [
      "      Presc01            Presc02                    Presc03       Presc04  \\\n",
      "0  amlodipine  albuterol aerosol                allopurinol  pantoprazole   \n",
      "1  citalopram            benicar  amphetamine salt combo xr           NaN   \n",
      "2   enalapril                NaN                        NaN           NaN   \n",
      "3  paroxetine        allopurinol                        NaN           NaN   \n",
      "4     abilify       atorvastatin                 folic acid      naproxen   \n",
      "\n",
      "     Presc05     Presc06     Presc07      Presc08     Presc09      Presc10  \\\n",
      "0  lorazepam  omeprazole  mometasone  fluconozole  gabapentin  pravastatin   \n",
      "1        NaN         NaN         NaN          NaN         NaN          NaN   \n",
      "2        NaN         NaN         NaN          NaN         NaN          NaN   \n",
      "3        NaN         NaN         NaN          NaN         NaN          NaN   \n",
      "4   losartan         NaN         NaN          NaN         NaN          NaN   \n",
      "\n",
      "  Presc11   Presc12                  Presc13           Presc14  Presc15  \\\n",
      "0  cialis  losartan  metoprolol succinate XL  sulfamethoxazole  abilify   \n",
      "1     NaN       NaN                      NaN               NaN      NaN   \n",
      "2     NaN       NaN                      NaN               NaN      NaN   \n",
      "3     NaN       NaN                      NaN               NaN      NaN   \n",
      "4     NaN       NaN                      NaN               NaN      NaN   \n",
      "\n",
      "          Presc16        Presc17       Presc18       Presc19    Presc20  \n",
      "0  spironolactone  albuterol HFA  levofloxacin  promethazine  glipizide  \n",
      "1             NaN            NaN           NaN           NaN        NaN  \n",
      "2             NaN            NaN           NaN           NaN        NaN  \n",
      "3             NaN            NaN           NaN           NaN        NaN  \n",
      "4             NaN            NaN           NaN           NaN        NaN  \n"
     ]
    }
   ],
   "source": [
    "print(df.head())"
   ]
  },
  {
   "cell_type": "code",
   "execution_count": 9,
   "id": "bddfebf5-6f7e-4525-aad6-1a8f18269107",
   "metadata": {},
   "outputs": [],
   "source": [
    "# Onehot encoding used for true false analysis to prepare for algorithm.\n",
    "onehot = pd.get_dummies(df.apply(pd.Series.value_counts, axis = 1).fillna(0).astype('bool'))"
   ]
  },
  {
   "cell_type": "code",
   "execution_count": 10,
   "id": "f5c0a29d-f695-4a87-9625-310e4a472247",
   "metadata": {},
   "outputs": [
    {
     "name": "stdout",
     "output_type": "stream",
     "text": [
      "   Duloxetine  Premarin    Yaz  abilify  acetaminophen  actonel  \\\n",
      "0       False     False  False     True          False    False   \n",
      "1       False     False  False    False          False    False   \n",
      "2       False     False  False    False          False    False   \n",
      "3       False     False  False    False          False    False   \n",
      "4       False     False  False     True          False    False   \n",
      "\n",
      "   albuterol HFA  albuterol aerosol  alendronate  allopurinol  ...  \\\n",
      "0           True               True        False         True  ...   \n",
      "1          False              False        False        False  ...   \n",
      "2          False              False        False        False  ...   \n",
      "3          False              False        False         True  ...   \n",
      "4          False              False        False        False  ...   \n",
      "\n",
      "   trazodone HCI  triamcinolone Ace topical  triamterene  trimethoprim DS  \\\n",
      "0          False                      False        False            False   \n",
      "1          False                      False        False            False   \n",
      "2          False                      False        False            False   \n",
      "3          False                      False        False            False   \n",
      "4          False                      False        False            False   \n",
      "\n",
      "   valaciclovir  valsartan  venlafaxine XR  verapamil SR  viagra  zolpidem  \n",
      "0         False      False           False         False   False     False  \n",
      "1         False      False           False         False   False     False  \n",
      "2         False      False           False         False   False     False  \n",
      "3         False      False           False         False   False     False  \n",
      "4         False      False           False         False   False     False  \n",
      "\n",
      "[5 rows x 119 columns]\n"
     ]
    }
   ],
   "source": [
    "# Show results of encoded data.\n",
    "print(onehot.head())"
   ]
  },
  {
   "cell_type": "code",
   "execution_count": 11,
   "id": "85954bfa-b8d1-4a40-928e-7410c152be62",
   "metadata": {},
   "outputs": [],
   "source": [
    "# Export cleaned dataset to csv.\n",
    "onehot.to_csv(\"analysis_ready_medical_clean.csv\", index = False)"
   ]
  },
  {
   "cell_type": "markdown",
   "id": "4710d176-dadf-478c-b8cf-bfe932326a27",
   "metadata": {},
   "source": [
    "<br /><br /><br /><br /><br /><br /><br /><br /><br /><br /><br /><br /><br /><br /><br /><br /><br />"
   ]
  },
  {
   "cell_type": "markdown",
   "id": "ba947325-307e-4c8e-b30b-1a87094d131b",
   "metadata": {},
   "source": [
    "### C2: Code Execution <a name=\"Code-Execution\"></a>"
   ]
  },
  {
   "cell_type": "markdown",
   "id": "346ab505-682d-4086-bf15-adb9be323546",
   "metadata": {},
   "source": [
    "*Execute the code used to generate association rules with the Apriori algorithm*."
   ]
  },
  {
   "cell_type": "code",
   "execution_count": 17,
   "id": "6773917d-3243-4ec5-9219-f98297b15a4e",
   "metadata": {},
   "outputs": [
    {
     "name": "stdout",
     "output_type": "stream",
     "text": [
      "                    antecedents               consequents  antecedent support  \\\n",
      "0                     (abilify)              (amlodipine)            0.238368   \n",
      "1                  (amlodipine)                 (abilify)            0.071457   \n",
      "2      (amphetamine salt combo)                 (abilify)            0.068391   \n",
      "3                     (abilify)  (amphetamine salt combo)            0.238368   \n",
      "4   (amphetamine salt combo xr)                 (abilify)            0.179709   \n",
      "..                          ...                       ...                 ...   \n",
      "95                   (diazepam)              (metoprolol)            0.163845   \n",
      "96                  (glyburide)     (doxycycline hyclate)            0.170911   \n",
      "97        (doxycycline hyclate)               (glyburide)            0.095054   \n",
      "98                   (losartan)               (glyburide)            0.132116   \n",
      "99                  (glyburide)                (losartan)            0.170911   \n",
      "\n",
      "    consequent support   support  confidence      lift  leverage  conviction  \\\n",
      "0             0.071457  0.023597    0.098993  1.385352  0.006564    1.030562   \n",
      "1             0.238368  0.023597    0.330224  1.385352  0.006564    1.137144   \n",
      "2             0.238368  0.024397    0.356725  1.496530  0.008095    1.183991   \n",
      "3             0.068391  0.024397    0.102349  1.496530  0.008095    1.037830   \n",
      "4             0.238368  0.050927    0.283383  1.188845  0.008090    1.062815   \n",
      "..                 ...       ...         ...       ...       ...         ...   \n",
      "95            0.095321  0.022930    0.139951  1.468215  0.007312    1.051893   \n",
      "96            0.095054  0.020131    0.117785  1.239135  0.003885    1.025766   \n",
      "97            0.170911  0.020131    0.211781  1.239135  0.003885    1.051852   \n",
      "98            0.170911  0.028530    0.215943  1.263488  0.005950    1.057436   \n",
      "99            0.132116  0.028530    0.166927  1.263488  0.005950    1.041786   \n",
      "\n",
      "    zhangs_metric  \n",
      "0        0.365218  \n",
      "1        0.299568  \n",
      "2        0.356144  \n",
      "3        0.435627  \n",
      "4        0.193648  \n",
      "..            ...  \n",
      "95       0.381390  \n",
      "96       0.232768  \n",
      "97       0.213256  \n",
      "98       0.240286  \n",
      "99       0.251529  \n",
      "\n",
      "[100 rows x 10 columns]\n"
     ]
    }
   ],
   "source": [
    "# Prevalence of an itemset in all transactions, large data set therefore 0.02 (2%)\n",
    "min_support = 0.02\n",
    "# 1% found ~ 440 patterns, likely too much.\n",
    "\n",
    "# Apriori algorithm determining the frequent itemsets.\n",
    "frequent_itemsets = apriori(onehot, min_support = min_support, use_colnames = True)\n",
    "\n",
    "# Data set for association rules based on frequent itemsets determined by apriori.\n",
    "rules = association_rules(\n",
    "    frequent_itemsets, \n",
    "    metric = \"lift\", \n",
    "    min_threshold = 0.01\n",
    ")\n",
    "\n",
    "# General values for rules.\n",
    "print(rules)"
   ]
  },
  {
   "cell_type": "markdown",
   "id": "db4ce805-0634-41a4-a6a6-4f5c6d16f4ed",
   "metadata": {},
   "source": [
    "<br /><br /><br /><br /><br /><br /><br /><br /><br/><br />"
   ]
  },
  {
   "cell_type": "markdown",
   "id": "ae6664ce-606e-4542-9464-3e3f4662f023",
   "metadata": {},
   "source": [
    "### C3: Association Rules Table <a name=\"Association-Rules-Table\"></a>"
   ]
  },
  {
   "cell_type": "markdown",
   "id": "0dc1113f-1b6d-43c4-a3e9-549c8c197f92",
   "metadata": {},
   "source": [
    "*Include values for the support, lift and confidence of the association rules table*."
   ]
  },
  {
   "cell_type": "code",
   "execution_count": 21,
   "id": "5f0d8b2b-e67f-401b-aee1-0e61c9b6425c",
   "metadata": {},
   "outputs": [
    {
     "name": "stdout",
     "output_type": "stream",
     "text": [
      "      antecedents     consequents  antecedent support  consequent support  \\\n",
      "35    (metformin)       (abilify)            0.050527            0.238368   \n",
      "25    (glipizide)       (abilify)            0.065858            0.238368   \n",
      "31   (lisinopril)       (abilify)            0.098254            0.238368   \n",
      "81   (lisinopril)    (carvedilol)            0.098254            0.174110   \n",
      "23  (fenofibrate)       (abilify)            0.051060            0.238368   \n",
      "..            ...             ...                 ...                 ...   \n",
      "34      (abilify)     (metformin)            0.238368            0.050527   \n",
      "14      (abilify)   (clopidogrel)            0.238368            0.059992   \n",
      "28      (abilify)  (levofloxacin)            0.238368            0.063325   \n",
      "22      (abilify)   (fenofibrate)            0.238368            0.051060   \n",
      "38      (abilify)      (naproxen)            0.238368            0.058526   \n",
      "\n",
      "     support  confidence      lift  leverage  conviction  zhangs_metric  \n",
      "35  0.023064    0.456464  1.914955  0.011020    1.401255       0.503221  \n",
      "25  0.027596    0.419028  1.757904  0.011898    1.310962       0.461536  \n",
      "31  0.040928    0.416554  1.747522  0.017507    1.305401       0.474369  \n",
      "81  0.039195    0.398915  2.291162  0.022088    1.373997       0.624943  \n",
      "23  0.020131    0.394256  1.653978  0.007960    1.257349       0.416672  \n",
      "..       ...         ...       ...       ...         ...            ...  \n",
      "34  0.023064    0.096756  1.914955  0.011020    1.051182       0.627330  \n",
      "14  0.022797    0.095638  1.594172  0.008497    1.039415       0.489364  \n",
      "28  0.020264    0.085011  1.342461  0.005169    1.023701       0.334938  \n",
      "22  0.020131    0.084452  1.653978  0.007960    1.036472       0.519145  \n",
      "38  0.020131    0.084452  1.442993  0.006180    1.028318       0.403076  \n",
      "\n",
      "[100 rows x 10 columns]\n"
     ]
    }
   ],
   "source": [
    "# Association Rules Table.\n",
    "# Sorted results by confidence. High confidence, consquent is likely present when antecedent is.\n",
    "association_rules_table = rules.sort_values(by = \"confidence\", ascending = False)\n",
    "print(association_rules_table)"
   ]
  },
  {
   "cell_type": "markdown",
   "id": "7ef6f681-73f8-4bee-8e18-950a297602f9",
   "metadata": {},
   "source": [
    "<br /><br /><br /><br /><br /><br /><br /><br /><br/><br /><br /><br />"
   ]
  },
  {
   "cell_type": "markdown",
   "id": "f42cc8ed-545c-440b-8413-6861c5fafb52",
   "metadata": {},
   "source": [
    "### C4: Top Three Rules <a name=\"Top-Three-Rules\"></a>"
   ]
  },
  {
   "cell_type": "markdown",
   "id": "61fed61e-b76f-418a-982f-3c88c096c594",
   "metadata": {},
   "source": [
    "*Include the top 3 relevant rules and explain them*."
   ]
  },
  {
   "cell_type": "code",
   "execution_count": 16,
   "id": "19763573-d270-4742-aeb9-2fec79b7139a",
   "metadata": {},
   "outputs": [
    {
     "name": "stdout",
     "output_type": "stream",
     "text": [
      "     antecedents consequents  antecedent support  consequent support  \\\n",
      "35   (metformin)   (abilify)            0.050527            0.238368   \n",
      "25   (glipizide)   (abilify)            0.065858            0.238368   \n",
      "31  (lisinopril)   (abilify)            0.098254            0.238368   \n",
      "\n",
      "     support  confidence      lift  leverage  conviction  zhangs_metric  \n",
      "35  0.023064    0.456464  1.914955  0.011020    1.401255       0.503221  \n",
      "25  0.027596    0.419028  1.757904  0.011898    1.310962       0.461536  \n",
      "31  0.040928    0.416554  1.747522  0.017507    1.305401       0.474369  \n"
     ]
    }
   ],
   "source": [
    "print(association_rules_table.head(3))"
   ]
  },
  {
   "cell_type": "markdown",
   "id": "1d275e89-a73d-448e-99bb-1aba739f717b",
   "metadata": {},
   "source": [
    "*Rule 1*:<br />\n",
    "&nbsp;&nbsp;&nbsp;&nbsp;&nbsp;&nbsp;This rule suggests that there exists a strong relationship between the antecedent '*metformin*' and the consequent '*abilify*.' The support claims that roughly 2% of all transactions in the data set contain both '*metformin*' and '*abilify*.' A confidence of about 46% of all transactions including '*metformin*' includes an '*abilify*' prescription. Lastly, the lift suggests that '*abilify*' is nearly 2 times as likely to be prescribed with '*metformin*' than the two prescriptions being independent.\n",
    "<br /><br />\n",
    "*Rule 2*:<br />\n",
    "&nbsp;&nbsp;&nbsp;&nbsp;&nbsp;&nbsp;Similar to the prior, this rule suggests that there exists a strong relationship between the antecedent '*glipizide*' and the consequent '*abilify*.' The support claims that roughly 3% of all transactions in the data set contain both '*glipizide*' and '*abilify*.' A confidence of about 42% of all transactions including '*glipizide*' includes an '*abilify*' prescription. Lastly, the lift suggests that '*abilify*' is 1.75 times as likely to be prescribed with '*glipizide*' than the two prescriptions being independent.\n",
    "<br /><br />\n",
    "*Rule 3*:<br />\n",
    "&nbsp;&nbsp;&nbsp;&nbsp;&nbsp;&nbsp;Like the previous 2, this rule suggests that there exists a strong relationship between medication A, the antecedent '*lisinopril*' and medication B, the consequent '*abilify*.' The support claims that roughly 4% of all transactions in the data set contain both '*lisinopril*' and '*abilify*.' A confidence of almost 42% of all transactions including '*lisinopril*' includes an '*abilify*' prescription. Lastly, the lift suggests that '*abilify*' is 1.74 times as likely to be prescribed with '*lisinopril*' than the two prescriptions being independent."
   ]
  },
  {
   "cell_type": "markdown",
   "id": "8386cd00-d7a4-48e9-88b5-f344a288dc64",
   "metadata": {},
   "source": [
    "<br /><br /><br /><br /><br /><br />"
   ]
  },
  {
   "cell_type": "markdown",
   "id": "fcbb87f1-a53a-49bd-bb58-4e6120162936",
   "metadata": {},
   "source": [
    "## Data Summary and Implications <a name=\"Data-Summary-and-Implications\"></a>"
   ]
  },
  {
   "cell_type": "markdown",
   "id": "19cbf51d-5292-41cf-8109-77f6b7bb1fe9",
   "metadata": {},
   "source": [
    "### D1: Significance of Support, Lift, and Confidence Summary <a name=\"Significance-of-Support,-Lift,-and-Confidence-Summary\"></a>"
   ]
  },
  {
   "cell_type": "markdown",
   "id": "17061528-c1f1-40e7-8071-07801efd5b6b",
   "metadata": {},
   "source": [
    "*Summarize the significance of support, lift, and confidence from the results.*"
   ]
  },
  {
   "cell_type": "markdown",
   "id": "2faf423c-52ca-4739-a336-38a94ea0f13b",
   "metadata": {},
   "source": [
    "*Support*:<br />\n",
    "&nbsp;&nbsp;&nbsp;&nbsp;&nbsp;&nbsp;Support indicates how frequently the itemset appears within the data set. In the prior rules, support shows the percentage of transactions that include the antecedents (e.g. '*metformin*,' '*glipizide*' and '*lisinopril*') and coincidentally their similar consequent ('*abilify*.') Of the ~7,500 records available in the cleaned data set, the combination of the antecedent and consequent make up 2%, 3% and 4% of the data set combinations in totality, respectively.\n",
    "<br /><br />\n",
    "*Lift*:<br />\n",
    "&nbsp;&nbsp;&nbsp;&nbsp;&nbsp;&nbsp;Lift determines the strength of the associations, meaning the ratio of the support of the combination against the support for each prescription independently. For example, a lift greater than 1.0 as seen in the top three rules suggest that the probability of the presciptions together are more likely than independently. For example, '*metformin*' and '*abilify*' had a lift of 1.91, higher than a score of 1, indicating the prior. If certain antecendent and consequents are more likely together, this may be important for integrated strategy for the hospital.\n",
    "<br /><br />\n",
    "*Confidence*:<br />\n",
    "&nbsp;&nbsp;&nbsp;&nbsp;&nbsp;&nbsp;Confidence measures the likeliness that the consequent, in this case '*abilify*', is found in transactions containing the antecedent. For example, a confidence of 45.47% between '*metformin*' and '*abilify*' suggests that almost half of the patients on the antecedent are taking the consequent. The higher the confidence, the stronger a hospital should consider the decisions or details behind why this correlation exists."
   ]
  },
  {
   "cell_type": "markdown",
   "id": "e8de8107-d72c-4191-a616-734f0d1a621c",
   "metadata": {},
   "source": [
    "<br /><br /><br /><br /><br /><br /><br /><br /><br /><br />"
   ]
  },
  {
   "cell_type": "markdown",
   "id": "84d17c06-30a9-4c53-9352-a2cccd1a8b04",
   "metadata": {},
   "source": [
    "### D2: Practical Significance of Findings <a name=\"Practical-Significance-of-Findings\"></a>"
   ]
  },
  {
   "cell_type": "markdown",
   "id": "ede818bb-cf33-4e36-bfc5-d513cda47c6b",
   "metadata": {},
   "source": [
    "*Discuss the practical significance of the findings*."
   ]
  },
  {
   "cell_type": "markdown",
   "id": "501256d3-6f54-449b-84a2-d4eeb0f89795",
   "metadata": {},
   "source": [
    "&nbsp;&nbsp;&nbsp;&nbsp;&nbsp;&nbsp;For this analysis, the findings can imply which medications are commonly prescribed together and thus build foundation for conditions that require both the antecedent and consequent in health management. Additionally, hospitals and clinics can potentially manage their inventory better knowing that these medications frequently go together such as having '*metformin*,' '*glipizide*,' '*lisinopril*' and '*abilify*' near one another. Finally, insights from understanding which prescriptions go together can derive individual policies. For example, if a patient requires '*metformin*' then, tests are likely needed to determine if they require any of the prior top three antecedents."
   ]
  },
  {
   "cell_type": "markdown",
   "id": "f5b4a8c8-6f97-4183-9344-e7c6642fcf20",
   "metadata": {},
   "source": [
    "### D3: Course of Action <a name=\"Course-of-Action\"></a>"
   ]
  },
  {
   "cell_type": "markdown",
   "id": "4840a63a-f38f-4750-a774-34aefb75ce55",
   "metadata": {},
   "source": [
    "*Recommend a course of action for the real-world organizational situation*."
   ]
  },
  {
   "cell_type": "markdown",
   "id": "b7963de6-1c51-4d52-96bc-e7b2958780b8",
   "metadata": {},
   "source": [
    "&nbsp;&nbsp;&nbsp;&nbsp;&nbsp;&nbsp;Considering the results of the analysis, the following are recommended actions for the hospital chain. Firstly, healthcare providers ideally develop studies into the effects and safety of prescription combinations such as '*metformin*,' '*glipizide*,' '*lisinopril*' and '*abilify*' or the combinations seen from the data analysis. The context of patient prescription is the critical as there is no one-fits-all solution medically for all patients. After facilitating these studies, should policies or even suggestions come to fruition then all appropriate medical staff should be trained or informed of what is to come.<br />\n",
    "&nbsp;&nbsp;&nbsp;&nbsp;&nbsp;&nbsp;Additionally, inventory management should be implemented in order to have appropriate supply if needed at the hospital, some prescriptions are external to the hospital while some come directly from the hospital itself. When a pharmacy is running low on the needed drug combinations then actions should be taken to prevent being out of the needed medications. This analysis should continuously applied to new data, at least within 2 years, in order to always keep tabs on what combinations of medications develop or even dissipate."
   ]
  },
  {
   "cell_type": "markdown",
   "id": "ff78dd01-9e35-44dd-87a1-e750d0034ffd",
   "metadata": {},
   "source": [
    "<br /><br /><br /><br /><br /><br /><br /><br /><br /><br />"
   ]
  },
  {
   "cell_type": "markdown",
   "id": "63b8d900-ab57-4a3c-af52-a8aec4187e13",
   "metadata": {},
   "source": [
    "## Attachments <a name=\"Attachments\"></a>"
   ]
  },
  {
   "cell_type": "markdown",
   "id": "ea73b52c-0a63-42e0-acaa-dc0a437651e8",
   "metadata": {},
   "source": [
    "### E: Panopto Recording <a name=\"Panopto-Recording\"></a>"
   ]
  },
  {
   "cell_type": "markdown",
   "id": "2cb0edac-f66e-4ea2-9ffb-6d5c6e532c55",
   "metadata": {},
   "source": [
    "https://wgu.hosted.panopto.com/Panopto/Pages/Viewer.aspx?id=858a1361-f5e8-41cb-b73b-b183017dfb75"
   ]
  },
  {
   "cell_type": "markdown",
   "id": "c4d378a1-7d50-44c5-9746-a029d61032ec",
   "metadata": {},
   "source": [
    "### F: Sources for Third-Party Code <a name=\"Sources-for-Third--Party-Code\"></a>"
   ]
  },
  {
   "cell_type": "markdown",
   "id": "1a010c1f-f6bc-4fcb-be46-a3ff54d0d4ab",
   "metadata": {},
   "source": [
    "DataCamp Course Resource."
   ]
  },
  {
   "cell_type": "markdown",
   "id": "78c2b2ec-1cd8-4c5e-98f4-c77b7478e556",
   "metadata": {},
   "source": [
    "### G: Sources <a name=\"Sources\"></a>"
   ]
  },
  {
   "cell_type": "markdown",
   "id": "186c901f-bb25-4eed-85bf-4cf444adce66",
   "metadata": {},
   "source": [
    "DataCamp Course Resouce.<br /><br />\n",
    "Overload, D. (Ed.). (2023, March 9). Market Basket Analysis: Techniques, Applications, and Benefits for Retailers. Medium. https://medium.com/@data-overload/market-basket-analysis-techniques-applications-and-benefits-for-retailers-d66eed1f917e "
   ]
  }
 ],
 "metadata": {
  "kernelspec": {
   "display_name": "Python 3 (ipykernel)",
   "language": "python",
   "name": "python3"
  },
  "language_info": {
   "codemirror_mode": {
    "name": "ipython",
    "version": 3
   },
   "file_extension": ".py",
   "mimetype": "text/x-python",
   "name": "python",
   "nbconvert_exporter": "python",
   "pygments_lexer": "ipython3",
   "version": "3.11.7"
  }
 },
 "nbformat": 4,
 "nbformat_minor": 5
}
