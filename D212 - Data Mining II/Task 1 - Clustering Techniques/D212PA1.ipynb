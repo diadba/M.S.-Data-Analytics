{
 "cells": [
  {
   "cell_type": "markdown",
   "id": "bd40c9ab-ba53-436b-a4c9-5556d6b76f0e",
   "metadata": {},
   "source": [
    "## D212 Performance Assessment - Clustering Techniques\n",
    "\n",
    "**Name:** Coots, Anthony.  \n",
    "**Affiliation:** Grad Student M.Sc Data Analytics. <br />\n",
    "**Date:** `2024-05-20`  \n",
    "**Version:** 1.5.2, r0."
   ]
  },
  {
   "cell_type": "markdown",
   "id": "5733a387-ec5a-431f-9dc5-08d331530925",
   "metadata": {},
   "source": [
    "### Introduction"
   ]
  },
  {
   "cell_type": "markdown",
   "id": "fb88d3c0-ba5f-46dd-bbb2-eb1ffa0d1133",
   "metadata": {},
   "source": [
    "\"In this task, you will act as an analyst and create a data mining report. You must select one of the data dictionary and data set files to use for your report from the following web link: \"[Data Sets and Associated Data Dictionaries.](https://access.wgu.edu/ASP3/aap/content/jf8rcds032ldktfces9r.html)\"\"\n",
    "\n",
    "*- WGU*"
   ]
  },
  {
   "cell_type": "markdown",
   "id": "74cec158-7999-443d-8bf1-ddc2c2acf06f",
   "metadata": {},
   "source": [
    "### Competencies"
   ]
  },
  {
   "cell_type": "markdown",
   "id": "814401e9-6df0-4c4c-83a9-3e1c17088c17",
   "metadata": {},
   "source": [
    "4030.6.4 : Clustering Techniques\n",
    "- The graduate applies clustering techniques to accurately predict outcomes of interest."
   ]
  },
  {
   "cell_type": "markdown",
   "id": "5ae7ca44-42b7-4a98-b315-e5e1351f0b07",
   "metadata": {},
   "source": [
    "### Scenario"
   ]
  },
  {
   "cell_type": "markdown",
   "id": "db8414f3-5736-45b5-9b3c-777266766c1e",
   "metadata": {},
   "source": [
    "\"One of the most critical factors in patient relationship management that directly affects a hospital's long-term cost-effectiveness is understanding the patients and the conditions leading to hospital admissions. When a hospital understands its patients' characteristics, it is better able to target treatment to patients, resulting in a more effective cost of care for the hospital in the long term.\n",
    "\n",
    "You are an analyst for a hospital that wants to better understand the characteristics of its patients. You have been asked to use clustering techniques to analyze patient data to identify groups of patients with similar characteristics, ultimately enabling better business and strategic decision-making for the hospital.\"\n",
    "\n",
    "*- WGU*"
   ]
  },
  {
   "cell_type": "markdown",
   "id": "d5632b79-e551-478c-a1bf-b8c1a8d6ed70",
   "metadata": {},
   "source": [
    "<br /><br /><br /><br />"
   ]
  },
  {
   "cell_type": "markdown",
   "id": "2c720034-17ed-4022-8831-926d027b5099",
   "metadata": {},
   "source": [
    "### Table of Contents:\n",
    "- [Research Question](#Research-Question)\n",
    "    - [Proposal of Question](#Proposal-of-Question)\n",
    "    - [Defined Goal](#Defined-Goal)\n",
    "- [Technique Justification](#Technique-Justification)\n",
    "    - [Explanation of the Clustering Technique](#Explanation-of-the-Clustering-Technique)\n",
    "    - [Summary of the Technique Assumption](#Summary-of-the-Technique-Assumption)\n",
    "    - [Packages or Libraries List](#Packages-or-Libraries-List)\n",
    "- [Data Preparation](#Data-Preparation)\n",
    "    - [Data Preprocessing](#Data-Preprocessing)\n",
    "    - [Data Set Variables](#Data-Set-Variables)\n",
    "    - [Steps for Analysis](#Steps-for-Analysis)\n",
    "    - [Cleaned Data Set](#Cleaned-Data-Set)\n",
    "- [Analysis](#Analysis)\n",
    "    - [Output and Intermediate Calculations](#Output-and-Intermediate-Calculations)\n",
    "    - [Code Execution](#Code-Execution)\n",
    "- [Data Summary and Implications](#Data-Summary-and-Implications)\n",
    "    - [Quality of the Clustering Technique](#Quality-of-the-Clustering-Technique)\n",
    "    - [Results and Implications](#Results-and-Implications)\n",
    "    - [Limitation](#Limitation)\n",
    "    - [Course of Action](#Course-of-Action)\n",
    "- [Demonstration](#Demonstration)\n",
    "    - [Panopto Video of Programs](#Panopto-Video-of-Programs)\n",
    "    - [Sources for Third-Party Code](#Sources-for-Third--Party-Code)\n",
    "    - [Sources](#Sources)"
   ]
  },
  {
   "cell_type": "markdown",
   "id": "c913bbed-d587-4974-81bb-8cc3afb798db",
   "metadata": {},
   "source": [
    "<br /><br /><br /><br /><br /><br /><br /><br /><br /><br /><br /><br /><br /><br />"
   ]
  },
  {
   "cell_type": "markdown",
   "id": "fd8c2479-2c1c-4f4e-aa5f-498c7087aa5d",
   "metadata": {},
   "source": [
    "## Research Question<a name=\"Research-Question\"></a>"
   ]
  },
  {
   "cell_type": "markdown",
   "id": "08b6a865-ea43-40d9-bfa5-4b60274086b3",
   "metadata": {},
   "source": [
    "### A1: Proposal of Question <a name=\"Proposal-of-Question\"></a>"
   ]
  },
  {
   "cell_type": "markdown",
   "id": "82d2d39e-8aab-4624-b8cc-61a184894ec0",
   "metadata": {},
   "source": [
    "*Propose one question that is relevant to a real-world organizational situation using *k*-means (using only continuous variables) or hierarchical clustering*."
   ]
  },
  {
   "cell_type": "markdown",
   "id": "96c260e8-7725-4684-aa1e-0a5a5c22a55e",
   "metadata": {},
   "source": [
    "&nbsp;&nbsp;&nbsp;&nbsp;&nbsp;&nbsp;There is no single perfect question to raise in order to understand the patients and the conditions leading to hospital admissions as described in *Scenario*. However, by taking important pieces of data that describes the patients, such as their initial admission type, services they received while admitted and data like patient readmission, which means a patient has had been admitted again within thirty days of their initial admission, there exists a relevant question that aims to find insights to reduce patient readmission. Applying hierarchical clustering to the data to identify groups of patients based on their admit may help in identifying clusters, or groups of similar data points, for the services received. For each cluster, we can seek the rate of readmission of the given cluster and compare them among other clusters to see if certain groups have readmission risk. Investigating the differences in readmission rates in different admit types could be related to care they receive, specific policies or lack thereof. The structured question in order to facilitate this analysis is as follows:"
   ]
  },
  {
   "cell_type": "markdown",
   "id": "073d76e4-79a1-484b-9496-d02d3a79162d",
   "metadata": {},
   "source": [
    "*Question*: \"*How do the types of initial admission (emergency, elective, observation admission) and the service received (blood work, CT scan, intravenous, MRI) relate to patient readmission*?\""
   ]
  },
  {
   "cell_type": "markdown",
   "id": "2e76957b-cc36-4fce-a943-1f724a740a37",
   "metadata": {},
   "source": [
    "### A2: Defined Goal <a name=\"Defined-Goal\"></a>"
   ]
  },
  {
   "cell_type": "markdown",
   "id": "25d81216-6e50-417b-a784-9681cb624639",
   "metadata": {},
   "source": [
    "*Define one reasonable goal of the data analysis that is within the scope of the scenario and is represented in the available data.*"
   ]
  },
  {
   "cell_type": "markdown",
   "id": "3f9e8028-c828-40df-a0b2-4a1b50e35572",
   "metadata": {},
   "source": [
    "&nbsp;&nbsp;&nbsp;&nbsp;&nbsp;&nbsp;The goal of this data analysis is to use hierarchical clustering to identify groups of patients categorized by their initial admission type (e.g., emergency, elective, observation) and services received (e.g., blood work, CT scan, intravenous, MRI). By defining these groups, the rate at which patients are readmitted in these groups can be discovered. By understanding these patterns/groups, interventions designed specific to the groups can address the needs for the group. This approach is to reduce readmission and strengthen the relationship between hospital and patient by improving patient care and implementing policy change better fit for the groups in need."
   ]
  },
  {
   "cell_type": "markdown",
   "id": "cf094ba9-61de-4260-9799-a13e5f58e5d0",
   "metadata": {},
   "source": [
    "<br /><br />"
   ]
  },
  {
   "cell_type": "markdown",
   "id": "e2de410d-e754-4cab-950c-43a98001d1a5",
   "metadata": {},
   "source": [
    "## Technique Justification <a name=\"Technique-Justification\"></a>"
   ]
  },
  {
   "cell_type": "markdown",
   "id": "9afdb0d6-b2f3-4013-b3e2-70ec47db50d9",
   "metadata": {},
   "source": [
    "### B1: Explanation of the Clustering Technique <a name=\"Explanation-of-the-Clustering-Technique\"></a>"
   ]
  },
  {
   "cell_type": "markdown",
   "id": "4e8135f6-f0e5-4786-893a-f911e90c8f3a",
   "metadata": {},
   "source": [
    "*Logically explain how hierarchical clustering analyzes the '*medical_clean*' data set with expected outcomes.*"
   ]
  },
  {
   "cell_type": "markdown",
   "id": "a82843c7-a646-4d2c-87c3-bd6d5f15047c",
   "metadata": {},
   "source": [
    "&nbsp;&nbsp;&nbsp;&nbsp;&nbsp;&nbsp;Hierarchical clustering is traditionally optimized for numerical data, relying on the calculation of distances between data points. For the data pertaining to the analysis in '*medical_clean*', which consists of categorical data like initial admission type (elective, emergency, observation) and service received (e.g., blood work, CT scan, intravenous, MRI), the technique still applies however looks a little different than usual to properly handle the categorical data.<br />\n",
    "&nbsp;&nbsp;&nbsp;&nbsp;&nbsp;&nbsp;Since hierarchical clustering traditionally uses numerical data, the metrics used to calculate the distance between data points changes. Usually these metrics are *Euclidean* or *Manhattan*. For the categorical data in this in analysis, utilizing '*Gower's*' Distance metric is sufficient as it is capable of handling binary, nominal or ordinal data values. A good article on '*Gower's*' Distance metric can be found [here](https://medium.com/analytics-vidhya/gowers-distance-899f9c4bd553). This metrics calculates the distance based on the dimension of matching categories of the total number of data attributes.<br />\n",
    "&nbsp;&nbsp;&nbsp;&nbsp;&nbsp;&nbsp;Once the distances are calculated, the next step in the process involves using a linkage method to determine how the distances between the clusters (not data points) are calculated. Single linkage focuses on the shortest distance between calculations which is more sensitive to outliers as outliers are likely much farther. Complete linkage considers the longest distance, creates more balanced clusters. Other linkage methods exist like average or *Ward's* can also be considered.<br />\n",
    "&nbsp;&nbsp;&nbsp;&nbsp;&nbsp;&nbsp;For example, clusters might be different by initial admission type and may have different results for services received per the ten-thousand observations in the data set. This clustering gives way for exploration of patterns that are specific based on area and medical condition. These clusters may be more prone to patient readmission than others, a focal point of the analysis.<br />\n",
    "&nbsp;&nbsp;&nbsp;&nbsp;&nbsp;&nbsp;Ultimately, the expected outcomes is to identify the clusters that exhibit readmission and thus create interventions and policy adjustment aimed to reduce readmission for the groups that are at risk. Doing so may improve patient care and strengthen the relationship between hospital and patient."
   ]
  },
  {
   "cell_type": "markdown",
   "id": "1f9504fe-a035-45bf-b2f4-859ff88914dc",
   "metadata": {},
   "source": [
    "<br /><br /><br /><br /><br /><br />"
   ]
  },
  {
   "cell_type": "markdown",
   "id": "d15cfc77-1668-47a5-b543-85dfa1ef61fb",
   "metadata": {},
   "source": [
    "### B2: Summary of the Technique Assumption <a name=\"Summary-of-the-Technique-Assumption\"></a>"
   ]
  },
  {
   "cell_type": "markdown",
   "id": "995ca604-4e3a-4825-846f-3223c056fc4c",
   "metadata": {},
   "source": [
    "*Summarize one assumption of hierarchical clustering.*"
   ]
  },
  {
   "cell_type": "markdown",
   "id": "882b363a-e73c-40b6-a273-d10a0dcbd713",
   "metadata": {},
   "source": [
    "&nbsp;&nbsp;&nbsp;&nbsp;&nbsp;&nbsp;An assumption of hierarchical clustering is that data points closer together are more alike than data points that are farther apart. This concept is similar to observing that people who live close together in the same neighborhood are likely to have more in common comparatively to those who live in different areas. Similarly, data points that share certain characteristics are more likely to be grouped together."
   ]
  },
  {
   "cell_type": "markdown",
   "id": "18dba2d5-915b-45be-8175-65c45561fada",
   "metadata": {},
   "source": [
    "### B3: Packages or Libraries List <a name=\"Packages-or-Libraries-List\"></a>"
   ]
  },
  {
   "cell_type": "markdown",
   "id": "de309d71-343d-440b-af09-8b132634eb66",
   "metadata": {},
   "source": [
    "*List the packages or libraries chosen for the analysis. Justify each item on the list.*"
   ]
  },
  {
   "cell_type": "markdown",
   "id": "ab1e3c71-c9a6-48b2-aa29-0472f6c36129",
   "metadata": {},
   "source": [
    "*gower*\n",
    "\n",
    "- Gower is a library used for the distance calculations for the categorical variables used in this analysis.\n",
    "\n",
    "*matplotlib.pyplot*\n",
    "\n",
    "- Library used for creating visualizations in Python. Used for dendrograms which help determine the number of clusters by assessing the generated tree structure visual.\n",
    "\n",
    "*numpy*\n",
    "\n",
    "- Library used for handling arrays and matrices, mathematical functions to operate arrays.\n",
    "\n",
    "*os*\n",
    "\n",
    "- Library used for navigating file paths, more specifically determining the current working directory.\n",
    "\n",
    "*seaborn*\n",
    "\n",
    "- Library used to build on top of matplotlib, works well with pandas DataFrames for less syntax and better plots.\n",
    "\n",
    "*scipy*\n",
    "\n",
    "- Library used for computing. For hierarchical clustering, using scipy.cluster.hierarchy for dendrogram and linkage classes and scipy.spatial.distance for creating dendrograms and computing distances, respectively.\n",
    "\n",
    "*sklearn*\n",
    "\n",
    "- Library used to assess the quality of the clusters created in the analysis.\n",
    "\n",
    "*warnings*\n",
    "\n",
    "- Library used to silence warnings as necessary such as new version warnings that do not affect the code."
   ]
  },
  {
   "cell_type": "code",
   "execution_count": 19,
   "id": "0dd482bb-dc51-49b5-8eb8-7106ad9c26ce",
   "metadata": {},
   "outputs": [
    {
     "name": "stdout",
     "output_type": "stream",
     "text": [
      "Requirement already satisfied: gower in c:\\users\\acoots\\appdata\\local\\anaconda3\\lib\\site-packages (0.1.2)\n",
      "Requirement already satisfied: numpy in c:\\users\\acoots\\appdata\\local\\anaconda3\\lib\\site-packages (from gower) (1.26.4)\n",
      "Requirement already satisfied: scipy in c:\\users\\acoots\\appdata\\local\\anaconda3\\lib\\site-packages (from gower) (1.11.4)\n",
      "Note: you may need to restart the kernel to use updated packages.\n"
     ]
    }
   ],
   "source": [
    "pip install gower"
   ]
  },
  {
   "cell_type": "code",
   "execution_count": 20,
   "id": "95b721d9-55eb-4c55-a64a-6cb6903d6192",
   "metadata": {},
   "outputs": [],
   "source": [
    "import gower\n",
    "import matplotlib.pyplot as plt\n",
    "import numpy as np\n",
    "import os\n",
    "import pandas as pd\n",
    "from scipy.cluster.hierarchy import dendrogram, linkage, fcluster\n",
    "import seaborn as sns\n",
    "from sklearn.metrics import silhouette_score\n",
    "import warnings"
   ]
  },
  {
   "cell_type": "markdown",
   "id": "03bb7b87-0356-4bc1-b513-11e6bf1dc9df",
   "metadata": {},
   "source": [
    "<br /><br /><br /><br /><br /><br /><br /><br /><br /><br /><br /><br /><br /><br /><br /><br /><br /><br /><br /><br />"
   ]
  },
  {
   "cell_type": "markdown",
   "id": "0053b871-43d5-473e-831d-67c203b3091f",
   "metadata": {},
   "source": [
    "## Data Preparation <a name=\"Data-Preparation\"></a>"
   ]
  },
  {
   "cell_type": "markdown",
   "id": "ba8fe631-9381-4c36-87f8-4bcbc6496b32",
   "metadata": {},
   "source": [
    "### C1: Data Preprocessing <a name=\"Data-Preprocessing\"></a>"
   ]
  },
  {
   "cell_type": "markdown",
   "id": "61738d6b-4a74-4e6b-ab67-577efe23dc07",
   "metadata": {},
   "source": [
    "*Describe one data preprocessing goal that is relevant to hierarchical clustering.*"
   ]
  },
  {
   "cell_type": "markdown",
   "id": "a8aebb31-8810-4122-8552-33f37c7f527f",
   "metadata": {},
   "source": [
    "&nbsp;&nbsp;&nbsp;&nbsp;&nbsp;&nbsp;A data preprocessing goal for hierarchical clustering is to convert binary, nominal and ordinal data into a numerical format as hierarchical clustering requires numerical input to calculate distances between data points. For example, readmission (ReAdmis) in the data set contains values 'yes' or 'no' and should be coded as 1 and 0, respectively. Similarly, admission types and services areas such as elective and emergency or blood work and MRI need to be encoded via dummy variables to represent the existence (1) or not (0) of each category in a numerical format. This conversion is so that all data can be used in clustering calculations."
   ]
  },
  {
   "cell_type": "markdown",
   "id": "f2c1db33-2290-4e6a-b77a-f83245bea199",
   "metadata": {},
   "source": [
    "### C2: Data Set Variables <a name=\"Data-Set-Variables\"></a>"
   ]
  },
  {
   "cell_type": "markdown",
   "id": "729c1489-331d-446c-993f-ba9b0acc8c7b",
   "metadata": {},
   "source": [
    "*Identify the data set variables needed to perform the analysis for the question. Accurately label each as continuous or categorical.*"
   ]
  },
  {
   "cell_type": "markdown",
   "id": "812a72d3-2a88-4806-a510-2d8a3797b90c",
   "metadata": {},
   "source": [
    "*ReAdmis* (categorical)\n",
    "\n",
    "*Initial_admin* (categorical)\n",
    "\n",
    "*Services* (categorical)"
   ]
  },
  {
   "cell_type": "markdown",
   "id": "1f20c138-dd75-4a6f-92a3-4ade4d17718b",
   "metadata": {},
   "source": [
    "### C3: Steps for Analysis <a name=\"Steps-for-Analysis\"></a>"
   ]
  },
  {
   "cell_type": "markdown",
   "id": "c05b2470-63f2-4d8d-9301-cb07c49a247f",
   "metadata": {},
   "source": [
    "*Explain each step used to prepare the data for analysis. Identify the code segment for each step.*"
   ]
  },
  {
   "cell_type": "markdown",
   "id": "b617300e-03a2-4453-8470-9f9429d81a8e",
   "metadata": {},
   "source": [
    "Step 1: *Loading the data from file to DataFrame.*\n",
    "\n",
    "Step 2: *Assess the data in the DataFrame for missing value and data types.*\n",
    "\n",
    "Step 3: *If necessary, handle missing values/change data types.*\n",
    "\n",
    "Step 4: *Remove features not in initial list.*\n",
    "\n",
    "Step 5: *Encode categorical data.*"
   ]
  },
  {
   "cell_type": "markdown",
   "id": "09b8fb1c-541e-434d-b8d5-37b85e1983bc",
   "metadata": {},
   "source": [
    "<br /><br /><br />"
   ]
  },
  {
   "cell_type": "markdown",
   "id": "1e9194f9-3445-4815-a014-afcd6a227758",
   "metadata": {},
   "source": [
    "Step 1: *Loading the data from file to DataFrame.*"
   ]
  },
  {
   "cell_type": "code",
   "execution_count": 21,
   "id": "7da35404-f087-472c-b0ac-4434cc0d2877",
   "metadata": {},
   "outputs": [
    {
     "name": "stdout",
     "output_type": "stream",
     "text": [
      "\n",
      "\n",
      " Current Working Directory: C:\\Users\\acoots\\Desktop\\Personal\\Education\\WGU\\Data Analytics, M.S\\D212 - Data Mining II\\Task 1 - Clustering Techniques\n",
      "\n"
     ]
    }
   ],
   "source": [
    "# What is my current working directory?\n",
    "print(\"\\n\\n Current Working Directory: \" + os.getcwd() + '\\n')"
   ]
  },
  {
   "cell_type": "code",
   "execution_count": 22,
   "id": "179726ec-cedc-48e0-8d7c-7e04e1785420",
   "metadata": {},
   "outputs": [],
   "source": [
    "# Read data into DataFrame.\n",
    "df = pd.read_csv(\"medical_clean.csv\")"
   ]
  },
  {
   "cell_type": "markdown",
   "id": "69bd78aa-5f90-4c23-ae16-687964f36825",
   "metadata": {},
   "source": [
    "<br /><br /><br /><br /><br /><br /><br /><br /><br /><br /><br /><br /><br /><br /><br /><br /><br /><br /><br /><br /><br /><br /><br /><br /><br /><br /><br /><br /><br /><br /><br />"
   ]
  },
  {
   "cell_type": "markdown",
   "id": "f92fead3-332c-4725-af92-01441ed085d0",
   "metadata": {},
   "source": [
    "Step 2: *Assess the data in the DataFrame for missing value and data types.*"
   ]
  },
  {
   "cell_type": "code",
   "execution_count": 23,
   "id": "07464b1d-b1a2-4506-b097-5906bf3d7d3e",
   "metadata": {},
   "outputs": [
    {
     "name": "stdout",
     "output_type": "stream",
     "text": [
      "              Variable  Missing Count Data Type\n",
      "0            CaseOrder              0     int64\n",
      "1          Customer_id              0    object\n",
      "2          Interaction              0    object\n",
      "3                  UID              0    object\n",
      "4                 City              0    object\n",
      "5                State              0    object\n",
      "6               County              0    object\n",
      "7                  Zip              0     int64\n",
      "8                  Lat              0   float64\n",
      "9                  Lng              0   float64\n",
      "10          Population              0     int64\n",
      "11                Area              0    object\n",
      "12            TimeZone              0    object\n",
      "13                 Job              0    object\n",
      "14            Children              0     int64\n",
      "15                 Age              0     int64\n",
      "16              Income              0   float64\n",
      "17             Marital              0    object\n",
      "18              Gender              0    object\n",
      "19             ReAdmis              0    object\n",
      "20         VitD_levels              0   float64\n",
      "21          Doc_visits              0     int64\n",
      "22    Full_meals_eaten              0     int64\n",
      "23           vitD_supp              0     int64\n",
      "24          Soft_drink              0    object\n",
      "25       Initial_admin              0    object\n",
      "26           HighBlood              0    object\n",
      "27              Stroke              0    object\n",
      "28   Complication_risk              0    object\n",
      "29          Overweight              0    object\n",
      "30           Arthritis              0    object\n",
      "31            Diabetes              0    object\n",
      "32      Hyperlipidemia              0    object\n",
      "33            BackPain              0    object\n",
      "34             Anxiety              0    object\n",
      "35   Allergic_rhinitis              0    object\n",
      "36  Reflux_esophagitis              0    object\n",
      "37              Asthma              0    object\n",
      "38            Services              0    object\n",
      "39        Initial_days              0   float64\n",
      "40         TotalCharge              0   float64\n",
      "41  Additional_charges              0   float64\n",
      "42               Item1              0     int64\n",
      "43               Item2              0     int64\n",
      "44               Item3              0     int64\n",
      "45               Item4              0     int64\n",
      "46               Item5              0     int64\n",
      "47               Item6              0     int64\n",
      "48               Item7              0     int64\n",
      "49               Item8              0     int64\n"
     ]
    }
   ],
   "source": [
    "# Output the variables and the data types in the DataFrame.\n",
    "summary = pd.DataFrame({\n",
    "    \"Variable\": df.columns,\n",
    "    \"Missing Count\": df.isna().sum(),\n",
    "    \"Data Type\": df.dtypes}).reset_index(drop = True)\n",
    "\n",
    "# Display summary of the DataFrame.\n",
    "print(summary)"
   ]
  },
  {
   "cell_type": "markdown",
   "id": "0f10ef76-746b-479c-8a63-e067de98a33b",
   "metadata": {},
   "source": [
    "<br /><br />"
   ]
  },
  {
   "cell_type": "markdown",
   "id": "d5249790-b40d-46da-874f-7f9a20d75788",
   "metadata": {},
   "source": [
    "Step 3: *If necessary, handle missing values/change data types.*\n",
    "\n",
    "There are no missing values. Data types will be changed for object variables upon encoding."
   ]
  },
  {
   "cell_type": "markdown",
   "id": "7c01ca18-cbc3-477f-b13e-21c748baa51a",
   "metadata": {},
   "source": [
    "<br /><br /><br /><br /><br /><br /><br /><br /><br /><br /><br /><br /><br /><br /><br /><br /><br /><br /><br /><br /><br /><br /><br /><br /><br /><br /><br /><br /><br /><br /><br /><br /><br /><br /><br /><br />"
   ]
  },
  {
   "cell_type": "markdown",
   "id": "3e7c4944-7b37-4952-9ecb-33799a57d36b",
   "metadata": {},
   "source": [
    "<br />"
   ]
  },
  {
   "cell_type": "markdown",
   "id": "dcf8d5c5-15a6-4d88-8b48-70e138e79234",
   "metadata": {},
   "source": [
    "Step 4: *Remove features not in initial list.*"
   ]
  },
  {
   "cell_type": "code",
   "execution_count": 24,
   "id": "24783352-b4d1-49ef-91b5-1f0734fbbcac",
   "metadata": {},
   "outputs": [],
   "source": [
    "keepme = [\n",
    "    'ReAdmis', 'Initial_admin', 'Services'\n",
    "]\n",
    "\n",
    "df_clean = df[keepme].copy()"
   ]
  },
  {
   "cell_type": "code",
   "execution_count": 25,
   "id": "34b89b11-8d9f-49be-8056-ff06105c0797",
   "metadata": {},
   "outputs": [
    {
     "name": "stdout",
     "output_type": "stream",
     "text": [
      "        Variable  Missing Count Data Type\n",
      "0        ReAdmis              0    object\n",
      "1  Initial_admin              0    object\n",
      "2       Services              0    object\n"
     ]
    }
   ],
   "source": [
    "summary = pd.DataFrame({\n",
    "    \"Variable\": df_clean.columns,\n",
    "    \"Missing Count\": df_clean.isna().sum(),\n",
    "    \"Data Type\": df_clean.dtypes}).reset_index(drop = True)\n",
    "\n",
    "# Display summary of the DataFrame.\n",
    "print(summary)"
   ]
  },
  {
   "cell_type": "markdown",
   "id": "829ec636-f7de-485b-882d-51dd02833657",
   "metadata": {},
   "source": [
    "<br /><br /><br /><br /><br /><br /><br /><br /><br /><br /><br /><br /><br /><br /><br /><br /><br /><br /><br /><br /><br /><br /><br /><br /><br /><br />"
   ]
  },
  {
   "cell_type": "markdown",
   "id": "3b9b44d9-c17b-437a-968f-1be5f6dae797",
   "metadata": {},
   "source": [
    "Step 5: *Encode categorical data.*"
   ]
  },
  {
   "cell_type": "code",
   "execution_count": 26,
   "id": "bcf0fd3a-2d0b-4786-9479-445901384080",
   "metadata": {},
   "outputs": [],
   "source": [
    "# Categorical variables as yes or no.\n",
    "non_dummy_nominal_variables = [\n",
    "    'ReAdmis'\n",
    "]\n",
    "\n",
    "# Dummy variables.\n",
    "dummy_variables = [\n",
    "    'Initial_admin', 'Services'\n",
    "]"
   ]
  },
  {
   "cell_type": "code",
   "execution_count": 27,
   "id": "694bc16b-056c-48fc-9010-db8320c5a972",
   "metadata": {},
   "outputs": [],
   "source": [
    "for var in non_dummy_nominal_variables:\n",
    "    boolean_int_dict = {str(var): {\"No\": 0, \"Yes\": 1}}\n",
    "    df_clean.replace(boolean_int_dict, inplace = True)\n",
    "\n",
    "# Pandas get_dummies method.\n",
    "df_clean = pd.get_dummies(df_clean, columns = dummy_variables, drop_first = False)\n",
    "\n",
    "for var in df_clean:\n",
    "    if df_clean[var].dtype == \"bool\":\n",
    "        df_clean[var] = df_clean[var].astype(int)"
   ]
  },
  {
   "cell_type": "code",
   "execution_count": 28,
   "id": "9d093ee2-d53b-4dc2-9759-93065d600ff7",
   "metadata": {},
   "outputs": [
    {
     "name": "stdout",
     "output_type": "stream",
     "text": [
      "<class 'pandas.core.frame.DataFrame'>\n",
      "RangeIndex: 10000 entries, 0 to 9999\n",
      "Data columns (total 8 columns):\n",
      " #   Column                               Non-Null Count  Dtype\n",
      "---  ------                               --------------  -----\n",
      " 0   ReAdmis                              10000 non-null  int64\n",
      " 1   Initial_admin_Elective Admission     10000 non-null  int32\n",
      " 2   Initial_admin_Emergency Admission    10000 non-null  int32\n",
      " 3   Initial_admin_Observation Admission  10000 non-null  int32\n",
      " 4   Services_Blood Work                  10000 non-null  int32\n",
      " 5   Services_CT Scan                     10000 non-null  int32\n",
      " 6   Services_Intravenous                 10000 non-null  int32\n",
      " 7   Services_MRI                         10000 non-null  int32\n",
      "dtypes: int32(7), int64(1)\n",
      "memory usage: 351.7 KB\n",
      "None\n"
     ]
    }
   ],
   "source": [
    "print(df_clean.info())"
   ]
  },
  {
   "cell_type": "markdown",
   "id": "3902f171-bbb6-4611-81f4-e0572038a9a4",
   "metadata": {},
   "source": [
    "<br /><br /><br /><br /><br /><br /><br /><br /><br />"
   ]
  },
  {
   "cell_type": "markdown",
   "id": "c7735cbb-3d96-4962-bd8c-bdcc5cadd277",
   "metadata": {},
   "source": [
    "### C4: Cleaned Data Set <a name=\"Cleaned-Data-Set\"></a>"
   ]
  },
  {
   "cell_type": "markdown",
   "id": "3ac399a4-8ed6-4c90-8c32-e9f6d1c54b4b",
   "metadata": {},
   "source": [
    "*Export an accurate copy of the cleaned data set.*"
   ]
  },
  {
   "cell_type": "code",
   "execution_count": 29,
   "id": "3863ed29-66de-40d6-82de-919e9b7bdea2",
   "metadata": {},
   "outputs": [],
   "source": [
    "# Export cleaned dataset to csv.\n",
    "df_clean.to_csv(\"model_ready_medical_clean.csv\", index = False)"
   ]
  },
  {
   "cell_type": "markdown",
   "id": "3677fb76-01a6-437c-b941-f2096d0acd91",
   "metadata": {},
   "source": [
    "<br /><br /><br /><br /><br /><br /><br /><br /><br /><br /><br /><br /><br /><br /><br /><br /><br /><br /><br /><br /><br /><br /><br /><br /><br /><br /><br /><br /><br /><br /><br /><br /><br /><br />"
   ]
  },
  {
   "cell_type": "markdown",
   "id": "9a441a6e-796a-408b-a371-459302274410",
   "metadata": {},
   "source": [
    "## Analysis <a name=\"Analysis\"></a>"
   ]
  },
  {
   "cell_type": "markdown",
   "id": "24a66dcc-345f-4dd5-8618-667350f17cae",
   "metadata": {},
   "source": [
    "### D1: Output and Intermediate Calculations <a name=\"Output-and-Intermediate-Calculations\"></a>"
   ]
  },
  {
   "cell_type": "markdown",
   "id": "dd40b527-d1b9-47b1-ad5d-4015afafa56d",
   "metadata": {},
   "source": [
    "*Determine the optimal number of clusters in the data set and accurately describe the methodology used.*"
   ]
  },
  {
   "attachments": {
    "5e4692b4-b718-4991-a27a-ac4501647823.png": {
     "image/png": "[encoded data removed]"
    }
   },
   "cell_type": "markdown",
   "id": "432db29d-cce9-4f8a-8346-1d343ee0bfdf",
   "metadata": {},
   "source": [
    "##### *The following code segment takes roughly 5-10 minutes* (Varies by machine specs.)\n",
    "\n",
    "<br />Last time log:<br />\n",
    "\n",
    "![image.png](attachment:5e4692b4-b718-4991-a27a-ac4501647823.png)<br />\n",
    "\n",
    "Specs: i9-11900k, 32 GB ram."
   ]
  },
  {
   "cell_type": "code",
   "execution_count": 30,
   "id": "cc232633-3f14-4f73-91be-1932f6496888",
   "metadata": {},
   "outputs": [],
   "source": [
    "warnings.filterwarnings(\"ignore\")\n",
    "\n",
    "for var in df_clean:\n",
    "    if df_clean[var].dtype == \"int64\":\n",
    "        df_clean[var] = df_clean[var].astype(float)\n",
    "\n",
    "# Perform hierarchical clustering\n",
    "gowers_distance = gower.gower_matrix(df_clean)\n",
    "\n",
    "linkage = linkage(gowers_distance, method = 'ward')"
   ]
  },
  {
   "cell_type": "code",
   "execution_count": 31,
   "id": "9bd601a7-babc-4891-8878-fb3eafc2e605",
   "metadata": {},
   "outputs": [
    {
     "data": {
      "image/png": "[encoded data removed]",
      "text/plain": [
       "<Figure size 2000x700 with 1 Axes>"
      ]
     },
     "metadata": {},
     "output_type": "display_data"
    }
   ],
   "source": [
    "# Plot the dendrogram\n",
    "plt.figure(figsize=(20, 7))\n",
    "dendrogram(linkage)\n",
    "plt.title('Hierarchical Clustering Dendrogram')\n",
    "plt.ylabel('Distance')\n",
    "plt.show()"
   ]
  },
  {
   "cell_type": "code",
   "execution_count": 32,
   "id": "dcbd5b20-3ef7-4a78-bc2e-b1cdd5f318ed",
   "metadata": {},
   "outputs": [
    {
     "data": {
      "image/png": "[encoded data removed]",
      "text/plain": [
       "<Figure size 2000x700 with 1 Axes>"
      ]
     },
     "metadata": {},
     "output_type": "display_data"
    }
   ],
   "source": [
    "# Plot the dendrogram\n",
    "plt.figure(figsize=(20, 7))\n",
    "dendrogram(linkage)\n",
    "plt.title('Hierarchical Clustering Dendrogram')\n",
    "plt.ylabel('Distance')\n",
    "plt.axhline(y = 800, c = 'k', ls = '--', lw = 1.5)\n",
    "plt.show()"
   ]
  },
  {
   "cell_type": "markdown",
   "id": "e1af3c99-f5ab-4690-a923-094f71efc487",
   "metadata": {},
   "source": [
    "*Optimal number of clusters*: 4\n",
    "\n",
    "&nbsp;&nbsp;&nbsp;&nbsp;&nbsp;&nbsp;A dendrogram is used to find the optimal number of clusters for hierarchical clustering analysis. Each node represents a cluster, each branch connects the nodes where the length of the branch reflects the distance between the clusters. Each data point starts as its own cluster, then pairs of clusters are merged according to similarity.<br />\n",
    "&nbsp;&nbsp;&nbsp;&nbsp;&nbsp;&nbsp;Four seems like an optimal number of clusters given the dendrogram. Four, as seen by the intersecting points of the dashed line in the dendrogram, has a balance between too many small clusters and too few broad clusters. Additionally, the vertical distances seem to significantly reduce after this point. Determining the optimal number of clusters using Ward's method it is best practice the find the area that has the largest vertical distance without intersecting any horizontal lines. The intersection ultimately between the horizontal dashed lines and the vertical lines with the prior in mind, determines the optimal number of clusters."
   ]
  },
  {
   "cell_type": "markdown",
   "id": "09f50ae5-26db-4069-aada-593763489a52",
   "metadata": {},
   "source": [
    "### D2: Code Execution <a name=\"Code-Execution\"></a>"
   ]
  },
  {
   "cell_type": "markdown",
   "id": "6d88a855-0cd9-44aa-9692-e4e5483134fd",
   "metadata": {},
   "source": [
    "*Provide the code used to perform the clustering analysis technique.*"
   ]
  },
  {
   "cell_type": "code",
   "execution_count": 33,
   "id": "dede03dd-599a-476b-80a1-2edc29905948",
   "metadata": {},
   "outputs": [
    {
     "name": "stdout",
     "output_type": "stream",
     "text": [
      "          ReAdmis  Initial_admin_Elective Admission  \\\n",
      "Cluster                                               \n",
      "1        0.361839                          0.510529   \n",
      "2        0.372508                          0.000000   \n",
      "3        0.379713                          0.000000   \n",
      "4        0.353234                          0.503636   \n",
      "\n",
      "         Initial_admin_Emergency Admission  \\\n",
      "Cluster                                      \n",
      "1                                      0.0   \n",
      "2                                      1.0   \n",
      "3                                      1.0   \n",
      "4                                      0.0   \n",
      "\n",
      "         Initial_admin_Observation Admission  Services_Blood Work  \\\n",
      "Cluster                                                             \n",
      "1                                   0.489471                  0.0   \n",
      "2                                   0.000000                  0.0   \n",
      "3                                   0.000000                  1.0   \n",
      "4                                   0.496364                  1.0   \n",
      "\n",
      "         Services_CT Scan  Services_Intravenous  Services_MRI  \n",
      "Cluster                                                        \n",
      "1                0.254835              0.668242      0.076923  \n",
      "2                0.262458              0.654070      0.083472  \n",
      "3                0.000000              0.000000      0.000000  \n",
      "4                0.000000              0.000000      0.000000  \n"
     ]
    }
   ],
   "source": [
    "# Determine the number of clusters (e.g., based on the dendrogram.)\n",
    "k = 4\n",
    "\n",
    "cluster_labels = fcluster(linkage, k, criterion='maxclust')\n",
    "df_cluster = df_clean.copy()\n",
    "df_cluster['Cluster'] = cluster_labels\n",
    "\n",
    "# Analyze clusters.\n",
    "cluster_summary = df_cluster.groupby('Cluster').mean()\n",
    "print(cluster_summary)"
   ]
  },
  {
   "cell_type": "code",
   "execution_count": 34,
   "id": "d436c752-59cc-4660-9db4-b3dc70b7b2a0",
   "metadata": {},
   "outputs": [
    {
     "name": "stdout",
     "output_type": "stream",
     "text": [
      " Silhouette Score: 0.504\n"
     ]
    }
   ],
   "source": [
    "silhouette_scores = silhouette_score(df_cluster, cluster_labels)\n",
    "print(\" Silhouette Score: \" + str(round(silhouette_scores, 3)))"
   ]
  },
  {
   "cell_type": "markdown",
   "id": "4b2da65e-fb9e-4ef7-badd-7503de317505",
   "metadata": {},
   "source": [
    "<br /><br /><br /><br /><br /><br /><br /><br /><br /><br /><br /><br /><br /><br /><br />"
   ]
  },
  {
   "cell_type": "markdown",
   "id": "d26724b1-67a5-4517-8602-21628653ac7a",
   "metadata": {},
   "source": [
    "## Data Summary and Implications <a name=\"Data-Summary-and-Implications\"></a>"
   ]
  },
  {
   "cell_type": "markdown",
   "id": "504e40bd-9e4d-4bb3-92c9-e13fcf95d39b",
   "metadata": {},
   "source": [
    "### E1: Quality of the Clustering Technique <a name=\"Quality-of-the-Clustering-Technique\"></a>"
   ]
  },
  {
   "cell_type": "markdown",
   "id": "f4e4f507-02c8-4b3c-83e0-b546a38a90f2",
   "metadata": {},
   "source": [
    "*Logically explain the quality of the clustering technique.*"
   ]
  },
  {
   "cell_type": "code",
   "execution_count": 35,
   "id": "b709726e-3325-4c7f-824a-a8878c3870b6",
   "metadata": {},
   "outputs": [
    {
     "name": "stdout",
     "output_type": "stream",
     "text": [
      " Silhouette Score: 0.504\n"
     ]
    }
   ],
   "source": [
    "silhouette_scores = silhouette_score(df_cluster, cluster_labels)\n",
    "print(\" Silhouette Score: \" + str(round(silhouette_scores, 3)))"
   ]
  },
  {
   "cell_type": "markdown",
   "id": "9f208b85-2023-4c12-a5fc-a5adf3b964f5",
   "metadata": {},
   "source": [
    "&nbsp;&nbsp;&nbsp;&nbsp;&nbsp;&nbsp;The quality of the clusters in this analysis can be effectively assessed using a silhouette score, that evaluates both the compact nature of a cluster and the separation of the clusters on a scale of -1 to 1. Scores closer to 1 indicate that clusters are well-define and distinct, which is most ideal. Data points are closer matched to their own cluster and distant from neighboring clusters. Conversely, scores near -1 suggest improper assignment of data points, meaning that the data points are poorly matched to a cluster. A score closer to 0 indicates overlap among clusters.<br />\n",
    "&nbsp;&nbsp;&nbsp;&nbsp;&nbsp;&nbsp;The clusters in this analysis have a silhouette score of 0.504. This suggests that the clusters are fairly distinct and that the data points align well within their clusters, generally. Though there is room for improvement for peak separation (score of 1.) A score of 0.504 means that clusters are not overlapping inappropriately however they are not perfectly separate, either."
   ]
  },
  {
   "cell_type": "markdown",
   "id": "7b444abf-b8d7-4205-89b0-ad33a466d549",
   "metadata": {},
   "source": [
    "### E2: Results and Implications <a name=\"Results-and-Implications\"></a>"
   ]
  },
  {
   "cell_type": "markdown",
   "id": "5ceff201-1812-4788-971f-abbcca3bbb8c",
   "metadata": {},
   "source": [
    "*Discuss the results and implications of the clustering analysis.*"
   ]
  },
  {
   "cell_type": "markdown",
   "id": "e4291a69-ab7e-4b4a-a3b2-026d3f401f43",
   "metadata": {},
   "source": [
    "The following lists are results for each cluster followed by their implications:\n",
    "\n",
    "*Cluster 1*:\n",
    "\n",
    "- Results:\n",
    "\n",
    "&nbsp;&nbsp;&nbsp;&nbsp;&nbsp;&nbsp;Cluster 1 consisted of patient observations that had seldom counts of MRIs (\\~8%), some CT scans (\\~25%), and mainly involved intravenous services (\\~67%). About half of these patients (\\~51%) were admitted electively, while the other \\~49% were admitted for observation. Of the patients in this cluster, 36% of them were readmitted within 30 days of discharge from either type of admission.\n",
    "\n",
    "- Implications:\n",
    "\n",
    "&nbsp;&nbsp;&nbsp;&nbsp;&nbsp;&nbsp;The readmission rate of this group while isn't a majority of patients, much too high to not act upon. This suggests a need for follow up post discharge for the patients receiving intravenous services. By doing such, the hospital(s) could see reduced patient readmissions.\n",
    "\n",
    "*Cluster 2*:\n",
    "\n",
    "- Results:\n",
    "\n",
    "&nbsp;&nbsp;&nbsp;&nbsp;&nbsp;&nbsp;Cluster 2 had similar services as seen in cluster 1, with seldom MRI use, some CT scans and mostly intravenous services. However, all patients in this cluster were admitted through emergency services. Around 37% of these patients were readmitted within 30 days of their emergency admission.\n",
    "\n",
    "- Implications:\n",
    "\n",
    "&nbsp;&nbsp;&nbsp;&nbsp;&nbsp;&nbsp;Considering patients in this cluster were only of emergency admission and have a considerable readmission rate, there might exists a gap between emergency admission and the transition to and after discharge. Procedures that constitute a follow-up from the hospital in the best interest of the patient of their admission could address this gap and reduce patient readmission.\n",
    "\n",
    "*Cluster 3*:\n",
    "\n",
    "- Results:\n",
    "\n",
    "&nbsp;&nbsp;&nbsp;&nbsp;&nbsp;&nbsp;Cluster 3 consisted of patients who exclusively received blood work and were admitted as an emergency. This population had a rate of readmission of approximately 38% within 30 days of initial admission, the highest rate of the 4 clusters.\n",
    "\n",
    "- Implications:\n",
    "\n",
    "&nbsp;&nbsp;&nbsp;&nbsp;&nbsp;&nbsp;This suggests that patients who had received blood work due to emergency conditions could have underlying health issues that have not been fully resolved by the time of discharge. Assessing policies in place for emergency admission may be helpful and introducing interventions to assess and manage these conditions could help reduce patient readmission.\n",
    "\n",
    "*Cluster 4*:\n",
    "\n",
    "- Results:\n",
    "\n",
    "&nbsp;&nbsp;&nbsp;&nbsp;&nbsp;&nbsp;Cluster 4 was similar to cluster 3, such that patients had solely received blood work. These admissions were split between elective and observation admission. 35% of these patients were readmitted within 30 days.\n",
    "\n",
    "- Implications:\n",
    "\n",
    "&nbsp;&nbsp;&nbsp;&nbsp;&nbsp;&nbsp;The balance between elective and observation admissions and the considerable readmission rate should introduce review of the admission and discharge process for the hospital(s). Revising or creating new discharge care processes and investing in follow up care for these patients could help in reducing patient readmission."
   ]
  },
  {
   "cell_type": "markdown",
   "id": "25635a5e-39f1-4539-8839-a964ffc28c4f",
   "metadata": {},
   "source": [
    "### E3: Limitation <a name=\"Limitation\"></a>"
   ]
  },
  {
   "cell_type": "markdown",
   "id": "2d7bf63f-f29f-4062-a513-78ab72ae8fda",
   "metadata": {},
   "source": [
    "*Discuss one limitation of the data analysis.*"
   ]
  },
  {
   "cell_type": "markdown",
   "id": "739b2cb8-56d3-4d96-acb2-3603237f543f",
   "metadata": {},
   "source": [
    "&nbsp;&nbsp;&nbsp;&nbsp;&nbsp;&nbsp;One limitation of the analysis is the nature of the readmission data of the '*medical_clean*' data set. The data set provides the variable 'ReAdmis' as a binary variable to indicate whether or not a patient has been readmitted to the hospital within 30 days of their initial discharge. This however, does not indicate that the readmission was directly related to their previous admission or if the readmission was a separate incident; Readmission is only told as a true or false, yes or no value meaning there is no provided reason for exactly why the patient has been admitted to the hospital again and only that they were admitted again within 30 days of their prior \"initial\" admission."
   ]
  },
  {
   "cell_type": "markdown",
   "id": "8582c190-5d5e-4724-ac6e-66a567851f80",
   "metadata": {},
   "source": [
    "### E4: Course of Action <a name=\"Course-of-Action\"></a>"
   ]
  },
  {
   "cell_type": "markdown",
   "id": "169e53fd-f33b-4794-9218-e8cac07e9f10",
   "metadata": {},
   "source": [
    "*Recommend a reasonable course of action.*"
   ]
  },
  {
   "cell_type": "markdown",
   "id": "0cf60202-1e1c-49aa-8273-8cae28dea547",
   "metadata": {},
   "source": [
    "&nbsp;&nbsp;&nbsp;&nbsp;&nbsp;&nbsp;By examining how the types of admission and services received relate to patient readmission, as described in the question proposal, key interventions can be implemented from results and implications. Clusters 1 and 2 both see a high rate of intravenous service and considerable rate of readmission, suggesting the need for the creation or improvement of post discharge care. In order to do this, implementing phone calls, emails or visits home from the healthcare staff could support patients after their initial admission. Additionally, patient education programs could be helpful in educating patients of the conditions that lead to intravenous care, which together ultimately aims in reducing patient readmission.<br />\n",
    "&nbsp;&nbsp;&nbsp;&nbsp;&nbsp;&nbsp;Clusters 3 and 4 have exclusively involve blood work done as a service with a one cluster specific to emergency admissions and the other split between elective and observation admissions. This mix proposes the need to better the admission to discharge process. It is recommended to do further analysis in each of these cases of these clusters, insight may be uncovered on how admissions and care could be managed more effectively for more specific findings. These actions are designed to address specific challenges that were found in the clustering analysis, in order to reduce patient readmission and the associated fines."
   ]
  },
  {
   "cell_type": "markdown",
   "id": "25e33b86-c0f0-4e03-bc8c-8ba8eefc6afc",
   "metadata": {},
   "source": [
    "<br /><br /><br /><br /><br /><br /><br />"
   ]
  },
  {
   "cell_type": "markdown",
   "id": "102688cf-ff0b-47b3-abb3-0bb910302dae",
   "metadata": {},
   "source": [
    "## Demonstration <a name=\"Demonstration\"></a>"
   ]
  },
  {
   "cell_type": "markdown",
   "id": "bbfd8fb9-4ce4-46b4-81ca-57ac0fa68a34",
   "metadata": {},
   "source": [
    "### Panopto Video of Programs <a name=\"Panopto-Video-of-Programs\"></a>"
   ]
  },
  {
   "cell_type": "markdown",
   "id": "2a8af8f7-0baa-4ce1-8053-8b36336df1ee",
   "metadata": {},
   "source": [
    "https://wgu.hosted.panopto.com/Panopto/Pages/Viewer.aspx?id=6de465dd-2fb4-4359-a702-b1760139d656"
   ]
  },
  {
   "cell_type": "markdown",
   "id": "a859da6b-4710-45bb-adce-09dac0f426d8",
   "metadata": {},
   "source": [
    "### Sources for Third-Party Code <a name=\"Sources-for-Third--Party-Code\"></a>"
   ]
  },
  {
   "cell_type": "markdown",
   "id": "1f5af549-0c52-42e3-b2fd-e474c1489314",
   "metadata": {},
   "source": [
    "2.3. Clustering. scikit learn. (n.d.). https://scikit-learn.org/stable/modules/clustering.html<br /><br />\n",
    "DataCamp WGU Course Resource<br /><br />\n",
    "gower 0.1.2. PyPI. (2022, November). https://pypi.org/project/gower/<br /><br />\n",
    "warnings - Warning control. Python documentation. (n.d.). https://docs.python.org/3/library/warnings.html"
   ]
  },
  {
   "cell_type": "markdown",
   "id": "7cf3a752-12ef-4a88-88aa-7feacb69a265",
   "metadata": {},
   "source": [
    "### Sources <a name=\"Sources\"></a>"
   ]
  },
  {
   "cell_type": "markdown",
   "id": "356ab0c6-c99f-4c68-a466-9262be37408f",
   "metadata": {},
   "source": [
    "Anand, D. (2024, February 20). Gower’s distance. Medium. https://medium.com/analytics-vidhya/gowers-distance-899f9c4bd553<br /><br />\n",
    "DataCamp WGU Course Resource<br /><br />\n",
    "Liao, M., Li, Y., Kianifard, F., Obi, E., & Arcona, S. (2016, March 2). Cluster analysis and its application to healthcare claims data: A study of end-stage renal disease patients who initiated hemodialysis. BMC nephrology. https://www.ncbi.nlm.nih.gov/pmc/articles/PMC4776444/<br /><br />\n",
    "Muhammad, U. S. (2023, June 9). Hierarchical clustering for categorical data. Medium. https://medium.com/@umarsmuhammed/hierarchical-clustering-for-categorical-data-168fe8fc0e2b<br /><br />"
   ]
  }
 ],
 "metadata": {
  "kernelspec": {
   "display_name": "Python 3 (ipykernel)",
   "language": "python",
   "name": "python3"
  },
  "language_info": {
   "codemirror_mode": {
    "name": "ipython",
    "version": 3
   },
   "file_extension": ".py",
   "mimetype": "text/x-python",
   "name": "python",
   "nbconvert_exporter": "python",
   "pygments_lexer": "ipython3",
   "version": "3.11.7"
  }
 },
 "nbformat": 4,
 "nbformat_minor": 5
}
