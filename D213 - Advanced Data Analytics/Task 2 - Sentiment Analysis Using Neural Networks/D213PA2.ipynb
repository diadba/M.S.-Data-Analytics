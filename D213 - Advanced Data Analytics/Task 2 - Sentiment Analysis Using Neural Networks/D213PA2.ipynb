{
 "cells": [
  {
   "cell_type": "markdown",
   "id": "bb80aaf6-a912-4ce9-a4df-9db339c07ed0",
   "metadata": {},
   "source": [
    "## D213 Performance Assessment - Sentiment Analysis Using Neural Networks\n",
    "\n",
    "**Name:** Coots, Anthony.<br />\n",
    "**Affiliation:** Grad Student M.Sc Data Analytics.<br />\n",
    "**Date:** `2024-06-12`<br />\n",
    "**Version:** 1.2.0, r0."
   ]
  },
  {
   "cell_type": "markdown",
   "id": "3c831c5d-fcd2-4050-b64f-52c88cb26119",
   "metadata": {},
   "source": [
    "### Introduction"
   ]
  },
  {
   "cell_type": "markdown",
   "id": "9a3db0bd-ff66-4476-8ca7-f643775f102f",
   "metadata": {},
   "source": [
    "\"Throughout your career as a data analyst, you will assess continuing data sources for their relevance to specific research questions. Organizations use data sets to analyze their operations. Organizations may use these data sets in many ways to support their decision-making processes.\n",
    "\n",
    "In your previous work, you explored a variety of supervised and unsupervised data mining models. You have seen the power of using data analysis techniques to help organizations make data-driven decisions, and you will now extend these models into areas of machine learning and artificial intelligence. In this course, you will explore the use of neural networks and natural language processing (NLP).\n",
    "\n",
    "In this task, you will use the \"[UCI Sentiment Labeled Sentences Data Set](https://archive.ics.uci.edu/dataset/331/sentiment+labelled+sentences)\" in the Web Links section. You will build a neural network that is designed to learn word usage and context using NLP techniques. You will provide visualizations and a report, as well as build your network in an interactive development environment.\" \n",
    "\n",
    "*- WGU*"
   ]
  },
  {
   "cell_type": "markdown",
   "id": "bc584fc3-e44a-48bc-80e8-b8aeaf89ef3a",
   "metadata": {},
   "source": [
    "### Competencies"
   ]
  },
  {
   "cell_type": "markdown",
   "id": "5509c5fe-2097-489e-aafb-1cf98dabe80b",
   "metadata": {},
   "source": [
    "4030.7.1 : Constructing Neural Networks\n",
    "- The graduate builds neural networks in the context of machine-learning modeling.\n",
    "\n",
    "4030.7.3 : Natural Language Processing\n",
    "- The graduate extracts insights from text data using effective and appropriate natural language processing (NLP) models."
   ]
  },
  {
   "cell_type": "markdown",
   "id": "64adacd5-c1f0-4e4e-9103-d6bc75b62efb",
   "metadata": {},
   "source": [
    "<br />"
   ]
  },
  {
   "cell_type": "markdown",
   "id": "83e4d283-1134-45ba-89ab-1ebd99946b14",
   "metadata": {},
   "source": [
    "### Table of Contents:\n",
    "- [Research Question](#Research-Question-H)\n",
    "    - [Research Question](#Research-Question)\n",
    "    - [Objectives or Goals](#Objectives-or-Goals)\n",
    "    - [Prescribed Network](#Prescribed-Network)\n",
    "- [Data Preparation](#Data-Preparation)\n",
    "    - [Data Exploration](#Data-Exploration)\n",
    "    - [Tokenization](#Tokenization)\n",
    "    - [Padding Process](#Padding-Process)\n",
    "    - [Categories of Sentiment](#Categories-of-Sentiment)\n",
    "    - [Steps to Prepare the Data](#Steps-to-Prepare-the-Data)\n",
    "    - [Prepared Data Set](#Prepared-Data-Set)\n",
    "- [Network Architecture](#Network-Architecture-H)\n",
    "    - [Model Summary](#Model-Summary)\n",
    "    - [Network Architecture](#Network-Architecture)\n",
    "    - [Hyperparameters](#Hyperparameters)\n",
    "- [Model Evaluation](#Model-Evaluation)\n",
    "    - [Stopping Criteria](#Stopping-Criteria)\n",
    "    - [Fitness](#Fitness)\n",
    "    - [Training Process](#Training-Process)\n",
    "    - [Predictive Accuracy](#Predictive-Accuracy)\n",
    "- [Summary and Recommendations](#Summary-and-Recommendations)\n",
    "    - [Code](#Code)\n",
    "    - [Functionality](#Functionality)\n",
    "    - [Recommendations](#Recommendations)\n",
    "- [Reporting](#Reporting)\n",
    "    - [Sources for Third-Party Code](#Sources-for-Third--Party-Code)\n",
    "    - [Sources](#Sources)"
   ]
  },
  {
   "cell_type": "markdown",
   "id": "c5161036-2228-402d-8618-0ffc94e07a85",
   "metadata": {},
   "source": [
    "<br /><br /><br /><br /><br /><br /><br /><br /><br /><br />"
   ]
  },
  {
   "cell_type": "markdown",
   "id": "0cc83848-9489-4a0f-847d-e6b3be2a4714",
   "metadata": {},
   "source": [
    "## Research Question<a name=\"Research-Question-H\"></a>"
   ]
  },
  {
   "cell_type": "markdown",
   "id": "a13ca2ef-286a-447e-8e3d-90768d356eab",
   "metadata": {},
   "source": [
    "### A1: Research Question <a name=\"Research-Question\"></a>"
   ]
  },
  {
   "cell_type": "markdown",
   "id": "a235e500-705c-4859-9d1e-cea08b5b38f0",
   "metadata": {},
   "source": [
    "*Summarize one research question, and the research question must be relevant to a realistic organizational situation and sentiment analysis*."
   ]
  },
  {
   "cell_type": "markdown",
   "id": "dc4ad7d7-2518-492a-b099-de08711ffe90",
   "metadata": {},
   "source": [
    "**Question**: \"*How effectively can a neural network model, trained on the Yelp data set 'yelp_labelled.txt,' classify restaurant reviews into positive and negative sentiment categories*?\""
   ]
  },
  {
   "cell_type": "markdown",
   "id": "cd3161ff-f884-4b3c-97b5-99f9f0e43c79",
   "metadata": {},
   "source": [
    "### A2: Objectives or Goals <a name=\"Objectives-or-Goals\"></a>"
   ]
  },
  {
   "cell_type": "markdown",
   "id": "a27228c3-5dca-4cad-9fd5-6a0b5c11e49c",
   "metadata": {},
   "source": [
    "*Define each of the objectives or goals for the data analysis. Each goal must be reasonable/within scope of the research question*."
   ]
  },
  {
   "cell_type": "markdown",
   "id": "ffb7ac3b-caa5-4f19-86ed-1a717da03aae",
   "metadata": {},
   "source": [
    "**Objectives**:<br />\n",
    "- Obj.**1**: Preprocess the data.<br /><br />\n",
    "&nbsp;&nbsp;&nbsp;&nbsp;&nbsp;&nbsp;The analysis will first prepare the Yelp review dataset for sentiment analysis by cleaning and preprocessing the text data so it is fit for neural network training. Methods such as tokenization, removal of stop words, and the normalization of text will be included.<br /><br />\n",
    "- Obj.**2**: Develop a sentiment classification model.<br /><br />\n",
    "&nbsp;&nbsp;&nbsp;&nbsp;&nbsp;&nbsp;The next objective is to design and train a neural network model to classify Yelp reviews with a reasonable accuracy. The reviews will be classified as positive or negative based on the text content. This will use a convolutional neural network (CNN) with dense layers and other hyperparameters will be the engine of this analysis.<br /><br />\n",
    "- Obj.**3**: Evaluate the models performance.<br /><br />\n",
    "&nbsp;&nbsp;&nbsp;&nbsp;&nbsp;&nbsp;Using metrics like accuracy and loss will evaluate the effectiveness of the neural network for classifying sentiments positive or negative.<br /><br />\n",
    "- Obj.**4**: Visualize the results.<br /><br />\n",
    "&nbsp;&nbsp;&nbsp;&nbsp;&nbsp;&nbsp;The analysis will include creating visualizations in order to detail the model's effectiveness for sentiment. Visualizations like confusion matrices will be implemented to show the true positives and negatives, and false positives and negatives.<br /><br />\n",
    "- Obj.**5**: Report findings.<br /><br />\n",
    "&nbsp;&nbsp;&nbsp;&nbsp;&nbsp;&nbsp;Lastly, the data analysis will summarize the results and insights gained from the model.<br /><br />"
   ]
  },
  {
   "cell_type": "markdown",
   "id": "a8abdf2d-491d-4d45-b926-58267715ca2a",
   "metadata": {},
   "source": [
    "<br /><br /><br /><br /><br /><br /><br /><br /><br /><br /><br /><br /><br /><br /><br /><br /><br /><br /><br /><br /><br /><br /><br /><br /><br /><br />"
   ]
  },
  {
   "cell_type": "markdown",
   "id": "eadee58a-370f-492b-9389-60edda3f0948",
   "metadata": {},
   "source": [
    "### A3: Prescribed Network <a name=\"Prescribed-Network\"></a>"
   ]
  },
  {
   "cell_type": "markdown",
   "id": "a427e195-9094-42d2-8499-f4c297dd61cc",
   "metadata": {},
   "source": [
    "*Identify an industry-relevant type of neural network that can be trained to produce useful text classification predictions on text sequences*."
   ]
  },
  {
   "cell_type": "markdown",
   "id": "d3b0c670-b9b0-4c71-9fed-3df71a6351c4",
   "metadata": {},
   "source": [
    "**Type**: *Convolutional Neural Network*."
   ]
  },
  {
   "attachments": {},
   "cell_type": "markdown",
   "id": "0ae53919-07ca-4a94-b320-2345a6ef2bbe",
   "metadata": {},
   "source": [
    "&nbsp;&nbsp;&nbsp;&nbsp;&nbsp;&nbsp;Convolutional Neural Networks (CNNs) are known best for their ability to extract local features from data. This is key for text classification in order to determine sentiment of Yelp reviews. CNNs use filters to detect specific patterns of words to capture contextual distinctions for determining sentiment, like positive or negative. The CNN overall is a good fit for this analysis as it works with analyzing short but detail heavy text like what is seen in a common Yelp review. A small look into the sentiment analysis involves applying layers like \"GlobalMaxPooling1D\" from Python's library \"tensorflow.keras.Layers\" helps in getting the important features from the convolutional layers and reducing the dimensionality.<br /><br />\n",
    "Sources I found useful:\n",
    "- [d2l.ai, Chapter Natural Language Processing Applications: Sentiment Analysis](https://d2l.ai/chapter_natural-language-processing-applications/sentiment-analysis-cnn.html):<br /><br />\n",
    "&nbsp;&nbsp;&nbsp;&nbsp;&nbsp;&nbsp;Provides insight on using CNNs for natural language processing.<br /><br />\n",
    "- [Machine Learning Mastery, Develop Word Embedding Model Predicting Movie Review Sentiment](https://machinelearningmastery.com/develop-word-embedding-model-predicting-movie-review-sentiment/):<br /><br />\n",
    "&nbsp;&nbsp;&nbsp;&nbsp;&nbsp;&nbsp;Details the use of CNNs in a similar context to Yelp reviews (movies)."
   ]
  },
  {
   "cell_type": "markdown",
   "id": "083c96fb-6749-4f28-9250-1b7a20c72179",
   "metadata": {},
   "source": [
    "<br /><br /><br /><br /><br /><br /><br /><br /><br /><br />"
   ]
  },
  {
   "cell_type": "markdown",
   "id": "962e6dd6-69f5-4c71-857d-58bb116e0e0b",
   "metadata": {},
   "source": [
    "## Data Preparation <a name=\"Data-Preparation\"></a>"
   ]
  },
  {
   "cell_type": "markdown",
   "id": "57597335-7181-4825-9a68-a889637d9c48",
   "metadata": {},
   "source": [
    "### B1: Data Exploration <a name=\"Data-Exploration\"></a>"
   ]
  },
  {
   "cell_type": "markdown",
   "id": "2a563454-43c5-4d84-8b2b-9fc229d1abc6",
   "metadata": {},
   "source": [
    "*Include exploratory data analysis on the chosen data set*."
   ]
  },
  {
   "cell_type": "code",
   "execution_count": 1,
   "id": "68c99e7f-565f-46ed-9fa4-3873020a0e57",
   "metadata": {},
   "outputs": [],
   "source": [
    "# Required libraries for EDA.\n",
    "import matplotlib.pyplot as plt\n",
    "import nltk\n",
    "from nltk.corpus import stopwords\n",
    "from nltk.tokenize import word_tokenize\n",
    "import numpy as np\n",
    "import pandas as pd\n",
    "import re\n",
    "import seaborn as sns"
   ]
  },
  {
   "cell_type": "markdown",
   "id": "5f54fbe4-27df-4eb8-9c14-b5fef94108ae",
   "metadata": {},
   "source": [
    "<br /><br /><br /><br /><br /><br /><br /><br /><br /><br /><br /><br /><br /><br /><br /><br /><br /><br /><br /><br /><br /><br /><br /><br /><br /><br />"
   ]
  },
  {
   "cell_type": "markdown",
   "id": "2aa71e45-7ebf-45e3-9066-746b472dd9ad",
   "metadata": {},
   "source": [
    "**Loading the Data**:"
   ]
  },
  {
   "cell_type": "markdown",
   "id": "7d32b60b-460e-4046-a447-7258b542f56f",
   "metadata": {},
   "source": [
    "&nbsp;&nbsp;&nbsp;&nbsp;&nbsp;&nbsp;The analysis will begin by loading the data in the text file to a pandas DataFrame. The DataFrame will start with two columns, the review and the sentiment, positive or negative indicated as 1 or 0, respectively."
   ]
  },
  {
   "cell_type": "code",
   "execution_count": 2,
   "id": "03966103-fe1f-4d58-a78f-23df53aa97b0",
   "metadata": {},
   "outputs": [],
   "source": [
    "# DataFrame of txt file. File is tab-delimited.\n",
    "df = pd.read_csv('yelp_labelled.txt', \n",
    "    delimiter = '\\t', \n",
    "    header = None,\n",
    "    names = ['Review', 'Sentiment']\n",
    ")"
   ]
  },
  {
   "cell_type": "code",
   "execution_count": 3,
   "id": "0916dce2-fc0f-4dee-85ae-468ed7e3961e",
   "metadata": {},
   "outputs": [
    {
     "data": {
      "text/html": [
       "<div>\n",
       "<style scoped>\n",
       "    .dataframe tbody tr th:only-of-type {\n",
       "        vertical-align: middle;\n",
       "    }\n",
       "\n",
       "    .dataframe tbody tr th {\n",
       "        vertical-align: top;\n",
       "    }\n",
       "\n",
       "    .dataframe thead th {\n",
       "        text-align: right;\n",
       "    }\n",
       "</style>\n",
       "<table border=\"1\" class=\"dataframe\">\n",
       "  <thead>\n",
       "    <tr style=\"text-align: right;\">\n",
       "      <th></th>\n",
       "      <th>Review</th>\n",
       "      <th>Sentiment</th>\n",
       "    </tr>\n",
       "  </thead>\n",
       "  <tbody>\n",
       "    <tr>\n",
       "      <th>0</th>\n",
       "      <td>Wow... Loved this place.</td>\n",
       "      <td>1</td>\n",
       "    </tr>\n",
       "    <tr>\n",
       "      <th>1</th>\n",
       "      <td>Crust is not good.</td>\n",
       "      <td>0</td>\n",
       "    </tr>\n",
       "    <tr>\n",
       "      <th>2</th>\n",
       "      <td>Not tasty and the texture was just nasty.</td>\n",
       "      <td>0</td>\n",
       "    </tr>\n",
       "  </tbody>\n",
       "</table>\n",
       "</div>"
      ],
      "text/plain": [
       "                                      Review  Sentiment\n",
       "0                   Wow... Loved this place.          1\n",
       "1                         Crust is not good.          0\n",
       "2  Not tasty and the texture was just nasty.          0"
      ]
     },
     "execution_count": 3,
     "metadata": {},
     "output_type": "execute_result"
    }
   ],
   "source": [
    "df.head(3)"
   ]
  },
  {
   "cell_type": "markdown",
   "id": "f51133d4-201f-4822-bdf9-cc46a9cea28c",
   "metadata": {},
   "source": [
    "<br /><br /><br /><br /><br /><br /><br /><br /><br /><br /><br /><br /><br /><br /><br /><br /><br /><br /><br /><br /><br />"
   ]
  },
  {
   "cell_type": "markdown",
   "id": "1145353b-dad6-4363-9b96-b34f5d6dd914",
   "metadata": {},
   "source": [
    "**Data Cleaning/Preprocessing**:"
   ]
  },
  {
   "cell_type": "markdown",
   "id": "2383b4bc-5664-49e7-bb69-3a393e9db8ee",
   "metadata": {},
   "source": [
    "&nbsp;&nbsp;&nbsp;&nbsp;&nbsp;&nbsp;Data cleaning or data preprocessing for this analysis will include converting all reviews to a lowercase format and removing punctuation. That way, words like \"Youre\" or \"you're\" which contextually are the same, will both be normalized as \"youre\". Though not correct by means of spelling or use in a sentence, is correct for data exploration and analysis."
   ]
  },
  {
   "cell_type": "code",
   "execution_count": 4,
   "id": "a580739e-22c6-4951-8525-8c7075cb5f34",
   "metadata": {},
   "outputs": [],
   "source": [
    "# lowercase text.\n",
    "df['Review'] = df['Review'].str.lower()\n",
    "\n",
    "# Remove punctuation.\n",
    "df['Review'] = df['Review'].str.replace('[^\\w\\s]', '', regex = True)"
   ]
  },
  {
   "cell_type": "code",
   "execution_count": 5,
   "id": "3ddf3d1a-cd09-46b7-8ff3-a6c7651b67be",
   "metadata": {},
   "outputs": [
    {
     "data": {
      "text/html": [
       "<div>\n",
       "<style scoped>\n",
       "    .dataframe tbody tr th:only-of-type {\n",
       "        vertical-align: middle;\n",
       "    }\n",
       "\n",
       "    .dataframe tbody tr th {\n",
       "        vertical-align: top;\n",
       "    }\n",
       "\n",
       "    .dataframe thead th {\n",
       "        text-align: right;\n",
       "    }\n",
       "</style>\n",
       "<table border=\"1\" class=\"dataframe\">\n",
       "  <thead>\n",
       "    <tr style=\"text-align: right;\">\n",
       "      <th></th>\n",
       "      <th>Review</th>\n",
       "      <th>Sentiment</th>\n",
       "    </tr>\n",
       "  </thead>\n",
       "  <tbody>\n",
       "    <tr>\n",
       "      <th>0</th>\n",
       "      <td>wow loved this place</td>\n",
       "      <td>1</td>\n",
       "    </tr>\n",
       "    <tr>\n",
       "      <th>1</th>\n",
       "      <td>crust is not good</td>\n",
       "      <td>0</td>\n",
       "    </tr>\n",
       "    <tr>\n",
       "      <th>2</th>\n",
       "      <td>not tasty and the texture was just nasty</td>\n",
       "      <td>0</td>\n",
       "    </tr>\n",
       "    <tr>\n",
       "      <th>3</th>\n",
       "      <td>stopped by during the late may bank holiday of...</td>\n",
       "      <td>1</td>\n",
       "    </tr>\n",
       "    <tr>\n",
       "      <th>4</th>\n",
       "      <td>the selection on the menu was great and so wer...</td>\n",
       "      <td>1</td>\n",
       "    </tr>\n",
       "    <tr>\n",
       "      <th>5</th>\n",
       "      <td>now i am getting angry and i want my damn pho</td>\n",
       "      <td>0</td>\n",
       "    </tr>\n",
       "    <tr>\n",
       "      <th>6</th>\n",
       "      <td>honeslty it didnt taste that fresh</td>\n",
       "      <td>0</td>\n",
       "    </tr>\n",
       "    <tr>\n",
       "      <th>7</th>\n",
       "      <td>the potatoes were like rubber and you could te...</td>\n",
       "      <td>0</td>\n",
       "    </tr>\n",
       "    <tr>\n",
       "      <th>8</th>\n",
       "      <td>the fries were great too</td>\n",
       "      <td>1</td>\n",
       "    </tr>\n",
       "    <tr>\n",
       "      <th>9</th>\n",
       "      <td>a great touch</td>\n",
       "      <td>1</td>\n",
       "    </tr>\n",
       "  </tbody>\n",
       "</table>\n",
       "</div>"
      ],
      "text/plain": [
       "                                              Review  Sentiment\n",
       "0                               wow loved this place          1\n",
       "1                                  crust is not good          0\n",
       "2           not tasty and the texture was just nasty          0\n",
       "3  stopped by during the late may bank holiday of...          1\n",
       "4  the selection on the menu was great and so wer...          1\n",
       "5      now i am getting angry and i want my damn pho          0\n",
       "6                 honeslty it didnt taste that fresh          0\n",
       "7  the potatoes were like rubber and you could te...          0\n",
       "8                           the fries were great too          1\n",
       "9                                      a great touch          1"
      ]
     },
     "execution_count": 5,
     "metadata": {},
     "output_type": "execute_result"
    }
   ],
   "source": [
    "df.head(10)"
   ]
  },
  {
   "cell_type": "markdown",
   "id": "5aab5798-f3fb-40b0-b101-c223a5b2573b",
   "metadata": {},
   "source": [
    "<br /><br /><br /><br /><br /><br /><br /><br /><br /><br />"
   ]
  },
  {
   "cell_type": "markdown",
   "id": "74e9264c-9286-4eaa-94db-bbc023cd7195",
   "metadata": {},
   "source": [
    "**Unusual Characters**:"
   ]
  },
  {
   "cell_type": "markdown",
   "id": "f086268b-0bcc-4538-95ff-1eb6d4003db8",
   "metadata": {},
   "source": [
    "&nbsp;&nbsp;&nbsp;&nbsp;&nbsp;&nbsp;Similar to the reasoning used in '*Data Cleaning/Preprocessing*,' unusual characters like emojis only add a complexity to the data that is undesired. The same goes for non-english characters as this analysis is english based. For example, using \"Crépe\" and \"crépe\" separately may dilute the results when translating both to \"crepe\" will mean the same for this analysis and not have separate dedicated words solely based on spelling given the nature of another language."
   ]
  },
  {
   "cell_type": "code",
   "execution_count": 6,
   "id": "5c3c74f0-ce0d-4586-a990-3698d6f7aaa0",
   "metadata": {},
   "outputs": [
    {
     "name": "stdout",
     "output_type": "stream",
     "text": [
      "Number of reviews containing emojis: 0\n",
      "Number of reviews containing non-English characters: 4\n"
     ]
    }
   ],
   "source": [
    "# Find special characters, including emojis.\n",
    "def parse_review(review):\n",
    "    emoji_char = re.findall(\n",
    "        '[\\U00010000-\\U0010ffff]', \n",
    "        review, \n",
    "        flags = re.UNICODE\n",
    "    )\n",
    "\n",
    "    noneng_char = re.findall(\n",
    "        '[^\\x00-\\x7F]',\n",
    "        review,\n",
    "    )\n",
    "\n",
    "    return emoji_char, noneng_char\n",
    "\n",
    "df['Non-standard Characters'] = df['Review'].apply(parse_review)\n",
    "df[['Review', 'Non-standard Characters']]\n",
    "\n",
    "# Calculate how many reviews contain emojis or non-English characters\n",
    "df['Emoji'] = df['Non-standard Characters'].apply(lambda x: len(x[0]) > 0)\n",
    "df['Non-English'] = df['Non-standard Characters'].apply(lambda x: len(x[1]) > 0)\n",
    "\n",
    "print(\"Number of reviews containing emojis:\", df['Emoji'].sum())\n",
    "print(\"Number of reviews containing non-English characters:\", df['Non-English'].sum())"
   ]
  },
  {
   "cell_type": "code",
   "execution_count": 7,
   "id": "46486fad-f02f-4fbc-87ee-68498fae7f86",
   "metadata": {},
   "outputs": [
    {
     "data": {
      "text/html": [
       "<div>\n",
       "<style scoped>\n",
       "    .dataframe tbody tr th:only-of-type {\n",
       "        vertical-align: middle;\n",
       "    }\n",
       "\n",
       "    .dataframe tbody tr th {\n",
       "        vertical-align: top;\n",
       "    }\n",
       "\n",
       "    .dataframe thead th {\n",
       "        text-align: right;\n",
       "    }\n",
       "</style>\n",
       "<table border=\"1\" class=\"dataframe\">\n",
       "  <thead>\n",
       "    <tr style=\"text-align: right;\">\n",
       "      <th></th>\n",
       "      <th>Review</th>\n",
       "      <th>Sentiment</th>\n",
       "      <th>Non-standard Characters</th>\n",
       "      <th>Emoji</th>\n",
       "      <th>Non-English</th>\n",
       "    </tr>\n",
       "  </thead>\n",
       "  <tbody>\n",
       "    <tr>\n",
       "      <th>150</th>\n",
       "      <td>my fiancé and i came in the middle of the day ...</td>\n",
       "      <td>1</td>\n",
       "      <td>([], [é])</td>\n",
       "      <td>False</td>\n",
       "      <td>True</td>\n",
       "    </tr>\n",
       "    <tr>\n",
       "      <th>598</th>\n",
       "      <td>i really enjoyed crema café before they expand...</td>\n",
       "      <td>1</td>\n",
       "      <td>([], [é])</td>\n",
       "      <td>False</td>\n",
       "      <td>True</td>\n",
       "    </tr>\n",
       "    <tr>\n",
       "      <th>823</th>\n",
       "      <td>the crêpe was delicate and thin and moist</td>\n",
       "      <td>1</td>\n",
       "      <td>([], [ê])</td>\n",
       "      <td>False</td>\n",
       "      <td>True</td>\n",
       "    </tr>\n",
       "    <tr>\n",
       "      <th>915</th>\n",
       "      <td>the only thing i wasnt too crazy about was the...</td>\n",
       "      <td>0</td>\n",
       "      <td>([], [é])</td>\n",
       "      <td>False</td>\n",
       "      <td>True</td>\n",
       "    </tr>\n",
       "  </tbody>\n",
       "</table>\n",
       "</div>"
      ],
      "text/plain": [
       "                                                Review  Sentiment  \\\n",
       "150  my fiancé and i came in the middle of the day ...          1   \n",
       "598  i really enjoyed crema café before they expand...          1   \n",
       "823          the crêpe was delicate and thin and moist          1   \n",
       "915  the only thing i wasnt too crazy about was the...          0   \n",
       "\n",
       "    Non-standard Characters  Emoji  Non-English  \n",
       "150               ([], [é])  False         True  \n",
       "598               ([], [é])  False         True  \n",
       "823               ([], [ê])  False         True  \n",
       "915               ([], [é])  False         True  "
      ]
     },
     "execution_count": 7,
     "metadata": {},
     "output_type": "execute_result"
    }
   ],
   "source": [
    "df[df['Non-English'] > 0]"
   ]
  },
  {
   "cell_type": "code",
   "execution_count": 8,
   "id": "47fb7d3e-c704-4192-93a6-4ae07064364e",
   "metadata": {},
   "outputs": [],
   "source": [
    "# Replace with an english e.\n",
    "df['Review'] =df['Review'].str.replace('é', 'e')\n",
    "\n",
    "# Drop the non-english and emoji columns from the DataFrame.\n",
    "df = df.drop(columns = ['Non-standard Characters', 'Emoji', 'Non-English'])"
   ]
  },
  {
   "cell_type": "code",
   "execution_count": 9,
   "id": "fac9641f-fcf2-4ee5-b1f9-3ba031b567a6",
   "metadata": {},
   "outputs": [
    {
     "data": {
      "text/html": [
       "<div>\n",
       "<style scoped>\n",
       "    .dataframe tbody tr th:only-of-type {\n",
       "        vertical-align: middle;\n",
       "    }\n",
       "\n",
       "    .dataframe tbody tr th {\n",
       "        vertical-align: top;\n",
       "    }\n",
       "\n",
       "    .dataframe thead th {\n",
       "        text-align: right;\n",
       "    }\n",
       "</style>\n",
       "<table border=\"1\" class=\"dataframe\">\n",
       "  <thead>\n",
       "    <tr style=\"text-align: right;\">\n",
       "      <th></th>\n",
       "      <th>Review</th>\n",
       "      <th>Sentiment</th>\n",
       "    </tr>\n",
       "  </thead>\n",
       "  <tbody>\n",
       "    <tr>\n",
       "      <th>0</th>\n",
       "      <td>wow loved this place</td>\n",
       "      <td>1</td>\n",
       "    </tr>\n",
       "    <tr>\n",
       "      <th>1</th>\n",
       "      <td>crust is not good</td>\n",
       "      <td>0</td>\n",
       "    </tr>\n",
       "    <tr>\n",
       "      <th>2</th>\n",
       "      <td>not tasty and the texture was just nasty</td>\n",
       "      <td>0</td>\n",
       "    </tr>\n",
       "  </tbody>\n",
       "</table>\n",
       "</div>"
      ],
      "text/plain": [
       "                                     Review  Sentiment\n",
       "0                      wow loved this place          1\n",
       "1                         crust is not good          0\n",
       "2  not tasty and the texture was just nasty          0"
      ]
     },
     "execution_count": 9,
     "metadata": {},
     "output_type": "execute_result"
    }
   ],
   "source": [
    "df.head(3)"
   ]
  },
  {
   "cell_type": "markdown",
   "id": "2dab0450-d9c0-4190-a95c-880a862e9095",
   "metadata": {},
   "source": [
    "<br /><br /><br /><br /><br /><br /><br /><br /><br /><br /><br /><br /><br /><br /><br />"
   ]
  },
  {
   "cell_type": "markdown",
   "id": "e26082b6-5620-4c90-b58d-72238a4bad4d",
   "metadata": {},
   "source": [
    "**Vocabulary Size**:"
   ]
  },
  {
   "cell_type": "markdown",
   "id": "badf82d8-de0f-40f8-8cab-e583726797e5",
   "metadata": {},
   "source": [
    "&nbsp;&nbsp;&nbsp;&nbsp;&nbsp;&nbsp;Using the nltk library, '*Natural Language Toolkit*' we use the 'punkt' package and stopwords in order to effectively determine the vocabulary size. First it is important to find the tokens in the review, tokens are text elements broken down into typical and meaningful words. The tokens are then filtered to remove stopwords. Stopwords are words like \"the\", \"an\", \"in\" and etcetera. When the tokens are filtered from stopwords, the tokens are move meaningful for model digestion as stopwords do not add much in terms of context, generally speaking. Individual words are then parsed into a word set, where the length of this set, called vocab, is presented. Vocabulary size has a direct impact on the complextion of NLP models when determining sentiment. For example, the more distinct vocabulary words, the more parameters which ultimately adds computational complexity when, for words like \"the\", \"an\" and so on do not contribute immensely."
   ]
  },
  {
   "cell_type": "code",
   "execution_count": 10,
   "id": "8e15f835-d6c3-463a-b952-4d8e7c7aae7c",
   "metadata": {},
   "outputs": [
    {
     "name": "stderr",
     "output_type": "stream",
     "text": [
      "[nltk_data] Downloading package punkt to\n",
      "[nltk_data]     C:\\Users\\acoots\\AppData\\Roaming\\nltk_data...\n",
      "[nltk_data]   Package punkt is already up-to-date!\n",
      "[nltk_data] Downloading package stopwords to\n",
      "[nltk_data]     C:\\Users\\acoots\\AppData\\Roaming\\nltk_data...\n",
      "[nltk_data]   Package stopwords is already up-to-date!\n"
     ]
    },
    {
     "name": "stdout",
     "output_type": "stream",
     "text": [
      "Vocabulary Size: 1964\n"
     ]
    }
   ],
   "source": [
    "# Stopwords are words like \"the\", \"a\", \"in\", etc...\n",
    "nltk.download('punkt')\n",
    "nltk.download('stopwords')\n",
    "\n",
    "# Tokens are text elements broken down into typical/meaningful words.\n",
    "df['Tokens'] = df['Review'].apply(word_tokenize)\n",
    "\n",
    "# Filtered tokens are tokens not including stopwords.\n",
    "df['Tokens_F'] = df['Tokens'].apply(lambda x: [word for word in x if word not in stopwords.words('english')])\n",
    "\n",
    "# Words used for calculating size.\n",
    "word_set = [word for tokens in df['Tokens_F'] for word in tokens]\n",
    "\n",
    "# Vocab set.\n",
    "vocab = set(word_set)\n",
    "\n",
    "# Vocabulary size.\n",
    "print(\"Vocabulary Size:\", len(vocab))"
   ]
  },
  {
   "cell_type": "markdown",
   "id": "f54af221-dfd6-436c-afaf-0c92704f7fd6",
   "metadata": {},
   "source": [
    "<br /><br /><br /><br /><br />"
   ]
  },
  {
   "cell_type": "markdown",
   "id": "44974ade-46b3-4fea-a184-aecbeae6c788",
   "metadata": {},
   "source": [
    "**Proposed Word Embedding Length**:"
   ]
  },
  {
   "cell_type": "code",
   "execution_count": 11,
   "id": "843f5388-2738-40e0-8825-8f129cb08891",
   "metadata": {},
   "outputs": [
    {
     "data": {
      "image/png": "[encoded data removed]",
      "text/plain": [
       "<Figure size 1000x500 with 1 Axes>"
      ]
     },
     "metadata": {},
     "output_type": "display_data"
    }
   ],
   "source": [
    "# Get the length of the filtered tokens.\n",
    "df['Review Len'] = df['Tokens_F'].apply(len)\n",
    "\n",
    "plt.figure(figsize=(10,5))\n",
    "plt.hist(df['Review Len'], bins = 18, alpha = 0.5)\n",
    "plt.title(\"Filtered Token Review Length\")\n",
    "plt.xlabel('len(words)')\n",
    "plt.ylabel('freq.')\n",
    "plt.show()"
   ]
  },
  {
   "cell_type": "markdown",
   "id": "92e94be5-bdb0-46e8-b8f3-363e79e7daeb",
   "metadata": {},
   "source": [
    "&nbsp;&nbsp;&nbsp;&nbsp;&nbsp;&nbsp;Choosing the word embedding length is important as word embeddings are vector representations of words in dimensional space where the length refers to the dimensionality of the vectors. The embedding length essentially affects how much information each word captures about its' context and meaning. While there is varying agreement of an appropriate length, these lengths from what I have seen range anywhere from 50 to 400. For this analysis since the reviews are rather short, well keep the proposed word embedding length at 100, closer to 50 for the shorter review style and away from unnecessary length. It is important to avoid issues like overfitting where predictions are closer to examples only than the general nature of the data."
   ]
  },
  {
   "cell_type": "markdown",
   "id": "494b471f-5ee9-4e0f-979b-cb00fa6d0f5a",
   "metadata": {},
   "source": [
    "<br /><br /><br /><br /><br /><br />"
   ]
  },
  {
   "cell_type": "markdown",
   "id": "ede1f4c3-839a-4173-b054-8d4d7e73160b",
   "metadata": {},
   "source": [
    "**Statistical Justification for Maximum Sequence Length**:"
   ]
  },
  {
   "cell_type": "code",
   "execution_count": 12,
   "id": "e7f8770f-1d1a-4cef-afe4-d20fdd8fb81e",
   "metadata": {},
   "outputs": [
    {
     "name": "stdout",
     "output_type": "stream",
     "text": [
      "Maximum Sequence Length: 12.0\n"
     ]
    }
   ],
   "source": [
    "st95 = df['Review Len'].quantile(0.95)\n",
    "print(\"Maximum Sequence Length: \" + str(st95))"
   ]
  },
  {
   "cell_type": "markdown",
   "id": "59b1f6e2-0e74-4da8-b9ea-9b854c7eaea9",
   "metadata": {},
   "source": [
    "&nbsp;&nbsp;&nbsp;&nbsp;&nbsp;&nbsp;Maximum sequence length when performing text processing is the fixed length that all texts are padded/truncated to. This is so there is a standard length for the input data for batch processing. Too small of a length can be misleading and have a loss of information where alternatively if the length is too long then the computation may take longer or dilute important information. A statistical percentile of 95% aims to ensure that most of the data is retained without excessive length."
   ]
  },
  {
   "cell_type": "code",
   "execution_count": 13,
   "id": "ec607b81-cbbf-4aa8-969e-603916a35f28",
   "metadata": {},
   "outputs": [
    {
     "data": {
      "image/png": "[encoded data removed]",
      "text/plain": [
       "<Figure size 1000x500 with 1 Axes>"
      ]
     },
     "metadata": {},
     "output_type": "display_data"
    }
   ],
   "source": [
    "# Get the length of the filtered tokens.\n",
    "df['Review Len'] = df['Tokens_F'].apply(len)\n",
    "\n",
    "plt.figure(figsize=(10,5))\n",
    "plt.hist(df['Review Len'], bins = 18, alpha = 0.5)\n",
    "plt.title(\"Filtered Token Review Length\")\n",
    "plt.axvline(x = 12, color = 'orange', linestyle = '--')\n",
    "plt.xlabel('len(words)')\n",
    "plt.ylabel('freq.')\n",
    "plt.show()"
   ]
  },
  {
   "cell_type": "markdown",
   "id": "27094b96-dc52-461b-863f-67c702f76591",
   "metadata": {},
   "source": [
    "&nbsp;&nbsp;&nbsp;&nbsp;&nbsp;&nbsp;This also seems to be supported visually in the histogram."
   ]
  },
  {
   "cell_type": "markdown",
   "id": "a949d2aa-bb35-433c-afd7-b33bbddfa024",
   "metadata": {},
   "source": [
    "<br /><br />"
   ]
  },
  {
   "cell_type": "markdown",
   "id": "3eae74f0-8340-49ca-8727-4544f2cf50db",
   "metadata": {},
   "source": [
    "### B2: Tokenization <a name=\"Tokenization\"></a>"
   ]
  },
  {
   "cell_type": "markdown",
   "id": "83cedf0d-6849-48d0-b714-3dd5dd70dd5d",
   "metadata": {},
   "source": [
    "*Describe the goals of the tokenization process, including any code generated and packages that are used to normalize text during the tokenization process*."
   ]
  },
  {
   "cell_type": "markdown",
   "id": "26d880e2-af35-466a-99b2-3cb90490af3b",
   "metadata": {},
   "source": [
    "**Goals**:<br />\n",
    "- G.**1**: Text to tokens.<br /><br />\n",
    "&nbsp;&nbsp;&nbsp;&nbsp;&nbsp;&nbsp;Break down natural language text into pieces called tokens, which are similar to words. This natural language processing task transforms the unstructured text into a format that can be analyzed.<br /><br />\n",
    "- G.**2**: Standardization.<br /><br />\n",
    "&nbsp;&nbsp;&nbsp;&nbsp;&nbsp;&nbsp;Normalizing the text such that there is a normal or uniform nature across the data by converting all characters to lowercase and all non-standard charcaters like 'é' to the english equivalent 'e'. This step was performed in B1.<br /><br />\n",
    "- G.**3**: Processing.<br /><br />\n",
    "&nbsp;&nbsp;&nbsp;&nbsp;&nbsp;&nbsp;Once the text is broken down into tokens, processing often includes filtering the tokens for stopwords. Stopwords are words such as \"the\", \"an\", \"i\" and so on that add more words to the analysis/model digestion than what is necessary.<br /><br />\n",
    "- G.**4**: Model Accuracy.<br /><br />\n",
    "&nbsp;&nbsp;&nbsp;&nbsp;&nbsp;&nbsp;Once the text is converted into tokens, models may learn easier about the structure and sentiment of the text for better analysis. Where ultimately, the best analysis possible is always a goal.<br /><br />"
   ]
  },
  {
   "cell_type": "markdown",
   "id": "36519104-52ee-4ac5-ac2f-46cf4f8a23cf",
   "metadata": {},
   "source": [
    "<br /><br /><br /><br />"
   ]
  },
  {
   "cell_type": "markdown",
   "id": "a0eaae1d-cad2-4bb2-93a6-4b72a5e89b0d",
   "metadata": {},
   "source": [
    "**Code**:<br />\n",
    "It is important to note that tokenization was taken care of in the prior documentation, B1, therefore the code will be provided, just commented out.<br /><br />\n",
    "- L.**1**: NLTK (Natural Language Toolkit)<br /><br />\n",
    "&nbsp;&nbsp;&nbsp;&nbsp;&nbsp;&nbsp;NLTK is a fundemental library used for natural language processing tasks, like tokenization. The 'punkt' model is a pre-trained model for tokenization.<br /><br />\n",
    "- L.**2**: Pandas<br /><br />\n",
    "&nbsp;&nbsp;&nbsp;&nbsp;&nbsp;&nbsp;Pandas is a library useful for many different aspects of data science. Pandas was used for storing processed columns for identification of tokens, filtered tokens and normalized columns<br /><br />\n",
    "- L.**3**: re (Regular Expressions)<br /><br />\n",
    "&nbsp;&nbsp;&nbsp;&nbsp;&nbsp;&nbsp;Regular expressions which is denoted as re, is used for parsing the text for emojis and non-english characters which we do not desire to keep for this analysis. Only non-english characters were found, and they were promptly updated with the english character equivalent. For example, 'é' to 'e' for crepe."
   ]
  },
  {
   "cell_type": "markdown",
   "id": "8f7f47fe-c311-4fa7-a437-80395ce2e0e3",
   "metadata": {},
   "source": [
    "<br /><br /><br /><br /><br /><br /><br /><br /><br /><br /><br /><br /><br /><br />"
   ]
  },
  {
   "cell_type": "code",
   "execution_count": 14,
   "id": "78c90351-876a-4248-ac30-be277fa5b4f4",
   "metadata": {},
   "outputs": [],
   "source": [
    "### NOTE: Code was executed in B1.\n",
    "\n",
    "# Find special characters, including emojis.\n",
    "# def parse_review(review):\n",
    "#     emoji_char = re.findall(\n",
    "#         '[\\U00010000-\\U0010ffff]', \n",
    "#         review, \n",
    "#         flags = re.UNICODE\n",
    "#     )\n",
    "\n",
    "#     noneng_char = re.findall(\n",
    "#         '[^\\x00-\\x7F]',\n",
    "#         review,\n",
    "#     )\n",
    "\n",
    "#     return emoji_char, noneng_char\n",
    "\n",
    "# df['Non-standard Characters'] = df['Review'].apply(parse_review)\n",
    "# df[['Review', 'Non-standard Characters']]\n",
    "\n",
    "# Calculate how many reviews contain emojis or non-English characters\n",
    "# df['Emoji'] = df['Non-standard Characters'].apply(lambda x: len(x[0]) > 0)\n",
    "# df['Non-English'] = df['Non-standard Characters'].apply(lambda x: len(x[1]) > 0)\n",
    "\n",
    "# print(\"Number of reviews containing emojis:\", df['Emoji'].sum())\n",
    "# print(\"Number of reviews containing non-English characters:\", df['Non-English'].sum())\n",
    "\n",
    "# Replace with an english e.\n",
    "# df['Review'] =df['Review'].str.replace('é', 'e')\n",
    "\n",
    "# Drop the non-english and emoji columns from the DataFrame.\n",
    "# df = df.drop(columns = ['Non-standard Characters', 'Emoji', 'Non-English'])\n",
    "\n",
    "# Stopwords are words like \"the\", \"a\", \"in\", etc...\n",
    "# nltk.download('punkt')\n",
    "# nltk.download('stopwords')\n",
    "\n",
    "# Tokens are text elements broken down into typical/meaningful words.\n",
    "# df['Tokens'] = df['Review'].apply(word_tokenize)\n",
    "\n",
    "# Filtered tokens are tokens not including stopwords.\n",
    "# df['Tokens_F'] = df['Tokens'].apply(lambda x: [word for word in x if word not in stopwords.words('english')])\n",
    "\n",
    "# Words used for calculating size.\n",
    "# word_set = [word for tokens in df['Tokens_F'] for word in tokens]\n",
    "\n",
    "# Vocab set.\n",
    "# vocab = set(word_set)\n",
    "\n",
    "# Vocabulary size.\n",
    "# print(\"Vocabulary Size:\", len(vocab))"
   ]
  },
  {
   "cell_type": "markdown",
   "id": "14eac9e6-ff09-48b4-ad7a-3220c9c821e9",
   "metadata": {},
   "source": [
    "### B3: Padding Process <a name=\"Padding-Process\"></a>"
   ]
  },
  {
   "cell_type": "markdown",
   "id": "928899c1-966c-4567-9b7c-98040512cb79",
   "metadata": {},
   "source": [
    "*Explain the padding process used to standardize the length of sequences and include an explanation of where the padding occurs*."
   ]
  },
  {
   "cell_type": "markdown",
   "id": "1634af14-83ab-4bf9-8275-2f1ce432494b",
   "metadata": {},
   "source": [
    "&nbsp;&nbsp;&nbsp;&nbsp;&nbsp;&nbsp;Padding is used to standardize the lengths of text sequences so that the each of the sequences fit in a CNN model appropriately. Padding usually adds a character or token to extend the current sequence to the uniform length. There are two types of padding, pre-padding and post-padding where each add the padding characters or tokens at the beginning and end of the sequence, respectively.<br />\n",
    "&nbsp;&nbsp;&nbsp;&nbsp;&nbsp;&nbsp;From my topical research, CNNs do not have an immediate favorite for padding position, pre or post. However, post-padding seems to be the standard across most models therefore for this analysis that will be the method applied. This means that the padding characters/tokens will be added to the end of the sequence, please see the following code."
   ]
  },
  {
   "cell_type": "code",
   "execution_count": 15,
   "id": "d8351349-2c0e-47e5-9bb1-7e678457ee07",
   "metadata": {},
   "outputs": [
    {
     "name": "stdout",
     "output_type": "stream",
     "text": [
      "Note: you may need to restart the kernel to use updated packages.\n"
     ]
    }
   ],
   "source": [
    "pip install keras -q"
   ]
  },
  {
   "cell_type": "code",
   "execution_count": 16,
   "id": "297c0992-6db4-4440-b63f-b5dd9517aea9",
   "metadata": {},
   "outputs": [
    {
     "name": "stdout",
     "output_type": "stream",
     "text": [
      "Note: you may need to restart the kernel to use updated packages.\n"
     ]
    }
   ],
   "source": [
    "pip install tensorflow -q"
   ]
  },
  {
   "cell_type": "code",
   "execution_count": 17,
   "id": "da62e02e-21e4-4801-ab16-743297b1e2fc",
   "metadata": {},
   "outputs": [],
   "source": [
    "# Import libraries for padding sequences.\n",
    "from keras.preprocessing.sequence import pad_sequences"
   ]
  },
  {
   "cell_type": "code",
   "execution_count": 18,
   "id": "21680052-edc7-434c-977b-d8736cd05988",
   "metadata": {},
   "outputs": [],
   "source": [
    "# Create a list with unique integers for each token.\n",
    "inToken = [token for sublist in df['Tokens_F'] for token in sublist]\n",
    "\n",
    "# Integers for tokens, starting at 1.\n",
    "vocabulary = {token: i + 1 for i, token in enumerate(set(inToken))}\n",
    "\n",
    "# Tokens and integers.\n",
    "df['Tokens_i'] = df['Tokens_F'].apply(lambda x: [vocabulary[token] for token in x])\n",
    "\n",
    "# Maximum sequence length = st95, the statistical measure from earlier.\n",
    "maxlen = int(st95)\n",
    "\n",
    "# Pad.\n",
    "df['Sequences_P'] = list(pad_sequences(df['Tokens_i'], maxlen = maxlen, padding = 'post')) "
   ]
  },
  {
   "cell_type": "code",
   "execution_count": 19,
   "id": "b9d51f4a-5c91-4172-910e-cc64fbd813eb",
   "metadata": {},
   "outputs": [
    {
     "data": {
      "text/html": [
       "<div>\n",
       "<style scoped>\n",
       "    .dataframe tbody tr th:only-of-type {\n",
       "        vertical-align: middle;\n",
       "    }\n",
       "\n",
       "    .dataframe tbody tr th {\n",
       "        vertical-align: top;\n",
       "    }\n",
       "\n",
       "    .dataframe thead th {\n",
       "        text-align: right;\n",
       "    }\n",
       "</style>\n",
       "<table border=\"1\" class=\"dataframe\">\n",
       "  <thead>\n",
       "    <tr style=\"text-align: right;\">\n",
       "      <th></th>\n",
       "      <th>Tokens_F</th>\n",
       "      <th>Sequences_P</th>\n",
       "    </tr>\n",
       "  </thead>\n",
       "  <tbody>\n",
       "    <tr>\n",
       "      <th>0</th>\n",
       "      <td>[wow, loved, place]</td>\n",
       "      <td>[897, 1505, 1539, 0, 0, 0, 0, 0, 0, 0, 0, 0]</td>\n",
       "    </tr>\n",
       "    <tr>\n",
       "      <th>1</th>\n",
       "      <td>[crust, good]</td>\n",
       "      <td>[1473, 1779, 0, 0, 0, 0, 0, 0, 0, 0, 0, 0]</td>\n",
       "    </tr>\n",
       "    <tr>\n",
       "      <th>2</th>\n",
       "      <td>[tasty, texture, nasty]</td>\n",
       "      <td>[1575, 395, 608, 0, 0, 0, 0, 0, 0, 0, 0, 0]</td>\n",
       "    </tr>\n",
       "    <tr>\n",
       "      <th>3</th>\n",
       "      <td>[stopped, late, may, bank, holiday, rick, stev...</td>\n",
       "      <td>[246, 1786, 25, 118, 1673, 1133, 1959, 476, 15...</td>\n",
       "    </tr>\n",
       "    <tr>\n",
       "      <th>4</th>\n",
       "      <td>[selection, menu, great, prices]</td>\n",
       "      <td>[51, 1783, 1569, 1112, 0, 0, 0, 0, 0, 0, 0, 0]</td>\n",
       "    </tr>\n",
       "    <tr>\n",
       "      <th>5</th>\n",
       "      <td>[getting, angry, want, damn, pho]</td>\n",
       "      <td>[1646, 361, 299, 1025, 1672, 0, 0, 0, 0, 0, 0, 0]</td>\n",
       "    </tr>\n",
       "    <tr>\n",
       "      <th>6</th>\n",
       "      <td>[honeslty, didnt, taste, fresh]</td>\n",
       "      <td>[635, 241, 750, 1333, 0, 0, 0, 0, 0, 0, 0, 0]</td>\n",
       "    </tr>\n",
       "    <tr>\n",
       "      <th>7</th>\n",
       "      <td>[potatoes, like, rubber, could, tell, made, ah...</td>\n",
       "      <td>[196, 863, 1674, 1032, 1115, 1533, 1769, 1598,...</td>\n",
       "    </tr>\n",
       "    <tr>\n",
       "      <th>8</th>\n",
       "      <td>[fries, great]</td>\n",
       "      <td>[1951, 1569, 0, 0, 0, 0, 0, 0, 0, 0, 0, 0]</td>\n",
       "    </tr>\n",
       "    <tr>\n",
       "      <th>9</th>\n",
       "      <td>[great, touch]</td>\n",
       "      <td>[1569, 1485, 0, 0, 0, 0, 0, 0, 0, 0, 0, 0]</td>\n",
       "    </tr>\n",
       "  </tbody>\n",
       "</table>\n",
       "</div>"
      ],
      "text/plain": [
       "                                            Tokens_F  \\\n",
       "0                                [wow, loved, place]   \n",
       "1                                      [crust, good]   \n",
       "2                            [tasty, texture, nasty]   \n",
       "3  [stopped, late, may, bank, holiday, rick, stev...   \n",
       "4                   [selection, menu, great, prices]   \n",
       "5                  [getting, angry, want, damn, pho]   \n",
       "6                    [honeslty, didnt, taste, fresh]   \n",
       "7  [potatoes, like, rubber, could, tell, made, ah...   \n",
       "8                                     [fries, great]   \n",
       "9                                     [great, touch]   \n",
       "\n",
       "                                         Sequences_P  \n",
       "0       [897, 1505, 1539, 0, 0, 0, 0, 0, 0, 0, 0, 0]  \n",
       "1         [1473, 1779, 0, 0, 0, 0, 0, 0, 0, 0, 0, 0]  \n",
       "2        [1575, 395, 608, 0, 0, 0, 0, 0, 0, 0, 0, 0]  \n",
       "3  [246, 1786, 25, 118, 1673, 1133, 1959, 476, 15...  \n",
       "4     [51, 1783, 1569, 1112, 0, 0, 0, 0, 0, 0, 0, 0]  \n",
       "5  [1646, 361, 299, 1025, 1672, 0, 0, 0, 0, 0, 0, 0]  \n",
       "6      [635, 241, 750, 1333, 0, 0, 0, 0, 0, 0, 0, 0]  \n",
       "7  [196, 863, 1674, 1032, 1115, 1533, 1769, 1598,...  \n",
       "8         [1951, 1569, 0, 0, 0, 0, 0, 0, 0, 0, 0, 0]  \n",
       "9         [1569, 1485, 0, 0, 0, 0, 0, 0, 0, 0, 0, 0]  "
      ]
     },
     "execution_count": 19,
     "metadata": {},
     "output_type": "execute_result"
    }
   ],
   "source": [
    "# Show filtered tokens referenced and sequences padded.\n",
    "df[['Tokens_F', 'Sequences_P']].head(10)"
   ]
  },
  {
   "cell_type": "markdown",
   "id": "d12d323b-1dc4-4db1-bae7-0be8e1947711",
   "metadata": {},
   "source": [
    "<br /><br /><br /><br /><br /><br /><br /><br /><br /><br /><br /><br /><br /><br /><br /><br /><br /><br /><br /><br /><br /><br />"
   ]
  },
  {
   "cell_type": "markdown",
   "id": "a4008c10-68f5-4190-a877-cf5136989922",
   "metadata": {},
   "source": [
    "### B4: Categories of Sentiment <a name=\"Categories-of-Sentiment\"></a>"
   ]
  },
  {
   "cell_type": "markdown",
   "id": "e52c0d22-71ca-4af7-a833-22b8f12d60fc",
   "metadata": {},
   "source": [
    "*Clearly and accurately identify how many categories of sentiment will be used and an appropriate fitting activation function for the final dense layer of the network*."
   ]
  },
  {
   "cell_type": "markdown",
   "id": "59fc8d8b-e87c-4892-b132-725ad8808da5",
   "metadata": {},
   "source": [
    "**Categories of Sentiment**: 2, positive and negative.<br />\n",
    "\n",
    "&nbsp;&nbsp;&nbsp;&nbsp;&nbsp;&nbsp;Binary sentiment analysis will be used to classify the sentiments as either positive or negative. This type of analysis is a basic form of sentiment analysis interested in good or bad feedback. Since the classification is binary, we will use the '*Sigmoid*' activation function that outputs a probability corresponding to the likeliness that input belongs to the positive classification, 1, and the negative classification 0 usually decided upon a threshold at 0.5. This is opposed to the '*Softmax*' activation function in the final dense layer that is used to determine the classification across multiple several classes."
   ]
  },
  {
   "cell_type": "markdown",
   "id": "498c004a-afc0-4d57-aeea-b2cdc4b9afbd",
   "metadata": {},
   "source": [
    "<br /><br /><br /><br /><br /><br /><br /><br /><br /><br /><br /><br /><br /><br /><br /><br /><br /><br /><br /><br /><br /><br /><br /><br /><br />"
   ]
  },
  {
   "cell_type": "markdown",
   "id": "e1ba3b9f-59c0-4c9c-8bbc-a3c7e8fe0f5a",
   "metadata": {},
   "source": [
    "### B5: Steps to Prepare the Data <a name=\"Steps-to-Prepare-the-Data\"></a>"
   ]
  },
  {
   "cell_type": "markdown",
   "id": "59a02a9e-e918-4df9-b348-336dae605eb5",
   "metadata": {},
   "source": [
    "*Explain the steps to prepare the data for analysis and accurately include the size of the training, validation, and test split based on industry average. The steps relate to preparation for neural network models and NLP techniques*."
   ]
  },
  {
   "cell_type": "markdown",
   "id": "211c951b-79d1-4145-ac71-a1f1ebcc29cf",
   "metadata": {},
   "source": [
    "**Steps**:<br />\n",
    "- S.**1**: Importing/Data cleaning.<br /><br />\n",
    "&nbsp;&nbsp;&nbsp;&nbsp;&nbsp;&nbsp;The analysis started with cleaning the data with normalizing the strings to lowercase and removing punctuation. Additionally, sentiment was given it's own column.<br /><br />\n",
    "- S.**2**: Tokenization.<br /><br />\n",
    "&nbsp;&nbsp;&nbsp;&nbsp;&nbsp;&nbsp;Next, tokenization was applied to break the text into meaningful words/elements called tokens. This was done using NLTK, Natural Language Tokenization.<br /><br />\n",
    "- S.**3**: Removing stopwords.<br /><br />\n",
    "&nbsp;&nbsp;&nbsp;&nbsp;&nbsp;&nbsp;Then, words like \"the\", \"and\", \"an\" called stopwords, were removed as they may not contribute to the sentiment analysis. Filtering out stopwords was also done with NLTK.<br /><br />\n",
    "- S.**4**: Vector creation.<br /><br />\n",
    "&nbsp;&nbsp;&nbsp;&nbsp;&nbsp;&nbsp;Next, the text data were assigned unique integers that a neural network will be able to \"understand\" or process. This was done as a preliminary step to performing padding.<br /><br />\n",
    "- S.**5**: Padding.<br /><br />\n",
    "&nbsp;&nbsp;&nbsp;&nbsp;&nbsp;&nbsp;The standard length of an input sequence was applied, to size 12 where sequences were post-padded to meet this length requirement. This was performed with keras.preprocessing.sequence.<br /><br />\n",
    "- S.**6**: Omitting unnecessary columns and splitting into data sets.<br /><br />\n",
    "&nbsp;&nbsp;&nbsp;&nbsp;&nbsp;&nbsp;Columns like '*Sequences_P* and '*Sentiment*' should be kept for analysis and data set splits. '*Sequences_P*' contains the padded sequence of integers which is key for input into the model. '*Sentiment*' is our target variable that needs to be kept for training and evaluation. All other columns will be omitted in the cleaned data set and thus the data set will be split into training, validation, and test splits on 70%, 15% and 15%, respectively."
   ]
  },
  {
   "cell_type": "code",
   "execution_count": 20,
   "id": "63ac6119-ee7d-43ec-8093-b5bd5a7da77e",
   "metadata": {},
   "outputs": [],
   "source": [
    "# Copy to cleaned DataFrame.\n",
    "df_clean = df[['Sequences_P', 'Sentiment']].copy()"
   ]
  },
  {
   "cell_type": "code",
   "execution_count": 21,
   "id": "513573ae-a3f7-4524-ac28-61c3ffba5741",
   "metadata": {},
   "outputs": [
    {
     "data": {
      "text/html": [
       "<div>\n",
       "<style scoped>\n",
       "    .dataframe tbody tr th:only-of-type {\n",
       "        vertical-align: middle;\n",
       "    }\n",
       "\n",
       "    .dataframe tbody tr th {\n",
       "        vertical-align: top;\n",
       "    }\n",
       "\n",
       "    .dataframe thead th {\n",
       "        text-align: right;\n",
       "    }\n",
       "</style>\n",
       "<table border=\"1\" class=\"dataframe\">\n",
       "  <thead>\n",
       "    <tr style=\"text-align: right;\">\n",
       "      <th></th>\n",
       "      <th>Sequences_P</th>\n",
       "      <th>Sentiment</th>\n",
       "    </tr>\n",
       "  </thead>\n",
       "  <tbody>\n",
       "    <tr>\n",
       "      <th>0</th>\n",
       "      <td>[897, 1505, 1539, 0, 0, 0, 0, 0, 0, 0, 0, 0]</td>\n",
       "      <td>1</td>\n",
       "    </tr>\n",
       "    <tr>\n",
       "      <th>1</th>\n",
       "      <td>[1473, 1779, 0, 0, 0, 0, 0, 0, 0, 0, 0, 0]</td>\n",
       "      <td>0</td>\n",
       "    </tr>\n",
       "    <tr>\n",
       "      <th>2</th>\n",
       "      <td>[1575, 395, 608, 0, 0, 0, 0, 0, 0, 0, 0, 0]</td>\n",
       "      <td>0</td>\n",
       "    </tr>\n",
       "    <tr>\n",
       "      <th>3</th>\n",
       "      <td>[246, 1786, 25, 118, 1673, 1133, 1959, 476, 15...</td>\n",
       "      <td>1</td>\n",
       "    </tr>\n",
       "    <tr>\n",
       "      <th>4</th>\n",
       "      <td>[51, 1783, 1569, 1112, 0, 0, 0, 0, 0, 0, 0, 0]</td>\n",
       "      <td>1</td>\n",
       "    </tr>\n",
       "    <tr>\n",
       "      <th>5</th>\n",
       "      <td>[1646, 361, 299, 1025, 1672, 0, 0, 0, 0, 0, 0, 0]</td>\n",
       "      <td>0</td>\n",
       "    </tr>\n",
       "    <tr>\n",
       "      <th>6</th>\n",
       "      <td>[635, 241, 750, 1333, 0, 0, 0, 0, 0, 0, 0, 0]</td>\n",
       "      <td>0</td>\n",
       "    </tr>\n",
       "    <tr>\n",
       "      <th>7</th>\n",
       "      <td>[196, 863, 1674, 1032, 1115, 1533, 1769, 1598,...</td>\n",
       "      <td>0</td>\n",
       "    </tr>\n",
       "    <tr>\n",
       "      <th>8</th>\n",
       "      <td>[1951, 1569, 0, 0, 0, 0, 0, 0, 0, 0, 0, 0]</td>\n",
       "      <td>1</td>\n",
       "    </tr>\n",
       "    <tr>\n",
       "      <th>9</th>\n",
       "      <td>[1569, 1485, 0, 0, 0, 0, 0, 0, 0, 0, 0, 0]</td>\n",
       "      <td>1</td>\n",
       "    </tr>\n",
       "  </tbody>\n",
       "</table>\n",
       "</div>"
      ],
      "text/plain": [
       "                                         Sequences_P  Sentiment\n",
       "0       [897, 1505, 1539, 0, 0, 0, 0, 0, 0, 0, 0, 0]          1\n",
       "1         [1473, 1779, 0, 0, 0, 0, 0, 0, 0, 0, 0, 0]          0\n",
       "2        [1575, 395, 608, 0, 0, 0, 0, 0, 0, 0, 0, 0]          0\n",
       "3  [246, 1786, 25, 118, 1673, 1133, 1959, 476, 15...          1\n",
       "4     [51, 1783, 1569, 1112, 0, 0, 0, 0, 0, 0, 0, 0]          1\n",
       "5  [1646, 361, 299, 1025, 1672, 0, 0, 0, 0, 0, 0, 0]          0\n",
       "6      [635, 241, 750, 1333, 0, 0, 0, 0, 0, 0, 0, 0]          0\n",
       "7  [196, 863, 1674, 1032, 1115, 1533, 1769, 1598,...          0\n",
       "8         [1951, 1569, 0, 0, 0, 0, 0, 0, 0, 0, 0, 0]          1\n",
       "9         [1569, 1485, 0, 0, 0, 0, 0, 0, 0, 0, 0, 0]          1"
      ]
     },
     "execution_count": 21,
     "metadata": {},
     "output_type": "execute_result"
    }
   ],
   "source": [
    "# Show cleaned DataFrame.\n",
    "df_clean.head(10)"
   ]
  },
  {
   "cell_type": "code",
   "execution_count": 22,
   "id": "39fce090-6b85-4e2a-ab15-4f670c56083e",
   "metadata": {},
   "outputs": [],
   "source": [
    "from sklearn.model_selection import train_test_split\n",
    "\n",
    "# Split into 3 data sets, training (70%), validation (15%) and testing (15%).\n",
    "\n",
    "# Split into 70% to train, 30% for validation and testing at 15% apiece.\n",
    "X_train, X_split, y_train, y_split = train_test_split(df_clean['Sequences_P'], df_clean['Sentiment'], test_size = 0.3, random_state = 23)\n",
    "\n",
    "# Split the 30% into 15% each (half) for validation and testing.\n",
    "X_val, X_test, y_val, y_test = train_test_split(X_split, y_split, test_size = 0.5, random_state = 23)"
   ]
  },
  {
   "cell_type": "code",
   "execution_count": 23,
   "id": "48e2d237-7354-4c77-a660-ae66cfd023a6",
   "metadata": {},
   "outputs": [],
   "source": [
    "X_train = np.array([np.array(seq, dtype=int) for seq in X_train])"
   ]
  },
  {
   "cell_type": "code",
   "execution_count": 24,
   "id": "0ae2e8fd-1101-4fd9-ba3c-cb43edd8979c",
   "metadata": {},
   "outputs": [],
   "source": [
    "y_train = np.array([np.array(seq, dtype=int) for seq in y_train])"
   ]
  },
  {
   "cell_type": "code",
   "execution_count": 25,
   "id": "abaad827-ff34-4a56-b354-1c7bf55fc414",
   "metadata": {},
   "outputs": [],
   "source": [
    "X_test = np.array([np.array(seq, dtype=int) for seq in X_test])"
   ]
  },
  {
   "cell_type": "code",
   "execution_count": 26,
   "id": "692cf46f-60f6-4389-90a5-8f34e6d97224",
   "metadata": {},
   "outputs": [],
   "source": [
    "y_test = np.array([np.array(seq, dtype=int) for seq in y_test])"
   ]
  },
  {
   "cell_type": "code",
   "execution_count": 27,
   "id": "ae0e7f56-eb74-43ad-ab42-f9ba9f77ace8",
   "metadata": {},
   "outputs": [],
   "source": [
    "X_val = np.array([np.array(seq, dtype=int) for seq in X_val])"
   ]
  },
  {
   "cell_type": "code",
   "execution_count": 28,
   "id": "f3df5465-137e-4b45-89a7-0d82872f3080",
   "metadata": {},
   "outputs": [],
   "source": [
    "y_val = np.array([np.array(seq, dtype=int) for seq in y_val])"
   ]
  },
  {
   "cell_type": "code",
   "execution_count": 29,
   "id": "4d01d957-6619-496e-9e83-af4abb380328",
   "metadata": {},
   "outputs": [
    {
     "name": "stdout",
     "output_type": "stream",
     "text": [
      "Training set size: 700\n",
      "Validation set size: 150\n",
      "Testing set size: 150\n",
      "Combined: 1000\n",
      "Total size prior to split: 1000\n"
     ]
    },
    {
     "data": {
      "text/html": [
       "<div>\n",
       "<style scoped>\n",
       "    .dataframe tbody tr th:only-of-type {\n",
       "        vertical-align: middle;\n",
       "    }\n",
       "\n",
       "    .dataframe tbody tr th {\n",
       "        vertical-align: top;\n",
       "    }\n",
       "\n",
       "    .dataframe thead th {\n",
       "        text-align: right;\n",
       "    }\n",
       "</style>\n",
       "<table border=\"1\" class=\"dataframe\">\n",
       "  <thead>\n",
       "    <tr style=\"text-align: right;\">\n",
       "      <th></th>\n",
       "      <th>Sequences_P</th>\n",
       "      <th>Sentiment</th>\n",
       "    </tr>\n",
       "  </thead>\n",
       "  <tbody>\n",
       "    <tr>\n",
       "      <th>0</th>\n",
       "      <td>[897, 1505, 1539, 0, 0, 0, 0, 0, 0, 0, 0, 0]</td>\n",
       "      <td>1</td>\n",
       "    </tr>\n",
       "    <tr>\n",
       "      <th>1</th>\n",
       "      <td>[1473, 1779, 0, 0, 0, 0, 0, 0, 0, 0, 0, 0]</td>\n",
       "      <td>0</td>\n",
       "    </tr>\n",
       "    <tr>\n",
       "      <th>2</th>\n",
       "      <td>[1575, 395, 608, 0, 0, 0, 0, 0, 0, 0, 0, 0]</td>\n",
       "      <td>0</td>\n",
       "    </tr>\n",
       "    <tr>\n",
       "      <th>3</th>\n",
       "      <td>[246, 1786, 25, 118, 1673, 1133, 1959, 476, 15...</td>\n",
       "      <td>1</td>\n",
       "    </tr>\n",
       "    <tr>\n",
       "      <th>4</th>\n",
       "      <td>[51, 1783, 1569, 1112, 0, 0, 0, 0, 0, 0, 0, 0]</td>\n",
       "      <td>1</td>\n",
       "    </tr>\n",
       "    <tr>\n",
       "      <th>...</th>\n",
       "      <td>...</td>\n",
       "      <td>...</td>\n",
       "    </tr>\n",
       "    <tr>\n",
       "      <th>995</th>\n",
       "      <td>[584, 123, 894, 395, 1708, 0, 0, 0, 0, 0, 0, 0]</td>\n",
       "      <td>0</td>\n",
       "    </tr>\n",
       "    <tr>\n",
       "      <th>996</th>\n",
       "      <td>[1537, 1594, 681, 0, 0, 0, 0, 0, 0, 0, 0, 0]</td>\n",
       "      <td>0</td>\n",
       "    </tr>\n",
       "    <tr>\n",
       "      <th>997</th>\n",
       "      <td>[1799, 315, 1681, 195, 226, 0, 0, 0, 0, 0, 0, 0]</td>\n",
       "      <td>0</td>\n",
       "    </tr>\n",
       "    <tr>\n",
       "      <th>998</th>\n",
       "      <td>[1861, 1070, 1525, 584, 1748, 195, 1919, 1750,...</td>\n",
       "      <td>0</td>\n",
       "    </tr>\n",
       "    <tr>\n",
       "      <th>999</th>\n",
       "      <td>[964, 27, 1050, 1427, 924, 1711, 603, 697, 159...</td>\n",
       "      <td>0</td>\n",
       "    </tr>\n",
       "  </tbody>\n",
       "</table>\n",
       "<p>1000 rows × 2 columns</p>\n",
       "</div>"
      ],
      "text/plain": [
       "                                           Sequences_P  Sentiment\n",
       "0         [897, 1505, 1539, 0, 0, 0, 0, 0, 0, 0, 0, 0]          1\n",
       "1           [1473, 1779, 0, 0, 0, 0, 0, 0, 0, 0, 0, 0]          0\n",
       "2          [1575, 395, 608, 0, 0, 0, 0, 0, 0, 0, 0, 0]          0\n",
       "3    [246, 1786, 25, 118, 1673, 1133, 1959, 476, 15...          1\n",
       "4       [51, 1783, 1569, 1112, 0, 0, 0, 0, 0, 0, 0, 0]          1\n",
       "..                                                 ...        ...\n",
       "995    [584, 123, 894, 395, 1708, 0, 0, 0, 0, 0, 0, 0]          0\n",
       "996       [1537, 1594, 681, 0, 0, 0, 0, 0, 0, 0, 0, 0]          0\n",
       "997   [1799, 315, 1681, 195, 226, 0, 0, 0, 0, 0, 0, 0]          0\n",
       "998  [1861, 1070, 1525, 584, 1748, 195, 1919, 1750,...          0\n",
       "999  [964, 27, 1050, 1427, 924, 1711, 603, 697, 159...          0\n",
       "\n",
       "[1000 rows x 2 columns]"
      ]
     },
     "execution_count": 29,
     "metadata": {},
     "output_type": "execute_result"
    }
   ],
   "source": [
    "print(\"Training set size:\", len(X_train))\n",
    "print(\"Validation set size:\", len(X_val))\n",
    "print(\"Testing set size:\", len(X_test))\n",
    "print(\"Combined:\", len(X_train) + len(X_val) + len(X_test))\n",
    "print(\"Total size prior to split:\", len(df_clean))\n",
    "df_clean"
   ]
  },
  {
   "cell_type": "markdown",
   "id": "5f6389d2-3c1b-4a75-be8f-d222936e3e7f",
   "metadata": {},
   "source": [
    "<br /><br /><br /><br />"
   ]
  },
  {
   "cell_type": "markdown",
   "id": "537691cf-3b12-4fc7-b44c-514e4805b927",
   "metadata": {},
   "source": [
    "### B6: Prepared Data Set <a name=\"Prepared-Data-Set\"></a>"
   ]
  },
  {
   "cell_type": "markdown",
   "id": "631d4d46-438d-43a6-b3b8-68d561ab658f",
   "metadata": {},
   "source": [
    "*Provide a copy of the fully prepared data set*."
   ]
  },
  {
   "cell_type": "code",
   "execution_count": 30,
   "id": "5093c546-1034-491f-884c-9b74f3617a5c",
   "metadata": {},
   "outputs": [],
   "source": [
    "# Export the cleaned/ready DataFrame to a csv.\n",
    "df_clean.to_csv('prepared_yelp_dataset.csv', index = False)"
   ]
  },
  {
   "attachments": {},
   "cell_type": "markdown",
   "id": "62967dcd-f903-4634-b8ca-bf2c77b35a38",
   "metadata": {},
   "source": [
    "<br /><br /><br /><br /><br /><br /><br /><br /><br /><br /><br /><br /><br /><br /><br /><br /><br /><br /><br /><br /><br /><br /><br /><br /><br /><br /><br /><br /><br /><br /><br /><br />"
   ]
  },
  {
   "cell_type": "markdown",
   "id": "9f95abd4-5a26-48b9-a87a-8a0325b71384",
   "metadata": {},
   "source": [
    "## Network Architecture <a name=\"Network-Architecture-H\"></a>"
   ]
  },
  {
   "cell_type": "markdown",
   "id": "7df2ca7f-8637-4319-9844-e1308cafe2c8",
   "metadata": {},
   "source": [
    "### C1: Model Summary <a name=\"Model-Summary\"></a>"
   ]
  },
  {
   "cell_type": "markdown",
   "id": "a31a8c05-aa69-4aab-bd99-a38e2dfe4816",
   "metadata": {},
   "source": [
    "*Provide the complete output of the model summary of the function from TensorFlow. The output should align with the type of network used*."
   ]
  },
  {
   "cell_type": "code",
   "execution_count": 31,
   "id": "89703990-0531-480f-b484-7a016c540ec3",
   "metadata": {},
   "outputs": [],
   "source": [
    "# Import list needed for CNN/Sentiment Analysis.\n",
    "import tensorflow as tf\n",
    "from tensorflow.keras.callbacks import EarlyStopping\n",
    "from tensorflow.keras.models import Sequential\n",
    "from tensorflow.keras.optimizers.legacy import Adam\n",
    "from tensorflow.keras.layers import Conv1D, Dense, Embedding, GlobalMaxPooling1D"
   ]
  },
  {
   "cell_type": "code",
   "execution_count": 32,
   "id": "905be13d-4982-433d-9693-cdceb49ba173",
   "metadata": {},
   "outputs": [],
   "source": [
    "# Define the model.\n",
    "model = Sequential()"
   ]
  },
  {
   "cell_type": "code",
   "execution_count": 33,
   "id": "2c2ba2c6-19aa-42e0-8344-104c3286128b",
   "metadata": {},
   "outputs": [],
   "source": [
    "# Embed the model with input dimension (vocab size) and output (see Proposed Word Embedding Length).\n",
    "model.add(Embedding(\n",
    "    input_dim = len(vocab) + 1,\n",
    "    output_dim = 100\n",
    "))"
   ]
  },
  {
   "cell_type": "code",
   "execution_count": 34,
   "id": "7c9df85e-dadd-4bf5-a15a-da07eb49b024",
   "metadata": {},
   "outputs": [],
   "source": [
    "# Convolutional layer.\n",
    "model.add(Conv1D(filters = 16, kernel_size = 3, activation = 'relu', padding = 'same'))"
   ]
  },
  {
   "cell_type": "code",
   "execution_count": 35,
   "id": "2cc4ac8c-c341-4d5c-b1ff-54db12590f58",
   "metadata": {},
   "outputs": [],
   "source": [
    "# Global max pooling layer.\n",
    "model.add(GlobalMaxPooling1D())"
   ]
  },
  {
   "cell_type": "code",
   "execution_count": 36,
   "id": "6092f35f-fb1d-47bd-bdcc-c8f2b441891d",
   "metadata": {},
   "outputs": [],
   "source": [
    "# Dense layers.\n",
    "model.add(Dense(16, activation = 'relu'))\n",
    "model.add(Dense(1, activation = 'sigmoid'))"
   ]
  },
  {
   "cell_type": "code",
   "execution_count": 37,
   "id": "01ab8434-583b-46a2-93b1-ea6cffb42bb6",
   "metadata": {},
   "outputs": [],
   "source": [
    "# Compile the model.\n",
    "model.compile(\n",
    "    optimizer = 'adam',\n",
    "    loss = 'binary_crossentropy',\n",
    "    metrics = ['accuracy']\n",
    ")"
   ]
  },
  {
   "cell_type": "code",
   "execution_count": 38,
   "id": "4ed86609-4385-4f67-b21b-a3f291cd29cb",
   "metadata": {},
   "outputs": [],
   "source": [
    "# Build the model.\n",
    "model.build(input_shape=(None, maxlen))"
   ]
  },
  {
   "cell_type": "code",
   "execution_count": 39,
   "id": "9d0714a1-a133-4956-9235-864ea1ef8310",
   "metadata": {},
   "outputs": [
    {
     "data": {
      "text/html": [
       "<pre style=\"white-space:pre;overflow-x:auto;line-height:normal;font-family:Menlo,'DejaVu Sans Mono',consolas,'Courier New',monospace\"><span style=\"font-weight: bold\">Model: \"sequential\"</span>\n",
       "</pre>\n"
      ],
      "text/plain": [
       "\u001b[1mModel: \"sequential\"\u001b[0m\n"
      ]
     },
     "metadata": {},
     "output_type": "display_data"
    },
    {
     "data": {
      "text/html": [
       "<pre style=\"white-space:pre;overflow-x:auto;line-height:normal;font-family:Menlo,'DejaVu Sans Mono',consolas,'Courier New',monospace\">┏━━━━━━━━━━━━━━━━━━━━━━━━━━━━━━━━━━━━━━┳━━━━━━━━━━━━━━━━━━━━━━━━━━━━━┳━━━━━━━━━━━━━━━━━┓\n",
       "┃<span style=\"font-weight: bold\"> Layer (type)                         </span>┃<span style=\"font-weight: bold\"> Output Shape                </span>┃<span style=\"font-weight: bold\">         Param # </span>┃\n",
       "┡━━━━━━━━━━━━━━━━━━━━━━━━━━━━━━━━━━━━━━╇━━━━━━━━━━━━━━━━━━━━━━━━━━━━━╇━━━━━━━━━━━━━━━━━┩\n",
       "│ embedding (<span style=\"color: #0087ff; text-decoration-color: #0087ff\">Embedding</span>)                │ (<span style=\"color: #00d7ff; text-decoration-color: #00d7ff\">None</span>, <span style=\"color: #00af00; text-decoration-color: #00af00\">12</span>, <span style=\"color: #00af00; text-decoration-color: #00af00\">100</span>)             │         <span style=\"color: #00af00; text-decoration-color: #00af00\">196,500</span> │\n",
       "├──────────────────────────────────────┼─────────────────────────────┼─────────────────┤\n",
       "│ conv1d (<span style=\"color: #0087ff; text-decoration-color: #0087ff\">Conv1D</span>)                      │ (<span style=\"color: #00d7ff; text-decoration-color: #00d7ff\">None</span>, <span style=\"color: #00af00; text-decoration-color: #00af00\">12</span>, <span style=\"color: #00af00; text-decoration-color: #00af00\">16</span>)              │           <span style=\"color: #00af00; text-decoration-color: #00af00\">4,816</span> │\n",
       "├──────────────────────────────────────┼─────────────────────────────┼─────────────────┤\n",
       "│ global_max_pooling1d                 │ (<span style=\"color: #00d7ff; text-decoration-color: #00d7ff\">None</span>, <span style=\"color: #00af00; text-decoration-color: #00af00\">16</span>)                  │               <span style=\"color: #00af00; text-decoration-color: #00af00\">0</span> │\n",
       "│ (<span style=\"color: #0087ff; text-decoration-color: #0087ff\">GlobalMaxPooling1D</span>)                 │                             │                 │\n",
       "├──────────────────────────────────────┼─────────────────────────────┼─────────────────┤\n",
       "│ dense (<span style=\"color: #0087ff; text-decoration-color: #0087ff\">Dense</span>)                        │ (<span style=\"color: #00d7ff; text-decoration-color: #00d7ff\">None</span>, <span style=\"color: #00af00; text-decoration-color: #00af00\">16</span>)                  │             <span style=\"color: #00af00; text-decoration-color: #00af00\">272</span> │\n",
       "├──────────────────────────────────────┼─────────────────────────────┼─────────────────┤\n",
       "│ dense_1 (<span style=\"color: #0087ff; text-decoration-color: #0087ff\">Dense</span>)                      │ (<span style=\"color: #00d7ff; text-decoration-color: #00d7ff\">None</span>, <span style=\"color: #00af00; text-decoration-color: #00af00\">1</span>)                   │              <span style=\"color: #00af00; text-decoration-color: #00af00\">17</span> │\n",
       "└──────────────────────────────────────┴─────────────────────────────┴─────────────────┘\n",
       "</pre>\n"
      ],
      "text/plain": [
       "┏━━━━━━━━━━━━━━━━━━━━━━━━━━━━━━━━━━━━━━┳━━━━━━━━━━━━━━━━━━━━━━━━━━━━━┳━━━━━━━━━━━━━━━━━┓\n",
       "┃\u001b[1m \u001b[0m\u001b[1mLayer (type)                        \u001b[0m\u001b[1m \u001b[0m┃\u001b[1m \u001b[0m\u001b[1mOutput Shape               \u001b[0m\u001b[1m \u001b[0m┃\u001b[1m \u001b[0m\u001b[1m        Param #\u001b[0m\u001b[1m \u001b[0m┃\n",
       "┡━━━━━━━━━━━━━━━━━━━━━━━━━━━━━━━━━━━━━━╇━━━━━━━━━━━━━━━━━━━━━━━━━━━━━╇━━━━━━━━━━━━━━━━━┩\n",
       "│ embedding (\u001b[38;5;33mEmbedding\u001b[0m)                │ (\u001b[38;5;45mNone\u001b[0m, \u001b[38;5;34m12\u001b[0m, \u001b[38;5;34m100\u001b[0m)             │         \u001b[38;5;34m196,500\u001b[0m │\n",
       "├──────────────────────────────────────┼─────────────────────────────┼─────────────────┤\n",
       "│ conv1d (\u001b[38;5;33mConv1D\u001b[0m)                      │ (\u001b[38;5;45mNone\u001b[0m, \u001b[38;5;34m12\u001b[0m, \u001b[38;5;34m16\u001b[0m)              │           \u001b[38;5;34m4,816\u001b[0m │\n",
       "├──────────────────────────────────────┼─────────────────────────────┼─────────────────┤\n",
       "│ global_max_pooling1d                 │ (\u001b[38;5;45mNone\u001b[0m, \u001b[38;5;34m16\u001b[0m)                  │               \u001b[38;5;34m0\u001b[0m │\n",
       "│ (\u001b[38;5;33mGlobalMaxPooling1D\u001b[0m)                 │                             │                 │\n",
       "├──────────────────────────────────────┼─────────────────────────────┼─────────────────┤\n",
       "│ dense (\u001b[38;5;33mDense\u001b[0m)                        │ (\u001b[38;5;45mNone\u001b[0m, \u001b[38;5;34m16\u001b[0m)                  │             \u001b[38;5;34m272\u001b[0m │\n",
       "├──────────────────────────────────────┼─────────────────────────────┼─────────────────┤\n",
       "│ dense_1 (\u001b[38;5;33mDense\u001b[0m)                      │ (\u001b[38;5;45mNone\u001b[0m, \u001b[38;5;34m1\u001b[0m)                   │              \u001b[38;5;34m17\u001b[0m │\n",
       "└──────────────────────────────────────┴─────────────────────────────┴─────────────────┘\n"
      ]
     },
     "metadata": {},
     "output_type": "display_data"
    },
    {
     "data": {
      "text/html": [
       "<pre style=\"white-space:pre;overflow-x:auto;line-height:normal;font-family:Menlo,'DejaVu Sans Mono',consolas,'Courier New',monospace\"><span style=\"font-weight: bold\"> Total params: </span><span style=\"color: #00af00; text-decoration-color: #00af00\">201,605</span> (787.52 KB)\n",
       "</pre>\n"
      ],
      "text/plain": [
       "\u001b[1m Total params: \u001b[0m\u001b[38;5;34m201,605\u001b[0m (787.52 KB)\n"
      ]
     },
     "metadata": {},
     "output_type": "display_data"
    },
    {
     "data": {
      "text/html": [
       "<pre style=\"white-space:pre;overflow-x:auto;line-height:normal;font-family:Menlo,'DejaVu Sans Mono',consolas,'Courier New',monospace\"><span style=\"font-weight: bold\"> Trainable params: </span><span style=\"color: #00af00; text-decoration-color: #00af00\">201,605</span> (787.52 KB)\n",
       "</pre>\n"
      ],
      "text/plain": [
       "\u001b[1m Trainable params: \u001b[0m\u001b[38;5;34m201,605\u001b[0m (787.52 KB)\n"
      ]
     },
     "metadata": {},
     "output_type": "display_data"
    },
    {
     "data": {
      "text/html": [
       "<pre style=\"white-space:pre;overflow-x:auto;line-height:normal;font-family:Menlo,'DejaVu Sans Mono',consolas,'Courier New',monospace\"><span style=\"font-weight: bold\"> Non-trainable params: </span><span style=\"color: #00af00; text-decoration-color: #00af00\">0</span> (0.00 B)\n",
       "</pre>\n"
      ],
      "text/plain": [
       "\u001b[1m Non-trainable params: \u001b[0m\u001b[38;5;34m0\u001b[0m (0.00 B)\n"
      ]
     },
     "metadata": {},
     "output_type": "display_data"
    }
   ],
   "source": [
    "# Display the model summary.\n",
    "model.summary()"
   ]
  },
  {
   "cell_type": "code",
   "execution_count": 40,
   "id": "0a271802-51b8-4469-a246-f376c9c73096",
   "metadata": {},
   "outputs": [],
   "source": [
    "# For training efficiency and avoiding overfitting.\n",
    "StoppingCriteria = EarlyStopping(monitor = 'val_accuracy', patience = 5)"
   ]
  },
  {
   "attachments": {},
   "cell_type": "markdown",
   "id": "a72e151f-1d8c-4716-90fe-dc2dfd628bb8",
   "metadata": {},
   "source": [
    "<br /><br /><br /><br /><br /><br /><br /><br /><br /><br /><br /><br /><br /><br /><br /><br /><br /><br /><br /><br /><br /><br />"
   ]
  },
  {
   "cell_type": "markdown",
   "id": "2d1a134f-cfb2-4f33-8ee5-adc4b1a3879f",
   "metadata": {},
   "source": [
    "### C2: Network Architecture <a name=\"Network-Architecture\"></a>"
   ]
  },
  {
   "cell_type": "markdown",
   "id": "10516512-5b19-4ecb-9001-b259b61f4b04",
   "metadata": {},
   "source": [
    "*Discuss the number of layers, the types of layers, and the total number of parameters in the network*."
   ]
  },
  {
   "cell_type": "markdown",
   "id": "56e901f3-799d-4aec-b98c-27950b084fe0",
   "metadata": {},
   "source": [
    "**Number/Type of Layers**: 5<br />\n",
    "- L.**1**: Embedding Layer.<br /><br />\n",
    "&nbsp;&nbsp;&nbsp;&nbsp;&nbsp;&nbsp;The embedding layer is used to transform each token into a dense vector of a fixed size. This is to capture the meaning of each token and is important for processing text into neural networks.<br /><br />\n",
    "- L.**2**: Conv1D Layer.<br /><br />\n",
    "&nbsp;&nbsp;&nbsp;&nbsp;&nbsp;&nbsp;This layer applies filtering to the input sequences. This layer aims to find local patterns from the sequences while capturing relationships between adjacent words.<br /><br />\n",
    "- L.**3**: GlobalMaxPooling1D Layer.<br /><br />\n",
    "&nbsp;&nbsp;&nbsp;&nbsp;&nbsp;&nbsp;This layer reduces the dimensionality of the data by selecting the max value from each feature dimension across the sequences lengths.This helps filter the important features freom the convolutional layer to simplify the data while retaining the important information.<br /><br />\n",
    "- L.**4**: Dense Layer.<br /><br />\n",
    "&nbsp;&nbsp;&nbsp;&nbsp;&nbsp;&nbsp;This layer serves as an interpretation with the features that are extracted from the convolution and global pooling layers. The layer utilizes ReLU to learn the more complex patterns found.<br /><br />\n",
    "- L.**5**: Output (Dense) Layer.<br /><br />\n",
    "&nbsp;&nbsp;&nbsp;&nbsp;&nbsp;&nbsp;The final layer that uses a sigmoid activation function in order to output the probability that the input has a positive classification.<br /><br />"
   ]
  },
  {
   "cell_type": "markdown",
   "id": "47d84432-e54d-45fd-b8f0-59fed571e710",
   "metadata": {},
   "source": [
    "**Number of Parameters**:<br />\n",
    "- N.**1**: Embedding Layer.<br /><br />\n",
    "&nbsp;&nbsp;&nbsp;&nbsp;&nbsp;&nbsp;196,500 parameters.<br /><br />\n",
    "- N.**2**: Conv1D Layer.<br /><br />\n",
    "&nbsp;&nbsp;&nbsp;&nbsp;&nbsp;&nbsp;4,816 parameters.<br /><br />\n",
    "- N.**3**: GlobalMaxPooling1D Layer.<br /><br />\n",
    "&nbsp;&nbsp;&nbsp;&nbsp;&nbsp;&nbsp;0 trainable parameters.<br /><br />\n",
    "- N.**4**: Dense Layer.<br /><br />\n",
    "&nbsp;&nbsp;&nbsp;&nbsp;&nbsp;&nbsp;272 parameters.<br /><br />\n",
    "- N.**5**: Output (Dense) Layer.<br /><br />\n",
    "&nbsp;&nbsp;&nbsp;&nbsp;&nbsp;&nbsp;17 parameters.<br /><br />"
   ]
  },
  {
   "attachments": {},
   "cell_type": "markdown",
   "id": "159e48f6-4742-4c8f-8735-89a205979bd3",
   "metadata": {},
   "source": [
    "<br /><br /><br /><br /><br /><br /><br /><br /><br /><br /><br /><br /><br /><br /><br /><br /><br /><br /><br /><br /><br /><br /><br /><br /><br /><br /><br /><br /><br /><br /><br /><br /><br /><br />"
   ]
  },
  {
   "cell_type": "markdown",
   "id": "c2578b51-40e5-4103-98cb-d81959caed90",
   "metadata": {},
   "source": [
    "### C3: Hyperparameters <a name=\"Hyperparameters\"></a>"
   ]
  },
  {
   "cell_type": "markdown",
   "id": "f6c6eaf0-1a6b-4098-890c-377abceb91c1",
   "metadata": {},
   "source": [
    "*Explain the choice of hyperparameters used*."
   ]
  },
  {
   "cell_type": "markdown",
   "id": "759d80f4-581d-446a-ad76-7d985853af82",
   "metadata": {},
   "source": [
    "**Hyperparameters**:<br />\n",
    "- E.**1**: Activation functions.<br /><br />\n",
    "&nbsp;&nbsp;&nbsp;&nbsp;&nbsp;&nbsp;Rectified Linear Unit, ReLU, was used for computation efficiency and effectivity. ReLU is beneficial when converging during training and aims to not affect the gradients in a significant manner. ReLU is a common activation function used for neural network modeling which also played a role in its use-case. Sigmoid is an activation function used for binary classification mapping probability to a 0 or 1, positive or negative, respectively. The sentiment of this analysis is either positive or negative, thus the choice of the binary classification activation function.<br /><br />\n",
    "- E.**2**: Number of nodes per layer.<br /><br />\n",
    "&nbsp;&nbsp;&nbsp;&nbsp;&nbsp;&nbsp;The Conv1D has 16 filters which are seen as nodes as each one processes the input data (from the embedding layer, no nodes. The global layer also does not have nodes but feature maps.) The first dense layer also has 16 nodes and is the transformation from the GlobalMaxPooling1D layer. While the data set itself isn't entirely large, neither is the vocabulary size, the smaller number of nodes the better for computational efficiency as well as to avoid overfitting. The number of nodes, in theory, is enough to combine and interpret the embedded features and avoids complexity. The output layer, the second dense layer has 1 singular node as it is used for the final layer in order to perform binary classification, 0 or 1.<br /><br />\n",
    "- E.**3**: Loss function.<br /><br />\n",
    "&nbsp;&nbsp;&nbsp;&nbsp;&nbsp;&nbsp;Binary crossentropy, opposed to categorical crossentopy was chosen like other parts of this analysis, binary nature. The loss function measures the distance between the model's predicted probability and it's distribution of 0 or 1. Predictions must be aimed at being 0 or 1 and thus, binary crossentropy was selected.<br /><br />\n",
    "- E.**4**: Optimizer.<br /><br />\n",
    "&nbsp;&nbsp;&nbsp;&nbsp;&nbsp;&nbsp;Adaptive Moment Estimation, Adam, was selected as an industry-expectation. It adjusts it's learning rate throughout it's training unless stopped for alternative reasons. Specifically, this is beneficial as it aims to find the minimum of the loss function.<br /><br />\n",
    "- E.**5**: Stopping criteria.<br /><br/>\n",
    "&nbsp;&nbsp;&nbsp;&nbsp;&nbsp;&nbsp;While not yet implemented as it is a training measure, early stopping is used to prevent overfitting. Overfitting, is data no longer being generalized, rather only based on specific example. With this criteria as seen above, if the validation accuracy does not improve for 5 epochs, then the training stops.<br /><br />\n",
    "- E.**6**: Evaluation metric.<br /><br />\n",
    "&nbsp;&nbsp;&nbsp;&nbsp;&nbsp;&nbsp;Accuracy is used for the detection of true positives and true negatives, arguably the simplest measure for evaluation. For binary classification, accuracy simply reflects the model's performance in accurately classifying.<br /><br />"
   ]
  },
  {
   "attachments": {},
   "cell_type": "markdown",
   "id": "12253b19-a841-4214-9c75-8f45feaa4dd7",
   "metadata": {},
   "source": [
    "<br /><br /><br /><br /><br /><br /><br /><br /><br /><br /><br /><br /><br /><br /><br /><br /><br /><br /><br /><br /><br /><br /><br /><br /><br /><br /><br /><br /><br /><br /><br /><br />"
   ]
  },
  {
   "cell_type": "markdown",
   "id": "9758f62f-043e-4d8f-b60b-5d29c6463cab",
   "metadata": {},
   "source": [
    "## Model Evaluation <a name=\"Model-Evaluation\"></a>"
   ]
  },
  {
   "cell_type": "markdown",
   "id": "41736a07-1546-40e4-8c14-466595a2c38f",
   "metadata": {},
   "source": [
    "### D1: Stopping Criteria <a name=\"Stopping-Criteria\"></a>"
   ]
  },
  {
   "cell_type": "markdown",
   "id": "e1ccae9a-d86b-4254-b677-2b9ede0610cf",
   "metadata": {},
   "source": [
    "*Discuss the impact of using stopping criteria to include defining the number of epochs*."
   ]
  },
  {
   "cell_type": "markdown",
   "id": "a4b3b9a9-b161-49f7-851c-fcb917a633ce",
   "metadata": {},
   "source": [
    "The stopping criteria was previously defined with the Python code below."
   ]
  },
  {
   "cell_type": "code",
   "execution_count": 41,
   "id": "bfbc6d68-55b4-4096-a6fc-a01029a4879a",
   "metadata": {},
   "outputs": [],
   "source": [
    "# For training efficiency and avoiding overfitting.\n",
    "# StoppingCriteria = EarlyStopping(monitor = 'val_accuracy', patience = 5)"
   ]
  },
  {
   "cell_type": "markdown",
   "id": "8f1c8864-6cc6-40b8-bc0d-c847d1526209",
   "metadata": {},
   "source": [
    "**Impact of Stopping Criteria**:<br />\n",
    "- I.**1**: Prevent overfitting.<br /><br />\n",
    "&nbsp;&nbsp;&nbsp;&nbsp;&nbsp;&nbsp;Overfitting is when a model learns both the pattern in the data and the noise too. Stopping criteria helps mitigate this by stopping training once the model's performance stops improving on a stored data set. By monitoring this with tools like EarlyStopping(), the metrics are watched for improvement and regression to ensure the model performs well on training, validation and testing data.\n",
    "- I.**2**: Computer resources.<br /><br />\n",
    "&nbsp;&nbsp;&nbsp;&nbsp;&nbsp;&nbsp;Training models, especially neural networks can be costly in computer resources and time. Early stopping reduces the number of epochs the model trains once it is clear that the further training is not generating better results as seen in the metrics.<br /><br />\n",
    "- I.**3**: Defining the number of epochs.<br /><br />\n",
    "&nbsp;&nbsp;&nbsp;&nbsp;&nbsp;&nbsp;Without using early stopping, the ideal number of epochs would have to be found manually which in itself costs plenty of human resource and time to avoid overfitting. The model should be training with just the right about of epochs to avoid wasting time and loss in performance."
   ]
  },
  {
   "attachments": {},
   "cell_type": "markdown",
   "id": "51d935de-c21c-4a9e-8827-f978a63d43e5",
   "metadata": {},
   "source": [
    "<br /><br /><br /><br /><br />"
   ]
  },
  {
   "cell_type": "code",
   "execution_count": 42,
   "id": "03129fc4-cc44-4de4-b30a-b86b36eb31dc",
   "metadata": {},
   "outputs": [
    {
     "name": "stdout",
     "output_type": "stream",
     "text": [
      "Epoch 1/50\n",
      "\u001b[1m22/22\u001b[0m \u001b[32m━━━━━━━━━━━━━━━━━━━━\u001b[0m\u001b[37m\u001b[0m \u001b[1m2s\u001b[0m 13ms/step - accuracy: 0.4800 - loss: 0.6928 - val_accuracy: 0.7400 - val_loss: 0.6832\n",
      "Epoch 2/50\n",
      "\u001b[1m22/22\u001b[0m \u001b[32m━━━━━━━━━━━━━━━━━━━━\u001b[0m\u001b[37m\u001b[0m \u001b[1m0s\u001b[0m 4ms/step - accuracy: 0.9521 - loss: 0.6596 - val_accuracy: 0.8267 - val_loss: 0.6605\n",
      "Epoch 3/50\n",
      "\u001b[1m22/22\u001b[0m \u001b[32m━━━━━━━━━━━━━━━━━━━━\u001b[0m\u001b[37m\u001b[0m \u001b[1m0s\u001b[0m 3ms/step - accuracy: 0.9695 - loss: 0.5983 - val_accuracy: 0.8200 - val_loss: 0.6068\n",
      "Epoch 4/50\n",
      "\u001b[1m22/22\u001b[0m \u001b[32m━━━━━━━━━━━━━━━━━━━━\u001b[0m\u001b[37m\u001b[0m \u001b[1m0s\u001b[0m 4ms/step - accuracy: 0.9731 - loss: 0.4768 - val_accuracy: 0.8067 - val_loss: 0.5160\n",
      "Epoch 5/50\n",
      "\u001b[1m22/22\u001b[0m \u001b[32m━━━━━━━━━━━━━━━━━━━━\u001b[0m\u001b[37m\u001b[0m \u001b[1m0s\u001b[0m 3ms/step - accuracy: 0.9793 - loss: 0.2859 - val_accuracy: 0.8400 - val_loss: 0.4342\n",
      "Epoch 6/50\n",
      "\u001b[1m22/22\u001b[0m \u001b[32m━━━━━━━━━━━━━━━━━━━━\u001b[0m\u001b[37m\u001b[0m \u001b[1m0s\u001b[0m 3ms/step - accuracy: 0.9884 - loss: 0.1367 - val_accuracy: 0.8133 - val_loss: 0.4154\n",
      "Epoch 7/50\n",
      "\u001b[1m22/22\u001b[0m \u001b[32m━━━━━━━━━━━━━━━━━━━━\u001b[0m\u001b[37m\u001b[0m \u001b[1m0s\u001b[0m 3ms/step - accuracy: 0.9938 - loss: 0.0713 - val_accuracy: 0.8200 - val_loss: 0.4246\n",
      "Epoch 8/50\n",
      "\u001b[1m22/22\u001b[0m \u001b[32m━━━━━━━━━━━━━━━━━━━━\u001b[0m\u001b[37m\u001b[0m \u001b[1m0s\u001b[0m 3ms/step - accuracy: 0.9991 - loss: 0.0315 - val_accuracy: 0.7933 - val_loss: 0.4553\n",
      "Epoch 9/50\n",
      "\u001b[1m22/22\u001b[0m \u001b[32m━━━━━━━━━━━━━━━━━━━━\u001b[0m\u001b[37m\u001b[0m \u001b[1m0s\u001b[0m 3ms/step - accuracy: 0.9992 - loss: 0.0203 - val_accuracy: 0.8067 - val_loss: 0.4757\n",
      "Epoch 10/50\n",
      "\u001b[1m22/22\u001b[0m \u001b[32m━━━━━━━━━━━━━━━━━━━━\u001b[0m\u001b[37m\u001b[0m \u001b[1m0s\u001b[0m 3ms/step - accuracy: 0.9996 - loss: 0.0141 - val_accuracy: 0.8000 - val_loss: 0.4949\n"
     ]
    }
   ],
   "source": [
    "# Training the model.\n",
    "model_res = model.fit(\n",
    "    X_train,\n",
    "    y_train,\n",
    "    validation_data = (X_val, y_val),\n",
    "    epochs = 50,\n",
    "    callbacks=[StoppingCriteria],\n",
    ")"
   ]
  },
  {
   "attachments": {},
   "cell_type": "markdown",
   "id": "77ffdd38-9744-46df-8fdd-d63338815db8",
   "metadata": {},
   "source": [
    "<br /><br /><br /><br /><br /><br /><br /><br />"
   ]
  },
  {
   "cell_type": "markdown",
   "id": "00da09d3-54bf-4cf8-9a2d-08dbbacd606c",
   "metadata": {},
   "source": [
    "### D2: Fitness <a name=\"Fitness\"></a>"
   ]
  },
  {
   "cell_type": "markdown",
   "id": "caba0708-e25b-455d-94b1-731b4ab1fc93",
   "metadata": {},
   "source": [
    "*Assess the fitness of the model*."
   ]
  },
  {
   "cell_type": "code",
   "execution_count": 44,
   "id": "5640009d-c0d3-4f9d-81e2-b096f93de56c",
   "metadata": {},
   "outputs": [
    {
     "data": {
      "image/png": "[encoded data removed]",
      "text/plain": [
       "<Figure size 1000x500 with 1 Axes>"
      ]
     },
     "metadata": {},
     "output_type": "display_data"
    }
   ],
   "source": [
    "# Usual plot size, personally.\n",
    "plt.figure(figsize=(10, 5))\n",
    "\n",
    "# Plot accuracy of training and validation data.\n",
    "plt.plot(model_res.history['accuracy'], label = 'Accuracy: Training Data')\n",
    "plt.plot(model_res.history['val_accuracy'], label = 'Accuracy: Validation Data')\n",
    "\n",
    "# Annotations.\n",
    "plt.xlabel('Epochs')\n",
    "plt.ylabel('Accuracy (%)')\n",
    "plt.title('Accuracy per Epoch')\n",
    "plt.axvline(x = 4, color = 'black', linestyle = '--')\n",
    "plt.legend()\n",
    "plt.grid(True)\n",
    "plt.show()"
   ]
  },
  {
   "cell_type": "markdown",
   "id": "8490d5e8-c2cc-4413-946d-a56e0388f1e0",
   "metadata": {},
   "source": [
    "&nbsp;&nbsp;&nbsp;&nbsp;&nbsp;&nbsp;The training accuracy started off lower at ~50% but then quickly advanced to nearly 100% by the final epochs. The model has effectively learned the patterns in the training data which sums up 70% of the original data set. However, the validation accuracy stays at about ~80% for all epochs. This is about a ~15% drop off compared to the training data but is still fairly accurate. The dotted line at x = 4 is where early stopping comes to halt the training, from its patience of 5 so that there was no further improvement to validation accuracy to prevent overfitting."
   ]
  },
  {
   "cell_type": "markdown",
   "id": "53a3c364-3241-4df9-a210-20a1dd5a4bf0",
   "metadata": {},
   "source": [
    "### D3: Training Process <a name=\"Training-Process\"></a>"
   ]
  },
  {
   "cell_type": "markdown",
   "id": "a8b6c239-f8b3-4761-8fdb-6a5577ffd45a",
   "metadata": {},
   "source": [
    "*Provide visualizations of the model's training process, including a line graph of the loss and the chosen evaluation metric*."
   ]
  },
  {
   "cell_type": "code",
   "execution_count": 45,
   "id": "591250d5-fae3-4abf-b905-e775f90136c3",
   "metadata": {},
   "outputs": [
    {
     "data": {
      "image/png": "[encoded data removed]",
      "text/plain": [
       "<Figure size 1000x500 with 1 Axes>"
      ]
     },
     "metadata": {},
     "output_type": "display_data"
    }
   ],
   "source": [
    "# Usual plot size, personally.\n",
    "plt.figure(figsize=(10, 5))\n",
    "\n",
    "# Plot accuracy of training data.\n",
    "plt.plot(model_res.history['loss'], label = 'Loss: Training Data')\n",
    "\n",
    "# Chosen evaluation metric.\n",
    "plt.plot(model_res.history['accuracy'], label = 'Accuracy: Training Data')\n",
    "\n",
    "# Annotations.\n",
    "plt.xlabel('Epochs')\n",
    "plt.ylabel('Accuracy (%)')\n",
    "plt.title('Loss and Accuracy of Training Process')\n",
    "plt.legend()\n",
    "plt.grid(True)\n",
    "plt.show()"
   ]
  },
  {
   "attachments": {},
   "cell_type": "markdown",
   "id": "a6442afa-62b1-47dc-8ff5-a81412b22d7c",
   "metadata": {},
   "source": [
    "<br /><br /><br /><br /><br /><br />"
   ]
  },
  {
   "cell_type": "code",
   "execution_count": 46,
   "id": "c1ebdd57-cb3a-45d2-92ab-9028a9fe72fa",
   "metadata": {},
   "outputs": [
    {
     "data": {
      "image/png": "[encoded data removed]",
      "text/plain": [
       "<Figure size 1000x500 with 1 Axes>"
      ]
     },
     "metadata": {},
     "output_type": "display_data"
    }
   ],
   "source": [
    "# Usual plot size, personally.\n",
    "plt.figure(figsize=(10, 5))\n",
    "\n",
    "# Plot accuracy of training data.\n",
    "plt.plot(model_res.history['val_loss'], label = 'Loss: Validation Data')\n",
    "\n",
    "# Chosen evaluation metric.\n",
    "plt.plot(model_res.history['val_accuracy'], label = 'Accuracy: Validation Data')\n",
    "\n",
    "# Annotations.\n",
    "plt.xlabel('Epochs')\n",
    "plt.ylabel('Accuracy (%)')\n",
    "plt.title('Loss and Accuracy of Validation Process')\n",
    "plt.legend()\n",
    "plt.grid(True)\n",
    "plt.show()"
   ]
  },
  {
   "attachments": {},
   "cell_type": "markdown",
   "id": "386e4c15-3cab-42db-a22d-8dbf898e0c6b",
   "metadata": {},
   "source": [
    "<br /><br /><br /><br /><br /><br /><br /><br /><br /><br /><br />"
   ]
  },
  {
   "cell_type": "markdown",
   "id": "2669106c-ea66-4a51-b59a-2546d5ab0a6c",
   "metadata": {},
   "source": [
    "### D4: Predictive Accuracy <a name=\"Predictive-Accuracy\"></a>"
   ]
  },
  {
   "cell_type": "markdown",
   "id": "c7e63985-3bc8-4e83-abc2-2fd340ef8d02",
   "metadata": {},
   "source": [
    "*Discuss the predictive accuracy of the trained network using the chosen evaluation metric from part D3*."
   ]
  },
  {
   "cell_type": "code",
   "execution_count": 47,
   "id": "adcf70b9-9828-4f40-8475-8093bddb79c3",
   "metadata": {},
   "outputs": [
    {
     "name": "stdout",
     "output_type": "stream",
     "text": [
      "\u001b[1m5/5\u001b[0m \u001b[32m━━━━━━━━━━━━━━━━━━━━\u001b[0m\u001b[37m\u001b[0m \u001b[1m0s\u001b[0m 17ms/step\n"
     ]
    }
   ],
   "source": [
    "# Predictions of model.\n",
    "predictions = model.predict(X_test)\n",
    "prediction_classification = (predictions > 0.5).astype(int)"
   ]
  },
  {
   "cell_type": "code",
   "execution_count": 48,
   "id": "fd621c16-1c4d-494a-baf9-d460f8bfa204",
   "metadata": {},
   "outputs": [],
   "source": [
    "from sklearn.metrics import accuracy_score, confusion_matrix, ConfusionMatrixDisplay\n",
    "\n",
    "# Metric to measure predictive accuracy.\n",
    "test_accuracy = accuracy_score(y_test, prediction_classification)"
   ]
  },
  {
   "cell_type": "code",
   "execution_count": 49,
   "id": "608878e6-69ec-43b1-850f-8d8a88a7dd37",
   "metadata": {},
   "outputs": [
    {
     "name": "stdout",
     "output_type": "stream",
     "text": [
      "Accuracy:  0.7733333333333333\n"
     ]
    }
   ],
   "source": [
    "# Print the accuracy.\n",
    "print(\"Accuracy: \", str(test_accuracy))"
   ]
  },
  {
   "cell_type": "code",
   "execution_count": 50,
   "id": "d5b41cfe-4fae-410f-9777-ec80f063fc26",
   "metadata": {},
   "outputs": [
    {
     "data": {
      "image/png": "[encoded data removed]",
      "text/plain": [
       "<Figure size 640x480 with 2 Axes>"
      ]
     },
     "metadata": {},
     "output_type": "display_data"
    }
   ],
   "source": [
    "# Make a confusion matrix from y_test test data and the prediction classifications.\n",
    "confusion_matrix = confusion_matrix(y_test, prediction_classification)\n",
    "\n",
    "# Make a display instance for visual interpretation.\n",
    "display = ConfusionMatrixDisplay(confusion_matrix = confusion_matrix)\n",
    "\n",
    "# Show display.\n",
    "display.plot(cmap = plt.cm.Blues)\n",
    "plt.show()"
   ]
  },
  {
   "cell_type": "markdown",
   "id": "7288b6af-fef7-4e75-820c-8b364635fc97",
   "metadata": {},
   "source": [
    "&nbsp;&nbsp;&nbsp;&nbsp;&nbsp;&nbsp;Predicitve accuracy is the measure of just how well the model's predictions are aligned with the actual outcomes. The predictive accuracy of this neural network has an accuracy of approximately 80%. This suggests that the model is reasonably accurate and correctly predicts the outcomes, or positive/negative classification when a review is given. The level of accuracy for only one instance of parameter tuning is promising, yet leaves room for improvement. To improve the model, parameter tuning should be further assessed."
   ]
  },
  {
   "attachments": {},
   "cell_type": "markdown",
   "id": "3a202eeb-1b4d-47d2-8d5b-2c4575be1c0a",
   "metadata": {},
   "source": [
    "<br /><br /><br /><br /><br /><br /><br /><br /><br /><br /><br /><br /><br />"
   ]
  },
  {
   "cell_type": "markdown",
   "id": "deb8eb79-86db-4aea-be8d-5ad7aa870915",
   "metadata": {},
   "source": [
    "## Summary and Recommendations <a name=\"Summary-and-Recommendations\"></a>"
   ]
  },
  {
   "cell_type": "markdown",
   "id": "51b55b53-ffb4-48a2-af2e-8c5438d1471a",
   "metadata": {},
   "source": [
    "### E: Code <a name=\"Code\"></a>"
   ]
  },
  {
   "cell_type": "markdown",
   "id": "dc5328f6-75c2-4c57-a73b-22881018e0e3",
   "metadata": {},
   "source": [
    "*Provide the code to save the trained network within the neural network*."
   ]
  },
  {
   "cell_type": "code",
   "execution_count": 51,
   "id": "1ab9a231-7266-48b1-b9f1-dd924704aa2a",
   "metadata": {},
   "outputs": [
    {
     "name": "stderr",
     "output_type": "stream",
     "text": [
      "WARNING:absl:You are saving your model as an HDF5 file via `model.save()` or `keras.saving.save_model(model)`. This file format is considered legacy. We recommend using instead the native Keras format, e.g. `model.save('my_model.keras')` or `keras.saving.save_model(model, 'my_model.keras')`. \n"
     ]
    }
   ],
   "source": [
    "from tensorflow.keras.models import load_model\n",
    "\n",
    "# Save the model to a model file.\n",
    "model.save('Yelp_CNNs.h5')\n",
    "model.save('Yelp_CNNs.keras')"
   ]
  },
  {
   "attachments": {},
   "cell_type": "markdown",
   "id": "443aec2b-b2c3-4f85-a63a-5f437dd58883",
   "metadata": {},
   "source": [
    "<br /><br /><br /><br /><br /><br /><br /><br /><br /><br /><br /><br /><br /><br /><br /><br /><br /><br /><br /><br /><br /><br /><br /><br /><br />"
   ]
  },
  {
   "cell_type": "markdown",
   "id": "2d0a8c60-676c-4e6b-a132-624460ab14da",
   "metadata": {},
   "source": [
    "### F: Functionality <a name=\"Functionality\"></a>"
   ]
  },
  {
   "cell_type": "markdown",
   "id": "a772b7b9-a1eb-46d6-8bf1-9833adf418ac",
   "metadata": {},
   "source": [
    "*Discuss the functionality of the neural network, include the impact of the network architecture, the discussion should align with the research question*."
   ]
  },
  {
   "cell_type": "markdown",
   "id": "0aecf873-cdf5-4831-8190-13a980727bbe",
   "metadata": {},
   "source": [
    "&nbsp;&nbsp;&nbsp;&nbsp;&nbsp;&nbsp;The neural network is designed to classify text data and the sentiment as told in Yelp restaurant reviews. By doing analysis into the language left in each review, the network predicts the sentiment, positive or negative in order to address the question in A1. Previously in A1, the analysis started with the question, \"*How effectively can a neural network model, trained on the Yelp data set 'yelp_labelled.txt,' classify restaurant reviews into positive and negative sentiment categories?*\"<br />\n",
    "&nbsp;&nbsp;&nbsp;&nbsp;&nbsp;&nbsp;The neural network uses a Convolutional Neural Network (CNN) architechture which uses embedding, convolutional, pooling and dense layering components. Embedding layers transformed the text data into dense vectors of uniform size as required for neural networks. This captures the sentiment information of words in less space. Convulational layers were used to extract patterns from the embedded word vectors for the context of specific words. A pooling layer was used to reduce the dimensionality of the data for processing in the neural network. Lastly, dense layers were used to map the classification in order to decide the likeliness that a review is positive or negative."
   ]
  },
  {
   "attachments": {},
   "cell_type": "markdown",
   "id": "4edde1a1-62bd-4839-a8aa-c8a1ccca85d9",
   "metadata": {},
   "source": [
    "<br /><br /><br /><br /><br /><br /><br /><br /><br /><br /><br /><br /><br /><br /><br /><br /><br /><br /><br /><br />"
   ]
  },
  {
   "cell_type": "markdown",
   "id": "c0bd9211-b6a1-4e9e-835c-11d23ac41f41",
   "metadata": {},
   "source": [
    "### G: Recommendations <a name=\"Recommendations\"></a>"
   ]
  },
  {
   "cell_type": "markdown",
   "id": "aa3f1af0-457b-4679-b72d-1698544126bc",
   "metadata": {},
   "source": [
    "*Recommend a course of action based on the results related to the research question*."
   ]
  },
  {
   "cell_type": "markdown",
   "id": "05d71b1f-487f-4106-93b4-1dedde697ae8",
   "metadata": {},
   "source": [
    "**Course of Action**:<br />\n",
    "- R.**1**: Enhance the model.<br /><br />\n",
    "&nbsp;&nbsp;&nbsp;&nbsp;&nbsp;&nbsp;Given the discrepency between the predicted and actual sentiments, tuning the model and training process is recommended. This could involve anything from changing the hyperparameters to trying new layer configurations. The higher the accuracy is the better the model is in determining the positive or negative sentiment of Yelp reviews.<br /><br />\n",
    "- R.**2**: Get more data.<br /><br />\n",
    "&nbsp;&nbsp;&nbsp;&nbsp;&nbsp;&nbsp;Expanding the data set with more Yelp reviews introduces a wider variety of texts that could be beneficial in training. Collecting more, but similar-esk data may assist in developing the model even further hopefully yielding higher accuracy.<br /><br />\n",
    "- R.**3**: Review.<br /><br />\n",
    "&nbsp;&nbsp;&nbsp;&nbsp;&nbsp;&nbsp;Develop a routine for reviewing the performance of the model to ensure the accuracy remains high as new yelp review data is collected and social behavior changes over time.<br /><br />"
   ]
  },
  {
   "cell_type": "markdown",
   "id": "649ed80e-56a6-4d03-9642-6b18d75e8acd",
   "metadata": {},
   "source": [
    "<br /><br /><br /><br /><br /><br /><br /><br /><br /><br /><br /><br />"
   ]
  },
  {
   "cell_type": "markdown",
   "id": "42e2b302-f613-4bfa-82a9-ff095a6f5bc4",
   "metadata": {},
   "source": [
    "## Reporting <a name=\"Reporting\"></a>"
   ]
  },
  {
   "cell_type": "markdown",
   "id": "8be7ed0a-fe7c-4dd3-901b-55de20329677",
   "metadata": {},
   "source": [
    "### Sources for Third-Party Code <a name=\"Sources-for-Third--Party-Code\"></a>"
   ]
  },
  {
   "cell_type": "markdown",
   "id": "340e0405-7077-4aff-8946-b5c5ace144f9",
   "metadata": {},
   "source": [
    "https://pandas.pydata.org/docs/reference/api/pandas.read_csv.html<br /><br />\n",
    "https://pandas.pydata.org/docs/reference/api/pandas.DataFrame.query.html<br /><br />\n",
    "WGU DataCamp Resource."
   ]
  },
  {
   "cell_type": "markdown",
   "id": "6bd21b30-99d7-45be-abc8-b6929a91333d",
   "metadata": {},
   "source": [
    "### Sources <a name=\"Sources\"></a>"
   ]
  },
  {
   "cell_type": "markdown",
   "id": "8a4182b7-1e7c-40ca-b339-8a4aa3588d25",
   "metadata": {},
   "source": [
    "Brownlee, J. (2020, September 2). Deep Convolutional Neural Network for Sentiment Analysis (Text Classification). MachineLearningMastery.com. https://machinelearningmastery.com/develop-word-embedding-model-predicting-movie-review-sentiment/<br /><br />\n",
    "Dive Into Deep Learning. (n.d.). 16.3. Sentiment Analysis: Using Convolutional Neural Networks. 16.3. Sentiment Analysis: Using Convolutional Neural Networks - Dive into Deep Learning 1.0.3 documentation. https://d2l.ai/chapter_natural-language-processing-applications/sentiment-analysis-cnn.html<br /><br /> \n",
    "IBM. (2021, October 6). What are convolutional neural networks?. IBM. https://www.ibm.com/topics/convolutional-neural-networks<br /><br /> \n",
    "Kumar, S. G. (2022, September 1). A comparison of sentiment analysis models using NLP on Movie Reviews. Medium. https://medium.com/@sridhargkumar11/a-comparison-of-sentiment-analysis-models-using-nlp-on-movie-reviews-980bde64c646<br /><br />\n",
    "WGU DataCamp Resource."
   ]
  }
 ],
 "metadata": {
  "kernelspec": {
   "display_name": "Python 3 (ipykernel)",
   "language": "python",
   "name": "python3"
  },
  "language_info": {
   "codemirror_mode": {
    "name": "ipython",
    "version": 3
   },
   "file_extension": ".py",
   "mimetype": "text/x-python",
   "name": "python",
   "nbconvert_exporter": "python",
   "pygments_lexer": "ipython3",
   "version": "3.11.7"
  }
 },
 "nbformat": 4,
 "nbformat_minor": 5
}
